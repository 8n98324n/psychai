{
 "cells": [
  {
   "attachments": {},
   "cell_type": "markdown",
   "metadata": {},
   "source": [
    "# Feature Extraction - Data Preparation for LLM"
   ]
  },
  {
   "cell_type": "code",
   "execution_count": null,
   "metadata": {},
   "outputs": [],
   "source": [
    "import cv2\n",
    "import os\n",
    "\n",
    "# Path to the main folder containing subfolders (001 to 120)\n",
    "# main_folder_path = r\"E:\\Backup\\Experiments\\Moral Elevation\\Disk1_2_combined\\FS-9 Day 1\"\n",
    "main_folder_path = r\"G:\\Backup\\Experiments\\Emotional_Exhausion\\PS-11\\Results\"\n",
    "# Path to the folder where you want to save extracted frames\n",
    "output_folder_path = r\"C:\\Working\\Programming\\Python\\psychai_v1\\example\\paper5_mmer_moral\\results\\mmllm\\frame_output_20241114\""
   ]
  },
  {
   "cell_type": "code",
   "execution_count": null,
   "metadata": {},
   "outputs": [],
   "source": [
    "import os\n",
    "import cv2\n",
    "\n",
    "# Create the output folder if it doesn't exist\n",
    "os.makedirs(output_folder_path, exist_ok=True)\n",
    "\n",
    "# Iterate through each subfolder (001 to 120)\n",
    "for i in range(1, 93):\n",
    "    subfolder_name = f\"{i:03}\"  # Format to match \"001\", \"002\", etc.\n",
    "    subfolder_path = os.path.join(main_folder_path, subfolder_name, \"RecordedVideo\")\n",
    "    \n",
    "    # Check if \"Recorded_Video\" folder exists in the subfolder\n",
    "    if not os.path.exists(subfolder_path):\n",
    "        print(f\"No 'Recorded_Video' folder found in {subfolder_path}\")\n",
    "        continue\n",
    "\n",
    "    # Track the largest video file that meets the condition\n",
    "    largest_video_file = None\n",
    "    largest_video_size = 0  # Initialize with 0 to compare file sizes\n",
    "\n",
    "    # Iterate through each video in the \"Recorded_Video\" folder\n",
    "    for video_file in os.listdir(subfolder_path):\n",
    "        if video_file.endswith((\".mp4\", \".avi\", \".mov\")):  # Adjust based on your video file formats\n",
    "            # Check if the step number (3rd element separated by '_') is '23'\n",
    "            file_parts = video_file.split(\"_\")\n",
    "            if len(file_parts) > 2 and file_parts[2] == \"23\":\n",
    "                # Get the full file path\n",
    "                video_path = os.path.join(subfolder_path, video_file)\n",
    "                \n",
    "                # Get the size of the current video file\n",
    "                video_size = os.path.getsize(video_path)\n",
    "\n",
    "                # Update if this file is larger than the previously found file\n",
    "                if video_size > largest_video_size:\n",
    "                    largest_video_size = video_size\n",
    "                    largest_video_file = video_file\n",
    "\n",
    "    # Process the largest video file if found\n",
    "    if largest_video_file:\n",
    "        video_path = os.path.join(subfolder_path, largest_video_file)\n",
    "        cap = cv2.VideoCapture(video_path)\n",
    "\n",
    "        frame_count = int(cap.get(cv2.CAP_PROP_FRAME_COUNT))\n",
    "        frame_positions = [\n",
    "            int(frame_count * 0.10),  # 10% of the video\n",
    "            int(frame_count * 0.50),  # 50% of the video\n",
    "            int(frame_count * 0.90),  # 90% of the video\n",
    "        ]\n",
    "\n",
    "        # Extract and save frames\n",
    "        for idx, frame_position in enumerate(frame_positions, start=1):\n",
    "            cap.set(cv2.CAP_PROP_POS_FRAMES, frame_position)\n",
    "            success, frame = cap.read()\n",
    "            if success:\n",
    "                # Define output filename as original filename with a sequence number\n",
    "                output_filename = f\"{os.path.splitext(largest_video_file)[0]}_frame_{idx}.jpg\"\n",
    "                output_path = os.path.join(output_folder_path, output_filename)\n",
    "                cv2.imwrite(output_path, frame)\n",
    "                print(f\"Saved frame {idx} of {largest_video_file} to {output_path}\")\n",
    "            else:\n",
    "                print(f\"Failed to read frame at position {frame_position} in {largest_video_file}\")\n",
    "\n",
    "        cap.release()\n",
    "\n",
    "print(\"Frame extraction complete.\")\n"
   ]
  },
  {
   "cell_type": "markdown",
   "metadata": {},
   "source": [
    "## Footnote\n",
    "- Copyright：Ivan Liu \n",
    "- Last Update: 2024\n",
    "- Env：course_9\n",
    "- References: \n",
    "    - https://github.com/PrudhviGNV/Speech-Emotion-Recognization"
   ]
  }
 ],
 "metadata": {
  "kernelspec": {
   "display_name": "psychai241104",
   "language": "python",
   "name": "python3"
  },
  "language_info": {
   "codemirror_mode": {
    "name": "ipython",
    "version": 3
   },
   "file_extension": ".py",
   "mimetype": "text/x-python",
   "name": "python",
   "nbconvert_exporter": "python",
   "pygments_lexer": "ipython3",
   "version": "3.12.1"
  },
  "orig_nbformat": 4
 },
 "nbformat": 4,
 "nbformat_minor": 2
}
