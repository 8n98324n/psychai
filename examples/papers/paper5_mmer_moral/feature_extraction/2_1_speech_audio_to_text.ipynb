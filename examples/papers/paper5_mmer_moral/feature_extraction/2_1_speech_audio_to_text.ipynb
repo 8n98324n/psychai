{
 "cells": [
  {
   "cell_type": "markdown",
   "metadata": {},
   "source": [
    "# Speech To Text with LLM"
   ]
  },
  {
   "cell_type": "markdown",
   "metadata": {},
   "source": [
    "## Feature Extraction - Audio To Text"
   ]
  },
  {
   "cell_type": "markdown",
   "metadata": {},
   "source": [
    "### Environment Preparation"
   ]
  },
  {
   "cell_type": "code",
   "execution_count": null,
   "metadata": {},
   "outputs": [],
   "source": [
    "# Import necessary libraries and modules\n",
    "\n",
    "# Operating System module - provides functions for interacting with the operating system\n",
    "import os\n",
    "\n",
    "# IPython display module to play audio in Jupyter notebooks\n",
    "from IPython.display import Audio\n",
    "\n",
    "# Hugging Face library for datasets - helps load and process datasets\n",
    "from datasets import load_dataset\n",
    "\n",
    "# Transformer library to load and use the Whisper model for audio-to-text tasks\n",
    "from transformers import WhisperProcessor, WhisperForConditionalGeneration\n",
    "\n",
    "# Librosa - a library for analyzing audio and music; provides audio processing tools\n",
    "import librosa\n",
    "\n",
    "# PyTorch - a deep learning framework used for managing model computations and GPU compatibility\n",
    "import torch\n",
    "\n",
    "# System-specific parameters and functions, e.g., to modify the Python path\n",
    "import sys\n",
    "\n",
    "\n",
    "# Set cache locations for Hugging Face and datasets\n",
    "\n",
    "# Retrieve the Hugging Face cache directory from the environment variable and convert it to an absolute path.\n",
    "# This path is used to store pre-trained models to avoid downloading them multiple times.\n",
    "huggingface_cache_location = r\"../../resources/huggingface_cache\"\n",
    "\n",
    "# # Retrieve the datasets cache directory from the environment variable and convert it to an absolute path.\n",
    "# # This is the location where datasets are cached after initial download, helping save bandwidth and time.\n",
    "# datasets_cache_location = os.path.abspath(\"../../../\" + os.getenv(\"datasets_cache_location\"))\n",
    "\n",
    "# Set up the parent directory for custom modules\n",
    "\n",
    "# Define the current directory path. This is useful if you have a custom module or scripts located in a current\n",
    "# directory that you want to import into this script.\n",
    "current_dir = os.path.abspath('./')\n",
    "\n",
    "# Add the parent directory path to the Python path (sys.path), which allows importing modules from it.\n",
    "sys.path.append(current_dir)\n",
    "\n",
    "# Import any custom utilities located in the parent directory\n",
    "# This step is optional and depends on whether you have additional scripts, such as helper functions, in the parent directory.\n",
    "import local_utilities\n",
    "\n",
    "data_helper = local_utilities.DataHelper()\n",
    "\n",
    "# Set device to GPU if available, otherwise default to CPU\n",
    "\n",
    "# Check if a CUDA-compatible GPU is available, and if so, set the device to GPU.\n",
    "# This enables faster model processing by utilizing the GPU for heavy computations.\n",
    "# If no GPU is available, the device will be set to CPU.\n",
    "device = torch.device(\"cuda\" if torch.cuda.is_available() else \"cpu\")\n"
   ]
  },
  {
   "cell_type": "markdown",
   "metadata": {},
   "source": [
    "### Function Definitions"
   ]
  },
  {
   "cell_type": "code",
   "execution_count": null,
   "metadata": {},
   "outputs": [],
   "source": [
    "import numpy as np\n",
    "import pandas as pd\n",
    "import psychai.feature.feature_extraction.feature_processor\n",
    "import cv2\n",
    "import matplotlib.pyplot as plt\n",
    "from matplotlib.backends.backend_agg import FigureCanvasAgg as FigureCanvas\n",
    "\n",
    "\n",
    "class SpeechToTextExtractor:\n",
    "\n",
    "    def __init__(self, processor, model):\n",
    "        self.processor = processor\n",
    "        self.model = model\n",
    "        pass\n",
    "\n",
    "    # def summarized_process_folder(self,input_file_fullname):\n",
    "\n",
    "    #     # Extract features using multiple strategies and plot them\n",
    "    #     strategies = ['mean', 'variance', 'max', 'end_to_begin']\n",
    "        \n",
    "    #     try:\n",
    "    #         features, feature_names = self.process_audio_with_file_path(input_file_fullname)\n",
    "    #     except Exception as e:\n",
    "    #         print(f\"Error: {e}\")\n",
    "    #         return None, None   \n",
    "\n",
    "    #     # Summarize features using the specified strategies\n",
    "    #     processor = psychai.feature.feature_extraction.feature_processor.FeatureProcessor()\n",
    "    #     #processor = FeatureProcessor()\n",
    "    #     summarized_features, summarized_feature_names = processor.summarize_features(features, strategies, feature_names)\n",
    "\n",
    "    #     return summarized_features, summarized_feature_names  \n",
    "\n",
    "    def process_audio_with_file_path(self, file_path):\n",
    "\n",
    "        # 加载WAV文件\n",
    "        # 使用librosa.load函数加载音频文件。设置sr=None以保持音频的原始采样率\n",
    "        signal, sr = librosa.load(file_path, sr=None)  # sr=None 保留原始采样率\n",
    "\n",
    "        # 对音频信号进行重采样\n",
    "        # 将音频信号从原始采样率重采样到16000Hz，这是因为Whisper模型需要固定的采样率\n",
    "        resampled_signal = librosa.resample(signal, orig_sr=sr, target_sr=16000)\n",
    "\n",
    "        return self.process_audio_as_array(resampled_signal)\n",
    "\n",
    "    def process_audio_as_array(self, sample):\n",
    "\n",
    "        # 使用处理器处理音频样本，这里需要传入音频数组和采样率，并将结果转换为PyTorch张量\n",
    "        input_features = self.processor(sample, sampling_rate=16000, return_tensors=\"pt\").input_features \n",
    "\n",
    "        # 使用模型生成预测的token ids\n",
    "        predicted_ids = self.model.generate(input_features)\n",
    "        # 将token ids解码为文本\n",
    "        transcription = self.processor.batch_decode(predicted_ids, skip_special_tokens=False)\n",
    "        # 打印转录文本\n",
    "        print(transcription)\n",
    "\n",
    "        return np.array([transcription]), ['transcription']\n",
    "\n",
    "    def process_audio_from_datasets(self, sample):\n",
    "\n",
    "        # 使用处理器处理音频样本，这里需要传入音频数组和采样率，并将结果转换为PyTorch张量\n",
    "        input_features = self.processor(sample[\"array\"], sampling_rate=sample[\"sampling_rate\"], return_tensors=\"pt\").input_features \n",
    "\n",
    "        # 使用模型生成预测的token ids\n",
    "        predicted_ids = self.model.generate(input_features)\n",
    "        # 将token ids解码为文本\n",
    "        transcription = self.processor.batch_decode(predicted_ids, skip_special_tokens=False)\n",
    "        # 打印转录文本\n",
    "        print(transcription)\n",
    "\n",
    "        return transcription\n",
    "\n",
    "        # # 将重采样后的音频信号处理为模型的输入特征\n",
    "        # # 使用Whisper处理器处理重采样后的信号，并将采样率设置为16000Hz。return_tensors=\"pt\"表明返回的是PyTorch张量\n",
    "        # input_features = self.processor(signal, sampling_rate=16000, return_tensors=\"pt\").input_features \n",
    "\n",
    "        # # 生成token id\n",
    "        # # 使用模型的generate方法根据输入特征生成预测的token id\n",
    "        # predicted_ids = self.model.generate(input_features)\n",
    "\n",
    "        # # 将token id解码为文本\n",
    "        # # 使用处理器的batch_decode方法将预测的token id解码成文本，skip_special_tokens=False表明不跳过特殊token\n",
    "        # transcription = self.processor.batch_decode(predicted_ids, skip_special_tokens=False)\n",
    "\n",
    "        # # 打印转录结果\n",
    "        # return transcription\n",
    "\n",
    "# # Define a function to clean up the text in each row\n",
    "# def clean_text(text):\n",
    "#     # Check if both markers exist in the text\n",
    "#     start_marker = \"<|notimestamps|>\"\n",
    "#     end_marker = \"<|endoftext|>\"\n",
    "    \n",
    "#     if start_marker in text and end_marker in text:\n",
    "#         # Find the start and end positions of the markers\n",
    "#         start_idx = text.find(start_marker) + len(start_marker)\n",
    "#         end_idx = text.find(end_marker)\n",
    "        \n",
    "#         # Extract the text between the markers\n",
    "#         return text[start_idx:end_idx].strip()  # .strip() to remove any leading/trailing spaces\n",
    "#     else:\n",
    "#         # If markers are not found, return the original text\n",
    "#         return text\n",
    "    \n",
    "# # Group by user_id\n",
    "# def calculate_mean_by_user_id(df):\n",
    "#     # Step 1: Check consistency in non-numerical columns\n",
    "#     df_consistent = df.groupby('user_id').apply(check_non_numerical_consistency).reset_index(drop=True)\n",
    "\n",
    "#     # Step 2: Calculate mean for numerical columns\n",
    "#     df_mean = df.groupby('user_id').mean(numeric_only=True).reset_index()\n",
    "\n",
    "#     # Step 3: Add back consistent non-numerical columns\n",
    "#     # Ensure 'user_id' is present in non_numerical_columns subset\n",
    "#     non_numerical_columns = df_consistent[['user_id'] + df_consistent.select_dtypes(include=['object']).columns.tolist()].drop_duplicates(subset=['user_id'])\n",
    "    \n",
    "#     df_mean = pd.merge(df_mean, non_numerical_columns, on='user_id', how='left')\n",
    "\n",
    "#     return df_mean\n",
    "\n",
    "\n",
    "# # Group by user_id\n",
    "# def calculate_mean_by_user_id(df):\n",
    "#     # Step 1: Check consistency in non-numerical columns\n",
    "#     df_consistent = df.groupby('user_id').apply(check_non_numerical_consistency).reset_index(drop=True)\n",
    "\n",
    "#     # Step 2: Calculate mean for numerical columns\n",
    "#     df_mean = df.groupby('user_id').mean(numeric_only=True).reset_index()\n",
    "\n",
    "#     # Step 3: Add back consistent non-numerical columns\n",
    "#     # Ensure 'user_id' is present in non_numerical_columns subset\n",
    "#     non_numerical_columns = df_consistent[['user_id'] + df_consistent.select_dtypes(include=['object']).columns.tolist()].drop_duplicates(subset=['user_id'])\n",
    "    \n",
    "#     df_mean = pd.merge(df_mean, non_numerical_columns, on='user_id', how='left')\n",
    "\n",
    "#     return df_mean\n",
    "\n",
    "# # Function to check consistency in non-numerical columns\n",
    "# def check_non_numerical_consistency(group):\n",
    "#     for col in group.select_dtypes(include=['object']).columns:\n",
    "#         if group[col].nunique() > 1:\n",
    "#             raise ValueError(f\"Inconsistent values found in column '{col}' for user_id '{group.name}'\")\n",
    "#     return group.iloc[0]  # Return the first row for consistent non-numerical columns\n"
   ]
  },
  {
   "cell_type": "markdown",
   "metadata": {},
   "source": [
    "### Initialization"
   ]
  },
  {
   "cell_type": "code",
   "execution_count": 26,
   "metadata": {},
   "outputs": [
    {
     "ename": "KeyboardInterrupt",
     "evalue": "",
     "output_type": "error",
     "traceback": [
      "\u001b[1;31m---------------------------------------------------------------------------\u001b[0m",
      "\u001b[1;31mKeyboardInterrupt\u001b[0m                         Traceback (most recent call last)",
      "Cell \u001b[1;32mIn[26], line 2\u001b[0m\n\u001b[0;32m      1\u001b[0m \u001b[38;5;66;03m# 从预训练的模型中加载Whisper处理器和模型\u001b[39;00m\n\u001b[1;32m----> 2\u001b[0m processor \u001b[38;5;241m=\u001b[39m \u001b[43mWhisperProcessor\u001b[49m\u001b[38;5;241;43m.\u001b[39;49m\u001b[43mfrom_pretrained\u001b[49m\u001b[43m(\u001b[49m\u001b[38;5;124;43m\"\u001b[39;49m\u001b[38;5;124;43mopenai/whisper-large-v2\u001b[39;49m\u001b[38;5;124;43m\"\u001b[39;49m\u001b[43m,\u001b[49m\u001b[43m \u001b[49m\u001b[43mcache_dir\u001b[49m\u001b[38;5;241;43m=\u001b[39;49m\u001b[43mhuggingface_cache_location\u001b[49m\u001b[43m)\u001b[49m\n\u001b[0;32m      3\u001b[0m model \u001b[38;5;241m=\u001b[39m WhisperForConditionalGeneration\u001b[38;5;241m.\u001b[39mfrom_pretrained(\u001b[38;5;124m\"\u001b[39m\u001b[38;5;124mopenai/whisper-large-v2\u001b[39m\u001b[38;5;124m\"\u001b[39m, cache_dir\u001b[38;5;241m=\u001b[39mhuggingface_cache_location)\n\u001b[0;32m      4\u001b[0m model\u001b[38;5;241m.\u001b[39mconfig\u001b[38;5;241m.\u001b[39mforced_decoder_ids \u001b[38;5;241m=\u001b[39m \u001b[38;5;28;01mNone\u001b[39;00m  \u001b[38;5;66;03m# 确保模型不会强制使用解码器ID\u001b[39;00m\n",
      "File \u001b[1;32mc:\\Users\\reclu\\anaconda3\\envs\\psychai241104\\Lib\\site-packages\\transformers\\processing_utils.py:945\u001b[0m, in \u001b[0;36mProcessorMixin.from_pretrained\u001b[1;34m(cls, pretrained_model_name_or_path, cache_dir, force_download, local_files_only, token, revision, **kwargs)\u001b[0m\n\u001b[0;32m    942\u001b[0m     kwargs[\u001b[38;5;124m\"\u001b[39m\u001b[38;5;124mtoken\u001b[39m\u001b[38;5;124m\"\u001b[39m] \u001b[38;5;241m=\u001b[39m token\n\u001b[0;32m    944\u001b[0m args \u001b[38;5;241m=\u001b[39m \u001b[38;5;28mcls\u001b[39m\u001b[38;5;241m.\u001b[39m_get_arguments_from_pretrained(pretrained_model_name_or_path, \u001b[38;5;241m*\u001b[39m\u001b[38;5;241m*\u001b[39mkwargs)\n\u001b[1;32m--> 945\u001b[0m processor_dict, kwargs \u001b[38;5;241m=\u001b[39m \u001b[38;5;28;43mcls\u001b[39;49m\u001b[38;5;241;43m.\u001b[39;49m\u001b[43mget_processor_dict\u001b[49m\u001b[43m(\u001b[49m\u001b[43mpretrained_model_name_or_path\u001b[49m\u001b[43m,\u001b[49m\u001b[43m \u001b[49m\u001b[38;5;241;43m*\u001b[39;49m\u001b[38;5;241;43m*\u001b[39;49m\u001b[43mkwargs\u001b[49m\u001b[43m)\u001b[49m\n\u001b[0;32m    947\u001b[0m \u001b[38;5;28;01mreturn\u001b[39;00m \u001b[38;5;28mcls\u001b[39m\u001b[38;5;241m.\u001b[39mfrom_args_and_dict(args, processor_dict, \u001b[38;5;241m*\u001b[39m\u001b[38;5;241m*\u001b[39mkwargs)\n",
      "File \u001b[1;32mc:\\Users\\reclu\\anaconda3\\envs\\psychai241104\\Lib\\site-packages\\transformers\\processing_utils.py:639\u001b[0m, in \u001b[0;36mProcessorMixin.get_processor_dict\u001b[1;34m(cls, pretrained_model_name_or_path, **kwargs)\u001b[0m\n\u001b[0;32m    621\u001b[0m     resolved_processor_file \u001b[38;5;241m=\u001b[39m cached_file(\n\u001b[0;32m    622\u001b[0m         pretrained_model_name_or_path,\n\u001b[0;32m    623\u001b[0m         processor_file,\n\u001b[1;32m   (...)\u001b[0m\n\u001b[0;32m    633\u001b[0m         _raise_exceptions_for_missing_entries\u001b[38;5;241m=\u001b[39m\u001b[38;5;28;01mFalse\u001b[39;00m,\n\u001b[0;32m    634\u001b[0m     )\n\u001b[0;32m    636\u001b[0m     \u001b[38;5;66;03m# Load chat template from a separate json if exists\u001b[39;00m\n\u001b[0;32m    637\u001b[0m     \u001b[38;5;66;03m# because making it part of processor-config break BC.\u001b[39;00m\n\u001b[0;32m    638\u001b[0m     \u001b[38;5;66;03m# Processors in older version do not accept any kwargs\u001b[39;00m\n\u001b[1;32m--> 639\u001b[0m     resolved_chat_template_file \u001b[38;5;241m=\u001b[39m \u001b[43mcached_file\u001b[49m\u001b[43m(\u001b[49m\n\u001b[0;32m    640\u001b[0m \u001b[43m        \u001b[49m\u001b[43mpretrained_model_name_or_path\u001b[49m\u001b[43m,\u001b[49m\n\u001b[0;32m    641\u001b[0m \u001b[43m        \u001b[49m\u001b[43mchat_template_file\u001b[49m\u001b[43m,\u001b[49m\n\u001b[0;32m    642\u001b[0m \u001b[43m        \u001b[49m\u001b[43mcache_dir\u001b[49m\u001b[38;5;241;43m=\u001b[39;49m\u001b[43mcache_dir\u001b[49m\u001b[43m,\u001b[49m\n\u001b[0;32m    643\u001b[0m \u001b[43m        \u001b[49m\u001b[43mforce_download\u001b[49m\u001b[38;5;241;43m=\u001b[39;49m\u001b[43mforce_download\u001b[49m\u001b[43m,\u001b[49m\n\u001b[0;32m    644\u001b[0m \u001b[43m        \u001b[49m\u001b[43mproxies\u001b[49m\u001b[38;5;241;43m=\u001b[39;49m\u001b[43mproxies\u001b[49m\u001b[43m,\u001b[49m\n\u001b[0;32m    645\u001b[0m \u001b[43m        \u001b[49m\u001b[43mresume_download\u001b[49m\u001b[38;5;241;43m=\u001b[39;49m\u001b[43mresume_download\u001b[49m\u001b[43m,\u001b[49m\n\u001b[0;32m    646\u001b[0m \u001b[43m        \u001b[49m\u001b[43mlocal_files_only\u001b[49m\u001b[38;5;241;43m=\u001b[39;49m\u001b[43mlocal_files_only\u001b[49m\u001b[43m,\u001b[49m\n\u001b[0;32m    647\u001b[0m \u001b[43m        \u001b[49m\u001b[43mtoken\u001b[49m\u001b[38;5;241;43m=\u001b[39;49m\u001b[43mtoken\u001b[49m\u001b[43m,\u001b[49m\n\u001b[0;32m    648\u001b[0m \u001b[43m        \u001b[49m\u001b[43muser_agent\u001b[49m\u001b[38;5;241;43m=\u001b[39;49m\u001b[43muser_agent\u001b[49m\u001b[43m,\u001b[49m\n\u001b[0;32m    649\u001b[0m \u001b[43m        \u001b[49m\u001b[43mrevision\u001b[49m\u001b[38;5;241;43m=\u001b[39;49m\u001b[43mrevision\u001b[49m\u001b[43m,\u001b[49m\n\u001b[0;32m    650\u001b[0m \u001b[43m        \u001b[49m\u001b[43msubfolder\u001b[49m\u001b[38;5;241;43m=\u001b[39;49m\u001b[43msubfolder\u001b[49m\u001b[43m,\u001b[49m\n\u001b[0;32m    651\u001b[0m \u001b[43m        \u001b[49m\u001b[43m_raise_exceptions_for_missing_entries\u001b[49m\u001b[38;5;241;43m=\u001b[39;49m\u001b[38;5;28;43;01mFalse\u001b[39;49;00m\u001b[43m,\u001b[49m\n\u001b[0;32m    652\u001b[0m \u001b[43m    \u001b[49m\u001b[43m)\u001b[49m\n\u001b[0;32m    653\u001b[0m \u001b[38;5;28;01mexcept\u001b[39;00m \u001b[38;5;167;01mEnvironmentError\u001b[39;00m:\n\u001b[0;32m    654\u001b[0m     \u001b[38;5;66;03m# Raise any environment error raise by `cached_file`. It will have a helpful error message adapted to\u001b[39;00m\n\u001b[0;32m    655\u001b[0m     \u001b[38;5;66;03m# the original exception.\u001b[39;00m\n\u001b[0;32m    656\u001b[0m     \u001b[38;5;28;01mraise\u001b[39;00m\n",
      "File \u001b[1;32mc:\\Users\\reclu\\anaconda3\\envs\\psychai241104\\Lib\\site-packages\\transformers\\utils\\hub.py:403\u001b[0m, in \u001b[0;36mcached_file\u001b[1;34m(path_or_repo_id, filename, cache_dir, force_download, resume_download, proxies, token, revision, local_files_only, subfolder, repo_type, user_agent, _raise_exceptions_for_gated_repo, _raise_exceptions_for_missing_entries, _raise_exceptions_for_connection_errors, _commit_hash, **deprecated_kwargs)\u001b[0m\n\u001b[0;32m    400\u001b[0m user_agent \u001b[38;5;241m=\u001b[39m http_user_agent(user_agent)\n\u001b[0;32m    401\u001b[0m \u001b[38;5;28;01mtry\u001b[39;00m:\n\u001b[0;32m    402\u001b[0m     \u001b[38;5;66;03m# Load from URL or cache if already cached\u001b[39;00m\n\u001b[1;32m--> 403\u001b[0m     resolved_file \u001b[38;5;241m=\u001b[39m \u001b[43mhf_hub_download\u001b[49m\u001b[43m(\u001b[49m\n\u001b[0;32m    404\u001b[0m \u001b[43m        \u001b[49m\u001b[43mpath_or_repo_id\u001b[49m\u001b[43m,\u001b[49m\n\u001b[0;32m    405\u001b[0m \u001b[43m        \u001b[49m\u001b[43mfilename\u001b[49m\u001b[43m,\u001b[49m\n\u001b[0;32m    406\u001b[0m \u001b[43m        \u001b[49m\u001b[43msubfolder\u001b[49m\u001b[38;5;241;43m=\u001b[39;49m\u001b[38;5;28;43;01mNone\u001b[39;49;00m\u001b[43m \u001b[49m\u001b[38;5;28;43;01mif\u001b[39;49;00m\u001b[43m \u001b[49m\u001b[38;5;28;43mlen\u001b[39;49m\u001b[43m(\u001b[49m\u001b[43msubfolder\u001b[49m\u001b[43m)\u001b[49m\u001b[43m \u001b[49m\u001b[38;5;241;43m==\u001b[39;49m\u001b[43m \u001b[49m\u001b[38;5;241;43m0\u001b[39;49m\u001b[43m \u001b[49m\u001b[38;5;28;43;01melse\u001b[39;49;00m\u001b[43m \u001b[49m\u001b[43msubfolder\u001b[49m\u001b[43m,\u001b[49m\n\u001b[0;32m    407\u001b[0m \u001b[43m        \u001b[49m\u001b[43mrepo_type\u001b[49m\u001b[38;5;241;43m=\u001b[39;49m\u001b[43mrepo_type\u001b[49m\u001b[43m,\u001b[49m\n\u001b[0;32m    408\u001b[0m \u001b[43m        \u001b[49m\u001b[43mrevision\u001b[49m\u001b[38;5;241;43m=\u001b[39;49m\u001b[43mrevision\u001b[49m\u001b[43m,\u001b[49m\n\u001b[0;32m    409\u001b[0m \u001b[43m        \u001b[49m\u001b[43mcache_dir\u001b[49m\u001b[38;5;241;43m=\u001b[39;49m\u001b[43mcache_dir\u001b[49m\u001b[43m,\u001b[49m\n\u001b[0;32m    410\u001b[0m \u001b[43m        \u001b[49m\u001b[43muser_agent\u001b[49m\u001b[38;5;241;43m=\u001b[39;49m\u001b[43muser_agent\u001b[49m\u001b[43m,\u001b[49m\n\u001b[0;32m    411\u001b[0m \u001b[43m        \u001b[49m\u001b[43mforce_download\u001b[49m\u001b[38;5;241;43m=\u001b[39;49m\u001b[43mforce_download\u001b[49m\u001b[43m,\u001b[49m\n\u001b[0;32m    412\u001b[0m \u001b[43m        \u001b[49m\u001b[43mproxies\u001b[49m\u001b[38;5;241;43m=\u001b[39;49m\u001b[43mproxies\u001b[49m\u001b[43m,\u001b[49m\n\u001b[0;32m    413\u001b[0m \u001b[43m        \u001b[49m\u001b[43mresume_download\u001b[49m\u001b[38;5;241;43m=\u001b[39;49m\u001b[43mresume_download\u001b[49m\u001b[43m,\u001b[49m\n\u001b[0;32m    414\u001b[0m \u001b[43m        \u001b[49m\u001b[43mtoken\u001b[49m\u001b[38;5;241;43m=\u001b[39;49m\u001b[43mtoken\u001b[49m\u001b[43m,\u001b[49m\n\u001b[0;32m    415\u001b[0m \u001b[43m        \u001b[49m\u001b[43mlocal_files_only\u001b[49m\u001b[38;5;241;43m=\u001b[39;49m\u001b[43mlocal_files_only\u001b[49m\u001b[43m,\u001b[49m\n\u001b[0;32m    416\u001b[0m \u001b[43m    \u001b[49m\u001b[43m)\u001b[49m\n\u001b[0;32m    417\u001b[0m \u001b[38;5;28;01mexcept\u001b[39;00m GatedRepoError \u001b[38;5;28;01mas\u001b[39;00m e:\n\u001b[0;32m    418\u001b[0m     resolved_file \u001b[38;5;241m=\u001b[39m _get_cache_file_to_return(path_or_repo_id, full_filename, cache_dir, revision)\n",
      "File \u001b[1;32mc:\\Users\\reclu\\anaconda3\\envs\\psychai241104\\Lib\\site-packages\\huggingface_hub\\utils\\_validators.py:114\u001b[0m, in \u001b[0;36mvalidate_hf_hub_args.<locals>._inner_fn\u001b[1;34m(*args, **kwargs)\u001b[0m\n\u001b[0;32m    111\u001b[0m \u001b[38;5;28;01mif\u001b[39;00m check_use_auth_token:\n\u001b[0;32m    112\u001b[0m     kwargs \u001b[38;5;241m=\u001b[39m smoothly_deprecate_use_auth_token(fn_name\u001b[38;5;241m=\u001b[39mfn\u001b[38;5;241m.\u001b[39m\u001b[38;5;18m__name__\u001b[39m, has_token\u001b[38;5;241m=\u001b[39mhas_token, kwargs\u001b[38;5;241m=\u001b[39mkwargs)\n\u001b[1;32m--> 114\u001b[0m \u001b[38;5;28;01mreturn\u001b[39;00m \u001b[43mfn\u001b[49m\u001b[43m(\u001b[49m\u001b[38;5;241;43m*\u001b[39;49m\u001b[43margs\u001b[49m\u001b[43m,\u001b[49m\u001b[43m \u001b[49m\u001b[38;5;241;43m*\u001b[39;49m\u001b[38;5;241;43m*\u001b[39;49m\u001b[43mkwargs\u001b[49m\u001b[43m)\u001b[49m\n",
      "File \u001b[1;32mc:\\Users\\reclu\\anaconda3\\envs\\psychai241104\\Lib\\site-packages\\huggingface_hub\\file_download.py:862\u001b[0m, in \u001b[0;36mhf_hub_download\u001b[1;34m(repo_id, filename, subfolder, repo_type, revision, library_name, library_version, cache_dir, local_dir, user_agent, force_download, proxies, etag_timeout, token, local_files_only, headers, endpoint, resume_download, force_filename, local_dir_use_symlinks)\u001b[0m\n\u001b[0;32m    842\u001b[0m     \u001b[38;5;28;01mreturn\u001b[39;00m _hf_hub_download_to_local_dir(\n\u001b[0;32m    843\u001b[0m         \u001b[38;5;66;03m# Destination\u001b[39;00m\n\u001b[0;32m    844\u001b[0m         local_dir\u001b[38;5;241m=\u001b[39mlocal_dir,\n\u001b[1;32m   (...)\u001b[0m\n\u001b[0;32m    859\u001b[0m         local_files_only\u001b[38;5;241m=\u001b[39mlocal_files_only,\n\u001b[0;32m    860\u001b[0m     )\n\u001b[0;32m    861\u001b[0m \u001b[38;5;28;01melse\u001b[39;00m:\n\u001b[1;32m--> 862\u001b[0m     \u001b[38;5;28;01mreturn\u001b[39;00m \u001b[43m_hf_hub_download_to_cache_dir\u001b[49m\u001b[43m(\u001b[49m\n\u001b[0;32m    863\u001b[0m \u001b[43m        \u001b[49m\u001b[38;5;66;43;03m# Destination\u001b[39;49;00m\n\u001b[0;32m    864\u001b[0m \u001b[43m        \u001b[49m\u001b[43mcache_dir\u001b[49m\u001b[38;5;241;43m=\u001b[39;49m\u001b[43mcache_dir\u001b[49m\u001b[43m,\u001b[49m\n\u001b[0;32m    865\u001b[0m \u001b[43m        \u001b[49m\u001b[38;5;66;43;03m# File info\u001b[39;49;00m\n\u001b[0;32m    866\u001b[0m \u001b[43m        \u001b[49m\u001b[43mrepo_id\u001b[49m\u001b[38;5;241;43m=\u001b[39;49m\u001b[43mrepo_id\u001b[49m\u001b[43m,\u001b[49m\n\u001b[0;32m    867\u001b[0m \u001b[43m        \u001b[49m\u001b[43mfilename\u001b[49m\u001b[38;5;241;43m=\u001b[39;49m\u001b[43mfilename\u001b[49m\u001b[43m,\u001b[49m\n\u001b[0;32m    868\u001b[0m \u001b[43m        \u001b[49m\u001b[43mrepo_type\u001b[49m\u001b[38;5;241;43m=\u001b[39;49m\u001b[43mrepo_type\u001b[49m\u001b[43m,\u001b[49m\n\u001b[0;32m    869\u001b[0m \u001b[43m        \u001b[49m\u001b[43mrevision\u001b[49m\u001b[38;5;241;43m=\u001b[39;49m\u001b[43mrevision\u001b[49m\u001b[43m,\u001b[49m\n\u001b[0;32m    870\u001b[0m \u001b[43m        \u001b[49m\u001b[38;5;66;43;03m# HTTP info\u001b[39;49;00m\n\u001b[0;32m    871\u001b[0m \u001b[43m        \u001b[49m\u001b[43mendpoint\u001b[49m\u001b[38;5;241;43m=\u001b[39;49m\u001b[43mendpoint\u001b[49m\u001b[43m,\u001b[49m\n\u001b[0;32m    872\u001b[0m \u001b[43m        \u001b[49m\u001b[43metag_timeout\u001b[49m\u001b[38;5;241;43m=\u001b[39;49m\u001b[43metag_timeout\u001b[49m\u001b[43m,\u001b[49m\n\u001b[0;32m    873\u001b[0m \u001b[43m        \u001b[49m\u001b[43mheaders\u001b[49m\u001b[38;5;241;43m=\u001b[39;49m\u001b[43mheaders\u001b[49m\u001b[43m,\u001b[49m\n\u001b[0;32m    874\u001b[0m \u001b[43m        \u001b[49m\u001b[43mproxies\u001b[49m\u001b[38;5;241;43m=\u001b[39;49m\u001b[43mproxies\u001b[49m\u001b[43m,\u001b[49m\n\u001b[0;32m    875\u001b[0m \u001b[43m        \u001b[49m\u001b[43mtoken\u001b[49m\u001b[38;5;241;43m=\u001b[39;49m\u001b[43mtoken\u001b[49m\u001b[43m,\u001b[49m\n\u001b[0;32m    876\u001b[0m \u001b[43m        \u001b[49m\u001b[38;5;66;43;03m# Additional options\u001b[39;49;00m\n\u001b[0;32m    877\u001b[0m \u001b[43m        \u001b[49m\u001b[43mlocal_files_only\u001b[49m\u001b[38;5;241;43m=\u001b[39;49m\u001b[43mlocal_files_only\u001b[49m\u001b[43m,\u001b[49m\n\u001b[0;32m    878\u001b[0m \u001b[43m        \u001b[49m\u001b[43mforce_download\u001b[49m\u001b[38;5;241;43m=\u001b[39;49m\u001b[43mforce_download\u001b[49m\u001b[43m,\u001b[49m\n\u001b[0;32m    879\u001b[0m \u001b[43m    \u001b[49m\u001b[43m)\u001b[49m\n",
      "File \u001b[1;32mc:\\Users\\reclu\\anaconda3\\envs\\psychai241104\\Lib\\site-packages\\huggingface_hub\\file_download.py:925\u001b[0m, in \u001b[0;36m_hf_hub_download_to_cache_dir\u001b[1;34m(cache_dir, repo_id, filename, repo_type, revision, endpoint, etag_timeout, headers, proxies, token, local_files_only, force_download)\u001b[0m\n\u001b[0;32m    921\u001b[0m         \u001b[38;5;28;01mreturn\u001b[39;00m pointer_path\n\u001b[0;32m    923\u001b[0m \u001b[38;5;66;03m# Try to get metadata (etag, commit_hash, url, size) from the server.\u001b[39;00m\n\u001b[0;32m    924\u001b[0m \u001b[38;5;66;03m# If we can't, a HEAD request error is returned.\u001b[39;00m\n\u001b[1;32m--> 925\u001b[0m (url_to_download, etag, commit_hash, expected_size, head_call_error) \u001b[38;5;241m=\u001b[39m \u001b[43m_get_metadata_or_catch_error\u001b[49m\u001b[43m(\u001b[49m\n\u001b[0;32m    926\u001b[0m \u001b[43m    \u001b[49m\u001b[43mrepo_id\u001b[49m\u001b[38;5;241;43m=\u001b[39;49m\u001b[43mrepo_id\u001b[49m\u001b[43m,\u001b[49m\n\u001b[0;32m    927\u001b[0m \u001b[43m    \u001b[49m\u001b[43mfilename\u001b[49m\u001b[38;5;241;43m=\u001b[39;49m\u001b[43mfilename\u001b[49m\u001b[43m,\u001b[49m\n\u001b[0;32m    928\u001b[0m \u001b[43m    \u001b[49m\u001b[43mrepo_type\u001b[49m\u001b[38;5;241;43m=\u001b[39;49m\u001b[43mrepo_type\u001b[49m\u001b[43m,\u001b[49m\n\u001b[0;32m    929\u001b[0m \u001b[43m    \u001b[49m\u001b[43mrevision\u001b[49m\u001b[38;5;241;43m=\u001b[39;49m\u001b[43mrevision\u001b[49m\u001b[43m,\u001b[49m\n\u001b[0;32m    930\u001b[0m \u001b[43m    \u001b[49m\u001b[43mendpoint\u001b[49m\u001b[38;5;241;43m=\u001b[39;49m\u001b[43mendpoint\u001b[49m\u001b[43m,\u001b[49m\n\u001b[0;32m    931\u001b[0m \u001b[43m    \u001b[49m\u001b[43mproxies\u001b[49m\u001b[38;5;241;43m=\u001b[39;49m\u001b[43mproxies\u001b[49m\u001b[43m,\u001b[49m\n\u001b[0;32m    932\u001b[0m \u001b[43m    \u001b[49m\u001b[43metag_timeout\u001b[49m\u001b[38;5;241;43m=\u001b[39;49m\u001b[43metag_timeout\u001b[49m\u001b[43m,\u001b[49m\n\u001b[0;32m    933\u001b[0m \u001b[43m    \u001b[49m\u001b[43mheaders\u001b[49m\u001b[38;5;241;43m=\u001b[39;49m\u001b[43mheaders\u001b[49m\u001b[43m,\u001b[49m\n\u001b[0;32m    934\u001b[0m \u001b[43m    \u001b[49m\u001b[43mtoken\u001b[49m\u001b[38;5;241;43m=\u001b[39;49m\u001b[43mtoken\u001b[49m\u001b[43m,\u001b[49m\n\u001b[0;32m    935\u001b[0m \u001b[43m    \u001b[49m\u001b[43mlocal_files_only\u001b[49m\u001b[38;5;241;43m=\u001b[39;49m\u001b[43mlocal_files_only\u001b[49m\u001b[43m,\u001b[49m\n\u001b[0;32m    936\u001b[0m \u001b[43m    \u001b[49m\u001b[43mstorage_folder\u001b[49m\u001b[38;5;241;43m=\u001b[39;49m\u001b[43mstorage_folder\u001b[49m\u001b[43m,\u001b[49m\n\u001b[0;32m    937\u001b[0m \u001b[43m    \u001b[49m\u001b[43mrelative_filename\u001b[49m\u001b[38;5;241;43m=\u001b[39;49m\u001b[43mrelative_filename\u001b[49m\u001b[43m,\u001b[49m\n\u001b[0;32m    938\u001b[0m \u001b[43m\u001b[49m\u001b[43m)\u001b[49m\n\u001b[0;32m    940\u001b[0m \u001b[38;5;66;03m# etag can be None for several reasons:\u001b[39;00m\n\u001b[0;32m    941\u001b[0m \u001b[38;5;66;03m# 1. we passed local_files_only.\u001b[39;00m\n\u001b[0;32m    942\u001b[0m \u001b[38;5;66;03m# 2. we don't have a connection\u001b[39;00m\n\u001b[1;32m   (...)\u001b[0m\n\u001b[0;32m    948\u001b[0m \u001b[38;5;66;03m# If the specified revision is a commit hash, look inside \"snapshots\".\u001b[39;00m\n\u001b[0;32m    949\u001b[0m \u001b[38;5;66;03m# If the specified revision is a branch or tag, look inside \"refs\".\u001b[39;00m\n\u001b[0;32m    950\u001b[0m \u001b[38;5;28;01mif\u001b[39;00m head_call_error \u001b[38;5;129;01mis\u001b[39;00m \u001b[38;5;129;01mnot\u001b[39;00m \u001b[38;5;28;01mNone\u001b[39;00m:\n\u001b[0;32m    951\u001b[0m     \u001b[38;5;66;03m# Couldn't make a HEAD call => let's try to find a local file\u001b[39;00m\n",
      "File \u001b[1;32mc:\\Users\\reclu\\anaconda3\\envs\\psychai241104\\Lib\\site-packages\\huggingface_hub\\file_download.py:1376\u001b[0m, in \u001b[0;36m_get_metadata_or_catch_error\u001b[1;34m(repo_id, filename, repo_type, revision, endpoint, proxies, etag_timeout, headers, token, local_files_only, relative_filename, storage_folder)\u001b[0m\n\u001b[0;32m   1374\u001b[0m \u001b[38;5;28;01mtry\u001b[39;00m:\n\u001b[0;32m   1375\u001b[0m     \u001b[38;5;28;01mtry\u001b[39;00m:\n\u001b[1;32m-> 1376\u001b[0m         metadata \u001b[38;5;241m=\u001b[39m \u001b[43mget_hf_file_metadata\u001b[49m\u001b[43m(\u001b[49m\n\u001b[0;32m   1377\u001b[0m \u001b[43m            \u001b[49m\u001b[43murl\u001b[49m\u001b[38;5;241;43m=\u001b[39;49m\u001b[43murl\u001b[49m\u001b[43m,\u001b[49m\u001b[43m \u001b[49m\u001b[43mproxies\u001b[49m\u001b[38;5;241;43m=\u001b[39;49m\u001b[43mproxies\u001b[49m\u001b[43m,\u001b[49m\u001b[43m \u001b[49m\u001b[43mtimeout\u001b[49m\u001b[38;5;241;43m=\u001b[39;49m\u001b[43metag_timeout\u001b[49m\u001b[43m,\u001b[49m\u001b[43m \u001b[49m\u001b[43mheaders\u001b[49m\u001b[38;5;241;43m=\u001b[39;49m\u001b[43mheaders\u001b[49m\u001b[43m,\u001b[49m\u001b[43m \u001b[49m\u001b[43mtoken\u001b[49m\u001b[38;5;241;43m=\u001b[39;49m\u001b[43mtoken\u001b[49m\n\u001b[0;32m   1378\u001b[0m \u001b[43m        \u001b[49m\u001b[43m)\u001b[49m\n\u001b[0;32m   1379\u001b[0m     \u001b[38;5;28;01mexcept\u001b[39;00m EntryNotFoundError \u001b[38;5;28;01mas\u001b[39;00m http_error:\n\u001b[0;32m   1380\u001b[0m         \u001b[38;5;28;01mif\u001b[39;00m storage_folder \u001b[38;5;129;01mis\u001b[39;00m \u001b[38;5;129;01mnot\u001b[39;00m \u001b[38;5;28;01mNone\u001b[39;00m \u001b[38;5;129;01mand\u001b[39;00m relative_filename \u001b[38;5;129;01mis\u001b[39;00m \u001b[38;5;129;01mnot\u001b[39;00m \u001b[38;5;28;01mNone\u001b[39;00m:\n\u001b[0;32m   1381\u001b[0m             \u001b[38;5;66;03m# Cache the non-existence of the file\u001b[39;00m\n",
      "File \u001b[1;32mc:\\Users\\reclu\\anaconda3\\envs\\psychai241104\\Lib\\site-packages\\huggingface_hub\\utils\\_validators.py:114\u001b[0m, in \u001b[0;36mvalidate_hf_hub_args.<locals>._inner_fn\u001b[1;34m(*args, **kwargs)\u001b[0m\n\u001b[0;32m    111\u001b[0m \u001b[38;5;28;01mif\u001b[39;00m check_use_auth_token:\n\u001b[0;32m    112\u001b[0m     kwargs \u001b[38;5;241m=\u001b[39m smoothly_deprecate_use_auth_token(fn_name\u001b[38;5;241m=\u001b[39mfn\u001b[38;5;241m.\u001b[39m\u001b[38;5;18m__name__\u001b[39m, has_token\u001b[38;5;241m=\u001b[39mhas_token, kwargs\u001b[38;5;241m=\u001b[39mkwargs)\n\u001b[1;32m--> 114\u001b[0m \u001b[38;5;28;01mreturn\u001b[39;00m \u001b[43mfn\u001b[49m\u001b[43m(\u001b[49m\u001b[38;5;241;43m*\u001b[39;49m\u001b[43margs\u001b[49m\u001b[43m,\u001b[49m\u001b[43m \u001b[49m\u001b[38;5;241;43m*\u001b[39;49m\u001b[38;5;241;43m*\u001b[39;49m\u001b[43mkwargs\u001b[49m\u001b[43m)\u001b[49m\n",
      "File \u001b[1;32mc:\\Users\\reclu\\anaconda3\\envs\\psychai241104\\Lib\\site-packages\\huggingface_hub\\file_download.py:1296\u001b[0m, in \u001b[0;36mget_hf_file_metadata\u001b[1;34m(url, token, proxies, timeout, library_name, library_version, user_agent, headers)\u001b[0m\n\u001b[0;32m   1293\u001b[0m headers[\u001b[38;5;124m\"\u001b[39m\u001b[38;5;124mAccept-Encoding\u001b[39m\u001b[38;5;124m\"\u001b[39m] \u001b[38;5;241m=\u001b[39m \u001b[38;5;124m\"\u001b[39m\u001b[38;5;124midentity\u001b[39m\u001b[38;5;124m\"\u001b[39m  \u001b[38;5;66;03m# prevent any compression => we want to know the real size of the file\u001b[39;00m\n\u001b[0;32m   1295\u001b[0m \u001b[38;5;66;03m# Retrieve metadata\u001b[39;00m\n\u001b[1;32m-> 1296\u001b[0m r \u001b[38;5;241m=\u001b[39m \u001b[43m_request_wrapper\u001b[49m\u001b[43m(\u001b[49m\n\u001b[0;32m   1297\u001b[0m \u001b[43m    \u001b[49m\u001b[43mmethod\u001b[49m\u001b[38;5;241;43m=\u001b[39;49m\u001b[38;5;124;43m\"\u001b[39;49m\u001b[38;5;124;43mHEAD\u001b[39;49m\u001b[38;5;124;43m\"\u001b[39;49m\u001b[43m,\u001b[49m\n\u001b[0;32m   1298\u001b[0m \u001b[43m    \u001b[49m\u001b[43murl\u001b[49m\u001b[38;5;241;43m=\u001b[39;49m\u001b[43murl\u001b[49m\u001b[43m,\u001b[49m\n\u001b[0;32m   1299\u001b[0m \u001b[43m    \u001b[49m\u001b[43mheaders\u001b[49m\u001b[38;5;241;43m=\u001b[39;49m\u001b[43mheaders\u001b[49m\u001b[43m,\u001b[49m\n\u001b[0;32m   1300\u001b[0m \u001b[43m    \u001b[49m\u001b[43mallow_redirects\u001b[49m\u001b[38;5;241;43m=\u001b[39;49m\u001b[38;5;28;43;01mFalse\u001b[39;49;00m\u001b[43m,\u001b[49m\n\u001b[0;32m   1301\u001b[0m \u001b[43m    \u001b[49m\u001b[43mfollow_relative_redirects\u001b[49m\u001b[38;5;241;43m=\u001b[39;49m\u001b[38;5;28;43;01mTrue\u001b[39;49;00m\u001b[43m,\u001b[49m\n\u001b[0;32m   1302\u001b[0m \u001b[43m    \u001b[49m\u001b[43mproxies\u001b[49m\u001b[38;5;241;43m=\u001b[39;49m\u001b[43mproxies\u001b[49m\u001b[43m,\u001b[49m\n\u001b[0;32m   1303\u001b[0m \u001b[43m    \u001b[49m\u001b[43mtimeout\u001b[49m\u001b[38;5;241;43m=\u001b[39;49m\u001b[43mtimeout\u001b[49m\u001b[43m,\u001b[49m\n\u001b[0;32m   1304\u001b[0m \u001b[43m\u001b[49m\u001b[43m)\u001b[49m\n\u001b[0;32m   1305\u001b[0m hf_raise_for_status(r)\n\u001b[0;32m   1307\u001b[0m \u001b[38;5;66;03m# Return\u001b[39;00m\n",
      "File \u001b[1;32mc:\\Users\\reclu\\anaconda3\\envs\\psychai241104\\Lib\\site-packages\\huggingface_hub\\file_download.py:277\u001b[0m, in \u001b[0;36m_request_wrapper\u001b[1;34m(method, url, follow_relative_redirects, **params)\u001b[0m\n\u001b[0;32m    275\u001b[0m \u001b[38;5;66;03m# Recursively follow relative redirects\u001b[39;00m\n\u001b[0;32m    276\u001b[0m \u001b[38;5;28;01mif\u001b[39;00m follow_relative_redirects:\n\u001b[1;32m--> 277\u001b[0m     response \u001b[38;5;241m=\u001b[39m \u001b[43m_request_wrapper\u001b[49m\u001b[43m(\u001b[49m\n\u001b[0;32m    278\u001b[0m \u001b[43m        \u001b[49m\u001b[43mmethod\u001b[49m\u001b[38;5;241;43m=\u001b[39;49m\u001b[43mmethod\u001b[49m\u001b[43m,\u001b[49m\n\u001b[0;32m    279\u001b[0m \u001b[43m        \u001b[49m\u001b[43murl\u001b[49m\u001b[38;5;241;43m=\u001b[39;49m\u001b[43murl\u001b[49m\u001b[43m,\u001b[49m\n\u001b[0;32m    280\u001b[0m \u001b[43m        \u001b[49m\u001b[43mfollow_relative_redirects\u001b[49m\u001b[38;5;241;43m=\u001b[39;49m\u001b[38;5;28;43;01mFalse\u001b[39;49;00m\u001b[43m,\u001b[49m\n\u001b[0;32m    281\u001b[0m \u001b[43m        \u001b[49m\u001b[38;5;241;43m*\u001b[39;49m\u001b[38;5;241;43m*\u001b[39;49m\u001b[43mparams\u001b[49m\u001b[43m,\u001b[49m\n\u001b[0;32m    282\u001b[0m \u001b[43m    \u001b[49m\u001b[43m)\u001b[49m\n\u001b[0;32m    284\u001b[0m     \u001b[38;5;66;03m# If redirection, we redirect only relative paths.\u001b[39;00m\n\u001b[0;32m    285\u001b[0m     \u001b[38;5;66;03m# This is useful in case of a renamed repository.\u001b[39;00m\n\u001b[0;32m    286\u001b[0m     \u001b[38;5;28;01mif\u001b[39;00m \u001b[38;5;241m300\u001b[39m \u001b[38;5;241m<\u001b[39m\u001b[38;5;241m=\u001b[39m response\u001b[38;5;241m.\u001b[39mstatus_code \u001b[38;5;241m<\u001b[39m\u001b[38;5;241m=\u001b[39m \u001b[38;5;241m399\u001b[39m:\n",
      "File \u001b[1;32mc:\\Users\\reclu\\anaconda3\\envs\\psychai241104\\Lib\\site-packages\\huggingface_hub\\file_download.py:300\u001b[0m, in \u001b[0;36m_request_wrapper\u001b[1;34m(method, url, follow_relative_redirects, **params)\u001b[0m\n\u001b[0;32m    297\u001b[0m     \u001b[38;5;28;01mreturn\u001b[39;00m response\n\u001b[0;32m    299\u001b[0m \u001b[38;5;66;03m# Perform request and return if status_code is not in the retry list.\u001b[39;00m\n\u001b[1;32m--> 300\u001b[0m response \u001b[38;5;241m=\u001b[39m \u001b[43mget_session\u001b[49m\u001b[43m(\u001b[49m\u001b[43m)\u001b[49m\u001b[38;5;241;43m.\u001b[39;49m\u001b[43mrequest\u001b[49m\u001b[43m(\u001b[49m\u001b[43mmethod\u001b[49m\u001b[38;5;241;43m=\u001b[39;49m\u001b[43mmethod\u001b[49m\u001b[43m,\u001b[49m\u001b[43m \u001b[49m\u001b[43murl\u001b[49m\u001b[38;5;241;43m=\u001b[39;49m\u001b[43murl\u001b[49m\u001b[43m,\u001b[49m\u001b[43m \u001b[49m\u001b[38;5;241;43m*\u001b[39;49m\u001b[38;5;241;43m*\u001b[39;49m\u001b[43mparams\u001b[49m\u001b[43m)\u001b[49m\n\u001b[0;32m    301\u001b[0m hf_raise_for_status(response)\n\u001b[0;32m    302\u001b[0m \u001b[38;5;28;01mreturn\u001b[39;00m response\n",
      "File \u001b[1;32mc:\\Users\\reclu\\anaconda3\\envs\\psychai241104\\Lib\\site-packages\\requests\\sessions.py:589\u001b[0m, in \u001b[0;36mSession.request\u001b[1;34m(self, method, url, params, data, headers, cookies, files, auth, timeout, allow_redirects, proxies, hooks, stream, verify, cert, json)\u001b[0m\n\u001b[0;32m    584\u001b[0m send_kwargs \u001b[38;5;241m=\u001b[39m {\n\u001b[0;32m    585\u001b[0m     \u001b[38;5;124m\"\u001b[39m\u001b[38;5;124mtimeout\u001b[39m\u001b[38;5;124m\"\u001b[39m: timeout,\n\u001b[0;32m    586\u001b[0m     \u001b[38;5;124m\"\u001b[39m\u001b[38;5;124mallow_redirects\u001b[39m\u001b[38;5;124m\"\u001b[39m: allow_redirects,\n\u001b[0;32m    587\u001b[0m }\n\u001b[0;32m    588\u001b[0m send_kwargs\u001b[38;5;241m.\u001b[39mupdate(settings)\n\u001b[1;32m--> 589\u001b[0m resp \u001b[38;5;241m=\u001b[39m \u001b[38;5;28;43mself\u001b[39;49m\u001b[38;5;241;43m.\u001b[39;49m\u001b[43msend\u001b[49m\u001b[43m(\u001b[49m\u001b[43mprep\u001b[49m\u001b[43m,\u001b[49m\u001b[43m \u001b[49m\u001b[38;5;241;43m*\u001b[39;49m\u001b[38;5;241;43m*\u001b[39;49m\u001b[43msend_kwargs\u001b[49m\u001b[43m)\u001b[49m\n\u001b[0;32m    591\u001b[0m \u001b[38;5;28;01mreturn\u001b[39;00m resp\n",
      "File \u001b[1;32mc:\\Users\\reclu\\anaconda3\\envs\\psychai241104\\Lib\\site-packages\\requests\\sessions.py:703\u001b[0m, in \u001b[0;36mSession.send\u001b[1;34m(self, request, **kwargs)\u001b[0m\n\u001b[0;32m    700\u001b[0m start \u001b[38;5;241m=\u001b[39m preferred_clock()\n\u001b[0;32m    702\u001b[0m \u001b[38;5;66;03m# Send the request\u001b[39;00m\n\u001b[1;32m--> 703\u001b[0m r \u001b[38;5;241m=\u001b[39m \u001b[43madapter\u001b[49m\u001b[38;5;241;43m.\u001b[39;49m\u001b[43msend\u001b[49m\u001b[43m(\u001b[49m\u001b[43mrequest\u001b[49m\u001b[43m,\u001b[49m\u001b[43m \u001b[49m\u001b[38;5;241;43m*\u001b[39;49m\u001b[38;5;241;43m*\u001b[39;49m\u001b[43mkwargs\u001b[49m\u001b[43m)\u001b[49m\n\u001b[0;32m    705\u001b[0m \u001b[38;5;66;03m# Total elapsed time of the request (approximately)\u001b[39;00m\n\u001b[0;32m    706\u001b[0m elapsed \u001b[38;5;241m=\u001b[39m preferred_clock() \u001b[38;5;241m-\u001b[39m start\n",
      "File \u001b[1;32mc:\\Users\\reclu\\anaconda3\\envs\\psychai241104\\Lib\\site-packages\\huggingface_hub\\utils\\_http.py:93\u001b[0m, in \u001b[0;36mUniqueRequestIdAdapter.send\u001b[1;34m(self, request, *args, **kwargs)\u001b[0m\n\u001b[0;32m     91\u001b[0m \u001b[38;5;250m\u001b[39m\u001b[38;5;124;03m\"\"\"Catch any RequestException to append request id to the error message for debugging.\"\"\"\u001b[39;00m\n\u001b[0;32m     92\u001b[0m \u001b[38;5;28;01mtry\u001b[39;00m:\n\u001b[1;32m---> 93\u001b[0m     \u001b[38;5;28;01mreturn\u001b[39;00m \u001b[38;5;28;43msuper\u001b[39;49m\u001b[43m(\u001b[49m\u001b[43m)\u001b[49m\u001b[38;5;241;43m.\u001b[39;49m\u001b[43msend\u001b[49m\u001b[43m(\u001b[49m\u001b[43mrequest\u001b[49m\u001b[43m,\u001b[49m\u001b[43m \u001b[49m\u001b[38;5;241;43m*\u001b[39;49m\u001b[43margs\u001b[49m\u001b[43m,\u001b[49m\u001b[43m \u001b[49m\u001b[38;5;241;43m*\u001b[39;49m\u001b[38;5;241;43m*\u001b[39;49m\u001b[43mkwargs\u001b[49m\u001b[43m)\u001b[49m\n\u001b[0;32m     94\u001b[0m \u001b[38;5;28;01mexcept\u001b[39;00m requests\u001b[38;5;241m.\u001b[39mRequestException \u001b[38;5;28;01mas\u001b[39;00m e:\n\u001b[0;32m     95\u001b[0m     request_id \u001b[38;5;241m=\u001b[39m request\u001b[38;5;241m.\u001b[39mheaders\u001b[38;5;241m.\u001b[39mget(X_AMZN_TRACE_ID)\n",
      "File \u001b[1;32mc:\\Users\\reclu\\anaconda3\\envs\\psychai241104\\Lib\\site-packages\\requests\\adapters.py:667\u001b[0m, in \u001b[0;36mHTTPAdapter.send\u001b[1;34m(self, request, stream, timeout, verify, cert, proxies)\u001b[0m\n\u001b[0;32m    664\u001b[0m     timeout \u001b[38;5;241m=\u001b[39m TimeoutSauce(connect\u001b[38;5;241m=\u001b[39mtimeout, read\u001b[38;5;241m=\u001b[39mtimeout)\n\u001b[0;32m    666\u001b[0m \u001b[38;5;28;01mtry\u001b[39;00m:\n\u001b[1;32m--> 667\u001b[0m     resp \u001b[38;5;241m=\u001b[39m \u001b[43mconn\u001b[49m\u001b[38;5;241;43m.\u001b[39;49m\u001b[43murlopen\u001b[49m\u001b[43m(\u001b[49m\n\u001b[0;32m    668\u001b[0m \u001b[43m        \u001b[49m\u001b[43mmethod\u001b[49m\u001b[38;5;241;43m=\u001b[39;49m\u001b[43mrequest\u001b[49m\u001b[38;5;241;43m.\u001b[39;49m\u001b[43mmethod\u001b[49m\u001b[43m,\u001b[49m\n\u001b[0;32m    669\u001b[0m \u001b[43m        \u001b[49m\u001b[43murl\u001b[49m\u001b[38;5;241;43m=\u001b[39;49m\u001b[43murl\u001b[49m\u001b[43m,\u001b[49m\n\u001b[0;32m    670\u001b[0m \u001b[43m        \u001b[49m\u001b[43mbody\u001b[49m\u001b[38;5;241;43m=\u001b[39;49m\u001b[43mrequest\u001b[49m\u001b[38;5;241;43m.\u001b[39;49m\u001b[43mbody\u001b[49m\u001b[43m,\u001b[49m\n\u001b[0;32m    671\u001b[0m \u001b[43m        \u001b[49m\u001b[43mheaders\u001b[49m\u001b[38;5;241;43m=\u001b[39;49m\u001b[43mrequest\u001b[49m\u001b[38;5;241;43m.\u001b[39;49m\u001b[43mheaders\u001b[49m\u001b[43m,\u001b[49m\n\u001b[0;32m    672\u001b[0m \u001b[43m        \u001b[49m\u001b[43mredirect\u001b[49m\u001b[38;5;241;43m=\u001b[39;49m\u001b[38;5;28;43;01mFalse\u001b[39;49;00m\u001b[43m,\u001b[49m\n\u001b[0;32m    673\u001b[0m \u001b[43m        \u001b[49m\u001b[43massert_same_host\u001b[49m\u001b[38;5;241;43m=\u001b[39;49m\u001b[38;5;28;43;01mFalse\u001b[39;49;00m\u001b[43m,\u001b[49m\n\u001b[0;32m    674\u001b[0m \u001b[43m        \u001b[49m\u001b[43mpreload_content\u001b[49m\u001b[38;5;241;43m=\u001b[39;49m\u001b[38;5;28;43;01mFalse\u001b[39;49;00m\u001b[43m,\u001b[49m\n\u001b[0;32m    675\u001b[0m \u001b[43m        \u001b[49m\u001b[43mdecode_content\u001b[49m\u001b[38;5;241;43m=\u001b[39;49m\u001b[38;5;28;43;01mFalse\u001b[39;49;00m\u001b[43m,\u001b[49m\n\u001b[0;32m    676\u001b[0m \u001b[43m        \u001b[49m\u001b[43mretries\u001b[49m\u001b[38;5;241;43m=\u001b[39;49m\u001b[38;5;28;43mself\u001b[39;49m\u001b[38;5;241;43m.\u001b[39;49m\u001b[43mmax_retries\u001b[49m\u001b[43m,\u001b[49m\n\u001b[0;32m    677\u001b[0m \u001b[43m        \u001b[49m\u001b[43mtimeout\u001b[49m\u001b[38;5;241;43m=\u001b[39;49m\u001b[43mtimeout\u001b[49m\u001b[43m,\u001b[49m\n\u001b[0;32m    678\u001b[0m \u001b[43m        \u001b[49m\u001b[43mchunked\u001b[49m\u001b[38;5;241;43m=\u001b[39;49m\u001b[43mchunked\u001b[49m\u001b[43m,\u001b[49m\n\u001b[0;32m    679\u001b[0m \u001b[43m    \u001b[49m\u001b[43m)\u001b[49m\n\u001b[0;32m    681\u001b[0m \u001b[38;5;28;01mexcept\u001b[39;00m (ProtocolError, \u001b[38;5;167;01mOSError\u001b[39;00m) \u001b[38;5;28;01mas\u001b[39;00m err:\n\u001b[0;32m    682\u001b[0m     \u001b[38;5;28;01mraise\u001b[39;00m \u001b[38;5;167;01mConnectionError\u001b[39;00m(err, request\u001b[38;5;241m=\u001b[39mrequest)\n",
      "File \u001b[1;32mc:\\Users\\reclu\\anaconda3\\envs\\psychai241104\\Lib\\site-packages\\urllib3\\connectionpool.py:789\u001b[0m, in \u001b[0;36mHTTPConnectionPool.urlopen\u001b[1;34m(self, method, url, body, headers, retries, redirect, assert_same_host, timeout, pool_timeout, release_conn, chunked, body_pos, preload_content, decode_content, **response_kw)\u001b[0m\n\u001b[0;32m    786\u001b[0m response_conn \u001b[38;5;241m=\u001b[39m conn \u001b[38;5;28;01mif\u001b[39;00m \u001b[38;5;129;01mnot\u001b[39;00m release_conn \u001b[38;5;28;01melse\u001b[39;00m \u001b[38;5;28;01mNone\u001b[39;00m\n\u001b[0;32m    788\u001b[0m \u001b[38;5;66;03m# Make the request on the HTTPConnection object\u001b[39;00m\n\u001b[1;32m--> 789\u001b[0m response \u001b[38;5;241m=\u001b[39m \u001b[38;5;28;43mself\u001b[39;49m\u001b[38;5;241;43m.\u001b[39;49m\u001b[43m_make_request\u001b[49m\u001b[43m(\u001b[49m\n\u001b[0;32m    790\u001b[0m \u001b[43m    \u001b[49m\u001b[43mconn\u001b[49m\u001b[43m,\u001b[49m\n\u001b[0;32m    791\u001b[0m \u001b[43m    \u001b[49m\u001b[43mmethod\u001b[49m\u001b[43m,\u001b[49m\n\u001b[0;32m    792\u001b[0m \u001b[43m    \u001b[49m\u001b[43murl\u001b[49m\u001b[43m,\u001b[49m\n\u001b[0;32m    793\u001b[0m \u001b[43m    \u001b[49m\u001b[43mtimeout\u001b[49m\u001b[38;5;241;43m=\u001b[39;49m\u001b[43mtimeout_obj\u001b[49m\u001b[43m,\u001b[49m\n\u001b[0;32m    794\u001b[0m \u001b[43m    \u001b[49m\u001b[43mbody\u001b[49m\u001b[38;5;241;43m=\u001b[39;49m\u001b[43mbody\u001b[49m\u001b[43m,\u001b[49m\n\u001b[0;32m    795\u001b[0m \u001b[43m    \u001b[49m\u001b[43mheaders\u001b[49m\u001b[38;5;241;43m=\u001b[39;49m\u001b[43mheaders\u001b[49m\u001b[43m,\u001b[49m\n\u001b[0;32m    796\u001b[0m \u001b[43m    \u001b[49m\u001b[43mchunked\u001b[49m\u001b[38;5;241;43m=\u001b[39;49m\u001b[43mchunked\u001b[49m\u001b[43m,\u001b[49m\n\u001b[0;32m    797\u001b[0m \u001b[43m    \u001b[49m\u001b[43mretries\u001b[49m\u001b[38;5;241;43m=\u001b[39;49m\u001b[43mretries\u001b[49m\u001b[43m,\u001b[49m\n\u001b[0;32m    798\u001b[0m \u001b[43m    \u001b[49m\u001b[43mresponse_conn\u001b[49m\u001b[38;5;241;43m=\u001b[39;49m\u001b[43mresponse_conn\u001b[49m\u001b[43m,\u001b[49m\n\u001b[0;32m    799\u001b[0m \u001b[43m    \u001b[49m\u001b[43mpreload_content\u001b[49m\u001b[38;5;241;43m=\u001b[39;49m\u001b[43mpreload_content\u001b[49m\u001b[43m,\u001b[49m\n\u001b[0;32m    800\u001b[0m \u001b[43m    \u001b[49m\u001b[43mdecode_content\u001b[49m\u001b[38;5;241;43m=\u001b[39;49m\u001b[43mdecode_content\u001b[49m\u001b[43m,\u001b[49m\n\u001b[0;32m    801\u001b[0m \u001b[43m    \u001b[49m\u001b[38;5;241;43m*\u001b[39;49m\u001b[38;5;241;43m*\u001b[39;49m\u001b[43mresponse_kw\u001b[49m\u001b[43m,\u001b[49m\n\u001b[0;32m    802\u001b[0m \u001b[43m\u001b[49m\u001b[43m)\u001b[49m\n\u001b[0;32m    804\u001b[0m \u001b[38;5;66;03m# Everything went great!\u001b[39;00m\n\u001b[0;32m    805\u001b[0m clean_exit \u001b[38;5;241m=\u001b[39m \u001b[38;5;28;01mTrue\u001b[39;00m\n",
      "File \u001b[1;32mc:\\Users\\reclu\\anaconda3\\envs\\psychai241104\\Lib\\site-packages\\urllib3\\connectionpool.py:536\u001b[0m, in \u001b[0;36mHTTPConnectionPool._make_request\u001b[1;34m(self, conn, method, url, body, headers, retries, timeout, chunked, response_conn, preload_content, decode_content, enforce_content_length)\u001b[0m\n\u001b[0;32m    534\u001b[0m \u001b[38;5;66;03m# Receive the response from the server\u001b[39;00m\n\u001b[0;32m    535\u001b[0m \u001b[38;5;28;01mtry\u001b[39;00m:\n\u001b[1;32m--> 536\u001b[0m     response \u001b[38;5;241m=\u001b[39m \u001b[43mconn\u001b[49m\u001b[38;5;241;43m.\u001b[39;49m\u001b[43mgetresponse\u001b[49m\u001b[43m(\u001b[49m\u001b[43m)\u001b[49m\n\u001b[0;32m    537\u001b[0m \u001b[38;5;28;01mexcept\u001b[39;00m (BaseSSLError, \u001b[38;5;167;01mOSError\u001b[39;00m) \u001b[38;5;28;01mas\u001b[39;00m e:\n\u001b[0;32m    538\u001b[0m     \u001b[38;5;28mself\u001b[39m\u001b[38;5;241m.\u001b[39m_raise_timeout(err\u001b[38;5;241m=\u001b[39me, url\u001b[38;5;241m=\u001b[39murl, timeout_value\u001b[38;5;241m=\u001b[39mread_timeout)\n",
      "File \u001b[1;32mc:\\Users\\reclu\\anaconda3\\envs\\psychai241104\\Lib\\site-packages\\urllib3\\connection.py:507\u001b[0m, in \u001b[0;36mHTTPConnection.getresponse\u001b[1;34m(self)\u001b[0m\n\u001b[0;32m    504\u001b[0m \u001b[38;5;28;01mfrom\u001b[39;00m \u001b[38;5;21;01m.\u001b[39;00m\u001b[38;5;21;01mresponse\u001b[39;00m \u001b[38;5;28;01mimport\u001b[39;00m HTTPResponse\n\u001b[0;32m    506\u001b[0m \u001b[38;5;66;03m# Get the response from http.client.HTTPConnection\u001b[39;00m\n\u001b[1;32m--> 507\u001b[0m httplib_response \u001b[38;5;241m=\u001b[39m \u001b[38;5;28;43msuper\u001b[39;49m\u001b[43m(\u001b[49m\u001b[43m)\u001b[49m\u001b[38;5;241;43m.\u001b[39;49m\u001b[43mgetresponse\u001b[49m\u001b[43m(\u001b[49m\u001b[43m)\u001b[49m\n\u001b[0;32m    509\u001b[0m \u001b[38;5;28;01mtry\u001b[39;00m:\n\u001b[0;32m    510\u001b[0m     assert_header_parsing(httplib_response\u001b[38;5;241m.\u001b[39mmsg)\n",
      "File \u001b[1;32mc:\\Users\\reclu\\anaconda3\\envs\\psychai241104\\Lib\\http\\client.py:1419\u001b[0m, in \u001b[0;36mHTTPConnection.getresponse\u001b[1;34m(self)\u001b[0m\n\u001b[0;32m   1417\u001b[0m \u001b[38;5;28;01mtry\u001b[39;00m:\n\u001b[0;32m   1418\u001b[0m     \u001b[38;5;28;01mtry\u001b[39;00m:\n\u001b[1;32m-> 1419\u001b[0m         \u001b[43mresponse\u001b[49m\u001b[38;5;241;43m.\u001b[39;49m\u001b[43mbegin\u001b[49m\u001b[43m(\u001b[49m\u001b[43m)\u001b[49m\n\u001b[0;32m   1420\u001b[0m     \u001b[38;5;28;01mexcept\u001b[39;00m \u001b[38;5;167;01mConnectionError\u001b[39;00m:\n\u001b[0;32m   1421\u001b[0m         \u001b[38;5;28mself\u001b[39m\u001b[38;5;241m.\u001b[39mclose()\n",
      "File \u001b[1;32mc:\\Users\\reclu\\anaconda3\\envs\\psychai241104\\Lib\\http\\client.py:331\u001b[0m, in \u001b[0;36mHTTPResponse.begin\u001b[1;34m(self)\u001b[0m\n\u001b[0;32m    329\u001b[0m \u001b[38;5;66;03m# read until we get a non-100 response\u001b[39;00m\n\u001b[0;32m    330\u001b[0m \u001b[38;5;28;01mwhile\u001b[39;00m \u001b[38;5;28;01mTrue\u001b[39;00m:\n\u001b[1;32m--> 331\u001b[0m     version, status, reason \u001b[38;5;241m=\u001b[39m \u001b[38;5;28;43mself\u001b[39;49m\u001b[38;5;241;43m.\u001b[39;49m\u001b[43m_read_status\u001b[49m\u001b[43m(\u001b[49m\u001b[43m)\u001b[49m\n\u001b[0;32m    332\u001b[0m     \u001b[38;5;28;01mif\u001b[39;00m status \u001b[38;5;241m!=\u001b[39m CONTINUE:\n\u001b[0;32m    333\u001b[0m         \u001b[38;5;28;01mbreak\u001b[39;00m\n",
      "File \u001b[1;32mc:\\Users\\reclu\\anaconda3\\envs\\psychai241104\\Lib\\http\\client.py:292\u001b[0m, in \u001b[0;36mHTTPResponse._read_status\u001b[1;34m(self)\u001b[0m\n\u001b[0;32m    291\u001b[0m \u001b[38;5;28;01mdef\u001b[39;00m \u001b[38;5;21m_read_status\u001b[39m(\u001b[38;5;28mself\u001b[39m):\n\u001b[1;32m--> 292\u001b[0m     line \u001b[38;5;241m=\u001b[39m \u001b[38;5;28mstr\u001b[39m(\u001b[38;5;28;43mself\u001b[39;49m\u001b[38;5;241;43m.\u001b[39;49m\u001b[43mfp\u001b[49m\u001b[38;5;241;43m.\u001b[39;49m\u001b[43mreadline\u001b[49m\u001b[43m(\u001b[49m\u001b[43m_MAXLINE\u001b[49m\u001b[43m \u001b[49m\u001b[38;5;241;43m+\u001b[39;49m\u001b[43m \u001b[49m\u001b[38;5;241;43m1\u001b[39;49m\u001b[43m)\u001b[49m, \u001b[38;5;124m\"\u001b[39m\u001b[38;5;124miso-8859-1\u001b[39m\u001b[38;5;124m\"\u001b[39m)\n\u001b[0;32m    293\u001b[0m     \u001b[38;5;28;01mif\u001b[39;00m \u001b[38;5;28mlen\u001b[39m(line) \u001b[38;5;241m>\u001b[39m _MAXLINE:\n\u001b[0;32m    294\u001b[0m         \u001b[38;5;28;01mraise\u001b[39;00m LineTooLong(\u001b[38;5;124m\"\u001b[39m\u001b[38;5;124mstatus line\u001b[39m\u001b[38;5;124m\"\u001b[39m)\n",
      "File \u001b[1;32mc:\\Users\\reclu\\anaconda3\\envs\\psychai241104\\Lib\\socket.py:707\u001b[0m, in \u001b[0;36mSocketIO.readinto\u001b[1;34m(self, b)\u001b[0m\n\u001b[0;32m    705\u001b[0m \u001b[38;5;28;01mwhile\u001b[39;00m \u001b[38;5;28;01mTrue\u001b[39;00m:\n\u001b[0;32m    706\u001b[0m     \u001b[38;5;28;01mtry\u001b[39;00m:\n\u001b[1;32m--> 707\u001b[0m         \u001b[38;5;28;01mreturn\u001b[39;00m \u001b[38;5;28;43mself\u001b[39;49m\u001b[38;5;241;43m.\u001b[39;49m\u001b[43m_sock\u001b[49m\u001b[38;5;241;43m.\u001b[39;49m\u001b[43mrecv_into\u001b[49m\u001b[43m(\u001b[49m\u001b[43mb\u001b[49m\u001b[43m)\u001b[49m\n\u001b[0;32m    708\u001b[0m     \u001b[38;5;28;01mexcept\u001b[39;00m timeout:\n\u001b[0;32m    709\u001b[0m         \u001b[38;5;28mself\u001b[39m\u001b[38;5;241m.\u001b[39m_timeout_occurred \u001b[38;5;241m=\u001b[39m \u001b[38;5;28;01mTrue\u001b[39;00m\n",
      "File \u001b[1;32mc:\\Users\\reclu\\anaconda3\\envs\\psychai241104\\Lib\\ssl.py:1253\u001b[0m, in \u001b[0;36mSSLSocket.recv_into\u001b[1;34m(self, buffer, nbytes, flags)\u001b[0m\n\u001b[0;32m   1249\u001b[0m     \u001b[38;5;28;01mif\u001b[39;00m flags \u001b[38;5;241m!=\u001b[39m \u001b[38;5;241m0\u001b[39m:\n\u001b[0;32m   1250\u001b[0m         \u001b[38;5;28;01mraise\u001b[39;00m \u001b[38;5;167;01mValueError\u001b[39;00m(\n\u001b[0;32m   1251\u001b[0m           \u001b[38;5;124m\"\u001b[39m\u001b[38;5;124mnon-zero flags not allowed in calls to recv_into() on \u001b[39m\u001b[38;5;132;01m%s\u001b[39;00m\u001b[38;5;124m\"\u001b[39m \u001b[38;5;241m%\u001b[39m\n\u001b[0;32m   1252\u001b[0m           \u001b[38;5;28mself\u001b[39m\u001b[38;5;241m.\u001b[39m\u001b[38;5;18m__class__\u001b[39m)\n\u001b[1;32m-> 1253\u001b[0m     \u001b[38;5;28;01mreturn\u001b[39;00m \u001b[38;5;28;43mself\u001b[39;49m\u001b[38;5;241;43m.\u001b[39;49m\u001b[43mread\u001b[49m\u001b[43m(\u001b[49m\u001b[43mnbytes\u001b[49m\u001b[43m,\u001b[49m\u001b[43m \u001b[49m\u001b[43mbuffer\u001b[49m\u001b[43m)\u001b[49m\n\u001b[0;32m   1254\u001b[0m \u001b[38;5;28;01melse\u001b[39;00m:\n\u001b[0;32m   1255\u001b[0m     \u001b[38;5;28;01mreturn\u001b[39;00m \u001b[38;5;28msuper\u001b[39m()\u001b[38;5;241m.\u001b[39mrecv_into(buffer, nbytes, flags)\n",
      "File \u001b[1;32mc:\\Users\\reclu\\anaconda3\\envs\\psychai241104\\Lib\\ssl.py:1105\u001b[0m, in \u001b[0;36mSSLSocket.read\u001b[1;34m(self, len, buffer)\u001b[0m\n\u001b[0;32m   1103\u001b[0m \u001b[38;5;28;01mtry\u001b[39;00m:\n\u001b[0;32m   1104\u001b[0m     \u001b[38;5;28;01mif\u001b[39;00m buffer \u001b[38;5;129;01mis\u001b[39;00m \u001b[38;5;129;01mnot\u001b[39;00m \u001b[38;5;28;01mNone\u001b[39;00m:\n\u001b[1;32m-> 1105\u001b[0m         \u001b[38;5;28;01mreturn\u001b[39;00m \u001b[38;5;28;43mself\u001b[39;49m\u001b[38;5;241;43m.\u001b[39;49m\u001b[43m_sslobj\u001b[49m\u001b[38;5;241;43m.\u001b[39;49m\u001b[43mread\u001b[49m\u001b[43m(\u001b[49m\u001b[38;5;28;43mlen\u001b[39;49m\u001b[43m,\u001b[49m\u001b[43m \u001b[49m\u001b[43mbuffer\u001b[49m\u001b[43m)\u001b[49m\n\u001b[0;32m   1106\u001b[0m     \u001b[38;5;28;01melse\u001b[39;00m:\n\u001b[0;32m   1107\u001b[0m         \u001b[38;5;28;01mreturn\u001b[39;00m \u001b[38;5;28mself\u001b[39m\u001b[38;5;241m.\u001b[39m_sslobj\u001b[38;5;241m.\u001b[39mread(\u001b[38;5;28mlen\u001b[39m)\n",
      "\u001b[1;31mKeyboardInterrupt\u001b[0m: "
     ]
    }
   ],
   "source": [
    "# 从预训练的模型中加载Whisper处理器和模型\n",
    "processor = WhisperProcessor.from_pretrained(\"openai/whisper-large-v2\", cache_dir=huggingface_cache_location)\n",
    "model = WhisperForConditionalGeneration.from_pretrained(\"openai/whisper-large-v2\", cache_dir=huggingface_cache_location)\n",
    "model.config.forced_decoder_ids = None  # 确保模型不会强制使用解码器ID\n",
    "\n",
    "# 加载一个示例数据集\n",
    "ds = load_dataset(\"hf-internal-testing/librispeech_asr_dummy\", \"clean\", split=\"validation\", cache_dir=datasets_cache_location)\n",
    "\n"
   ]
  },
  {
   "cell_type": "code",
   "execution_count": null,
   "metadata": {},
   "outputs": [],
   "source": [
    "speech_to_text_extractor = SpeechToTextExtractor(processor, model)"
   ]
  },
  {
   "cell_type": "markdown",
   "metadata": {},
   "source": [
    "### Audio To Text"
   ]
  },
  {
   "cell_type": "markdown",
   "metadata": {},
   "source": [
    "#### English Example\n",
    "\n",
    "这段代码首先处理了数据集中的第一个音频样本，将其转换为模型可以接受的格式，然后使用Whisper模型进行预测，并将预测结果（token ids）解码为可读的文本形式。最后，打印出转录的文本。注意，这里skip_special_tokens=False参数控制是否跳过特殊token，在解码时可以根据需要调整。"
   ]
  },
  {
   "cell_type": "code",
   "execution_count": null,
   "metadata": {},
   "outputs": [],
   "source": [
    "# 获取第一个样本的音频信息\n",
    "sample = ds[0][\"audio\"]\n",
    "# 使用处理器处理音频样本，这里需要传入音频数组和采样率，并将结果转换为PyTorch张量\n",
    "input_features = processor(sample[\"array\"], sampling_rate=sample[\"sampling_rate\"], return_tensors=\"pt\").input_features \n",
    "\n",
    "# 使用模型生成预测的token ids\n",
    "predicted_ids = model.generate(input_features)\n",
    "# 将token ids解码为文本\n",
    "transcription = processor.batch_decode(predicted_ids, skip_special_tokens=False)\n",
    "# 打印转录文本\n",
    "print(transcription)"
   ]
  },
  {
   "cell_type": "code",
   "execution_count": null,
   "metadata": {},
   "outputs": [],
   "source": [
    "# 获取第一个样本的音频信息\n",
    "sample = ds[0][\"audio\"]\n",
    "transcription = speech_to_text_extractor.process_audio_from_datasets(sample)"
   ]
  },
  {
   "cell_type": "markdown",
   "metadata": {},
   "source": [
    "#### Chinese Example"
   ]
  },
  {
   "cell_type": "code",
   "execution_count": null,
   "metadata": {},
   "outputs": [],
   "source": [
    "# Correct path to your audio file\n",
    "audio_file_path = r\"../resources/raw_data/005/Segment_Audio/PS-9_005_26_05_25_13_21_36.wav\"\n",
    "IPython.display.Audio(audio_file_path)"
   ]
  },
  {
   "cell_type": "code",
   "execution_count": null,
   "metadata": {},
   "outputs": [],
   "source": [
    "# 加载WAV文件\n",
    "# 使用librosa.load函数加载音频文件。设置sr=None以保持音频的原始采样率\n",
    "signal, sr = librosa.load(audio_file_path, sr=None)  # sr=None 保留原始采样率\n",
    "\n",
    "# 对音频信号进行重采样\n",
    "# 将音频信号从原始采样率重采样到16000Hz，这是因为Whisper模型需要固定的采样率\n",
    "resampled_signal = librosa.resample(signal, orig_sr=sr, target_sr=16000)\n",
    "\n",
    "# 将重采样后的音频信号处理为模型的输入特征\n",
    "# 使用Whisper处理器处理重采样后的信号，并将采样率设置为16000Hz。return_tensors=\"pt\"表明返回的是PyTorch张量\n",
    "input_features = processor(resampled_signal, sampling_rate=16000, return_tensors=\"pt\").input_features \n",
    "\n",
    "# 生成token id\n",
    "# 使用模型的generate方法根据输入特征生成预测的token id\n",
    "predicted_ids = model.generate(input_features)\n",
    "\n",
    "# 将token id解码为文本\n",
    "# 使用处理器的batch_decode方法将预测的token id解码成文本，skip_special_tokens=False表明不跳过特殊token\n",
    "transcription = processor.batch_decode(predicted_ids, skip_special_tokens=False)\n",
    "\n",
    "# 打印转录结果\n",
    "print(transcription)"
   ]
  },
  {
   "cell_type": "code",
   "execution_count": null,
   "metadata": {},
   "outputs": [],
   "source": [
    "transcription = speech_to_text_extractor.process_audio_with_file_path(audio_file_path)"
   ]
  },
  {
   "cell_type": "markdown",
   "metadata": {},
   "source": [
    "#### File Folder and Class Example"
   ]
  },
  {
   "cell_type": "code",
   "execution_count": null,
   "metadata": {},
   "outputs": [
    {
     "name": "stdout",
     "output_type": "stream",
     "text": [
      "Segment_Audio folder not found for user 010\n",
      "Segment_Audio folder not found for user 025\n",
      "Segment_Audio folder not found for user 026\n",
      "Segment_Audio folder not found for user 027\n",
      "Segment_Audio folder not found for user 042\n",
      "Segment_Audio folder not found for user 071\n",
      "Segment_Audio folder not found for user 074\n",
      "Segment_Audio folder not found for user 076\n",
      "Segment_Audio folder not found for user 077\n",
      "Segment_Audio folder not found for user 088\n",
      "Segment_Audio folder not found for user 091\n",
      "Segment_Audio folder not found for user 112\n",
      "Segment_Audio folder not found for user 116\n",
      "Segment_Audio folder not found for user 118\n",
      "Segment_Audio folder not found for user 119\n",
      "Total matching files found: 568\n",
      "     user_id       modality  attribute_index attribute_value  \\\n",
      "0          1  Segment_Audio                2              25   \n",
      "1          1  Segment_Audio                2              26   \n",
      "2          1  Segment_Audio                2              27   \n",
      "3          1  Segment_Audio                2              28   \n",
      "4          2  Segment_Audio                2              25   \n",
      "..       ...            ...              ...             ...   \n",
      "399      115  Segment_Audio                2              28   \n",
      "400      117  Segment_Audio                2              25   \n",
      "401      117  Segment_Audio                2              26   \n",
      "402      117  Segment_Audio                2              27   \n",
      "403      117  Segment_Audio                2              28   \n",
      "\n",
      "                                                 files  file_size part_0  \\\n",
      "0    G:\\Experiments\\Moral Elevation\\Disk1_2_combine...   13439054   PS-9   \n",
      "1    G:\\Experiments\\Moral Elevation\\Disk1_2_combine...    5763150   PS-9   \n",
      "2    G:\\Experiments\\Moral Elevation\\Disk1_2_combine...   12095566   PS-9   \n",
      "3    G:\\Experiments\\Moral Elevation\\Disk1_2_combine...    9789518   PS-9   \n",
      "4    G:\\Experiments\\Moral Elevation\\Disk1_2_combine...    9404494   PS-9   \n",
      "..                                                 ...        ...    ...   \n",
      "399  G:\\Experiments\\Moral Elevation\\Disk1_2_combine...    7295054   PS-9   \n",
      "400  G:\\Experiments\\Moral Elevation\\Disk1_2_combine...    7487566   PS-9   \n",
      "401  G:\\Experiments\\Moral Elevation\\Disk1_2_combine...    3838030   PS-9   \n",
      "402  G:\\Experiments\\Moral Elevation\\Disk1_2_combine...   12095566   PS-9   \n",
      "403  G:\\Experiments\\Moral Elevation\\Disk1_2_combine...    4800590   PS-9   \n",
      "\n",
      "    part_1 part_2      part_3  part_4 part_5  Group  \n",
      "0      001     25  2022-05-21  125517  1.wav      2  \n",
      "1      001     26  2022-05-21  125627  1.wav      2  \n",
      "2      001     27  2022-05-21  125657  1.wav      2  \n",
      "3      001     28  2022-05-21  125800  1.wav      2  \n",
      "4      002     25  2022-05-21  124843  1.wav      1  \n",
      "..     ...    ...         ...     ...    ...    ...  \n",
      "399    115     28  2022-06-25  100134  1.wav      1  \n",
      "400    117     25  2022-06-25  193725  1.wav      2  \n",
      "401    117     26  2022-06-25  193804  1.wav      2  \n",
      "402    117     27  2022-06-25  193824  1.wav      2  \n",
      "403    117     28  2022-06-25  193927  1.wav      2  \n",
      "\n",
      "[404 rows x 13 columns]\n"
     ]
    }
   ],
   "source": [
    "#base_directory = r\"D:\\Programming3\\psychai\\example\\paper5_mmer_moral\\resources\\raw_data\"\n",
    "base_directory = r\"G:\\Experiments\\Moral Elevation\\Disk1_2_combined\\FS-9 Day 1\"\n",
    "\n",
    "# Create a FileFilter instance with multiple attribute filters\n",
    "filters = [(2, '25'),(2, '26'),(2, '27'),(2, '28')]\n",
    "file_filter = utilities.FileFilter(base_directory, attribute_filters=filters, modality_value='Segment_Audio')\n",
    "\n",
    "# Get matching files for user IDs from 1 to 13\n",
    "df = file_filter.get_matching_files(range(1, 120))\n",
    "\n",
    "# Load the rct.csv file\n",
    "rct_df = pd.read_csv('../resources/data/rct/rct.csv')\n",
    "\n",
    "# Merge the two dataframes based on the 'user_id' column\n",
    "df_updated = pd.merge(df, rct_df[['user_id', 'Group']], on='user_id', how='left')\n",
    "\n",
    "# Find the row with the largest file_size for each user_id\n",
    "# df_largest = df_updated.loc[df_updated.groupby('user_id')['file_size'].idxmax()]\n",
    "df_largest = df_updated.loc[df_updated.groupby(['user_id', 'attribute_value'])['file_size'].idxmax()]\n",
    "\n",
    "# Reset the index if needed\n",
    "df_largest.reset_index(drop=True, inplace=True)\n",
    "\n",
    "# Display the result\n",
    "print(df_largest)"
   ]
  },
  {
   "cell_type": "code",
   "execution_count": null,
   "metadata": {},
   "outputs": [
    {
     "name": "stderr",
     "output_type": "stream",
     "text": [
      "Processing files:   0%|          | 0/404 [00:00<?, ?it/s]"
     ]
    },
    {
     "name": "stdout",
     "output_type": "stream",
     "text": [
      "[file 9] starts.\n",
      "[file 9] completed.\n",
      "[file 2] starts.\n",
      "[file 2] completed.\n",
      "[file 7] starts.\n",
      "[file 7] completed.\n",
      "[file 22] starts.\n",
      "[file 22] completed.\n",
      "[file 4] starts.\n",
      "[file 4] completed.\n",
      "[file 13] starts.\n",
      "[file 13] completed.\n",
      "[file 5] starts.\n",
      "[file 5] completed.\n",
      "[file 0] starts.\n",
      "[file 0] completed.\n",
      "[file 3] starts.\n",
      "[file 3] completed.\n",
      "[file 6] starts.\n",
      "[file 6] completed.\n",
      "[file 20] starts.\n",
      "[file 20] completed.\n",
      "[file 10] starts.\n",
      "[file 10] completed.\n",
      "[file 26] starts.\n",
      "[file 26] completed.\n",
      "[file 16] starts.\n",
      "[file 16] completed.\n",
      "[file 15] starts.\n",
      "[file 15] completed.\n",
      "[file 12] starts.\n",
      "[file 12] completed.\n",
      "[file 8] starts.\n",
      "[file 8] completed.\n",
      "[file 24] starts.\n",
      "[file 24] completed.\n",
      "[file 1] starts.\n",
      "[file 1] completed.\n",
      "[file 17] starts.\n",
      "[file 17] completed.\n",
      "[file 11] starts.\n",
      "[file 11] completed.\n",
      "[file 19] starts.\n",
      "[file 19] completed.\n",
      "[file 18] starts.\n",
      "[file 18] completed.\n",
      "[file 14] starts.\n",
      "[file 14] completed.\n",
      "[file 25] starts.\n",
      "[file 25] completed.\n",
      "[file 21] starts.\n",
      "[file 21] completed.\n",
      "[file 23] starts.\n",
      "[file 23] completed.\n",
      "[file 29] starts.\n",
      "[file 29] completed.\n",
      "[file 31] starts.\n",
      "[file 31] completed.\n",
      "[file 28] starts.\n",
      "[file 28] completed.\n",
      "[file 35] starts.\n",
      "[file 35] completed.\n",
      "[file 37] starts.\n",
      "[file 37] completed.\n",
      "[file 32] starts.\n",
      "[file 32] completed.\n",
      "[file 36] starts.\n",
      "[file 36] completed.\n",
      "[file 34] starts.\n",
      "[file 34] completed.\n",
      "[file 30] starts.\n",
      "[file 30] completed.\n",
      "[file 27] starts.\n",
      "[file 27] completed.\n",
      "[file 33] starts.\n",
      "[file 33] completed.\n",
      "[file 41] starts.\n",
      "[file 41] completed.\n",
      "[file 38] starts.\n",
      "[file 38] completed.\n",
      "[file 43] starts.\n",
      "[file 43] completed.\n",
      "[file 42] starts.\n",
      "[file 42] completed.\n",
      "[file 46] starts.\n",
      "[file 46] completed.\n",
      "[file 49] starts.\n",
      "[file 49] completed.\n",
      "[file 39] starts.\n",
      "[file 39] completed.\n",
      "[file 50] starts.\n",
      "[file 50] completed.\n",
      "[file 44] starts.\n",
      "[file 44] completed.\n",
      "[file 40] starts.\n",
      "[file 40] completed.\n",
      "[file 52] starts.\n",
      "[file 52] completed.\n",
      "[file 45] starts.\n",
      "[file 45] completed.\n",
      "[file 47] starts.\n",
      "[file 47] completed.\n",
      "[file 57] starts.\n",
      "[file 57] completed.\n",
      "[file 48] starts.\n",
      "[file 48] completed.\n",
      "[file 55] starts.\n",
      "[file 55] completed.\n",
      "[file 53] starts.\n",
      "[file 53] completed.\n",
      "[file 56] starts.\n",
      "[file 56] completed.\n",
      "[file 51] starts.\n",
      "[file 51] completed.\n",
      "[file 54] starts.\n",
      "[file 54] completed.\n",
      "[file 58] starts.\n",
      "[file 58] completed.\n",
      "[file 65] starts.\n",
      "[file 65] completed.\n",
      "[file 59] starts.\n",
      "[file 59] completed.\n",
      "[file 62] starts.\n",
      "[file 62] completed.\n",
      "[file 66] starts.\n",
      "[file 66] completed.\n",
      "[file 63] starts.\n",
      "[file 63] completed.\n",
      "[file 60] starts.\n",
      "[file 60] completed.\n",
      "[file 69] starts.\n",
      "[file 69] completed.\n",
      "[file 71] starts.\n",
      "[file 71] completed.\n",
      "[file 61] starts.\n",
      "[file 61] completed.\n",
      "[file 67] starts.\n",
      "[file 67] completed.\n",
      "[file 72] starts.\n",
      "[file 72] completed.\n",
      "[file 74] starts.\n",
      "[file 74] completed.\n",
      "[file 75] starts.\n",
      "[file 75] completed.\n",
      "[file 77] starts.\n",
      "[file 77] completed.\n",
      "[file 76] starts.\n",
      "[file 76] completed.\n",
      "[file 70] starts.\n",
      "[file 70] completed.\n",
      "[file 64] starts.\n",
      "[file 64] completed.\n",
      "[file 78] starts.\n",
      "[file 78] completed.\n",
      "[file 68] starts.\n",
      "[file 68] completed.\n",
      "[file 82] starts.\n",
      "[file 82] completed.\n",
      "[file 84] starts.\n",
      "[file 84] completed.\n",
      "[file 87] starts.\n",
      "[file 87] completed.\n",
      "[file 86] starts.\n",
      "[file 86] completed.\n",
      "[file 89] starts.\n",
      "[file 89] completed.\n",
      "[file 92] starts.\n",
      "[file 92] completed.\n",
      "[file 88] starts.\n",
      "[file 88] completed.\n",
      "[file 93] starts.\n",
      "[file 93] completed.\n",
      "[file 90] starts.\n",
      "[file 90] completed.\n",
      "[file 91] starts.\n",
      "[file 91] completed.\n",
      "[file 95] starts.\n",
      "[file 95] completed.\n",
      "[file 85] starts.\n",
      "[file 85] completed.\n",
      "[file 94] starts.\n",
      "[file 94] completed.\n",
      "[file 97] starts.\n",
      "[file 97] completed.\n",
      "[file 96] starts.\n",
      "[file 96] completed.\n",
      "[file 79] starts.\n",
      "[file 79] completed.\n",
      "[file 101] starts.\n",
      "[file 101] completed.\n",
      "[file 98] starts.\n",
      "[file 98] completed.\n",
      "[file 100] starts.\n",
      "[file 100] completed.\n",
      "[file 102] starts.\n",
      "[file 102] completed.\n",
      "[file 81] starts.\n",
      "[file 81] completed.\n",
      "[file 99] starts.\n",
      "[file 99] completed.\n",
      "[file 73] starts.\n",
      "[file 73] completed.\n",
      "[file 108] starts.\n",
      "[file 108] completed.\n",
      "[file 103] starts.\n",
      "[file 103] completed.\n",
      "[file 107] starts.\n",
      "[file 107] completed.\n",
      "[file 105] starts.\n",
      "[file 105] completed.\n",
      "[file 111] starts.\n",
      "[file 111] completed.\n",
      "[file 113] starts.\n",
      "[file 113] completed.\n",
      "[file 106] starts.\n",
      "[file 106] completed.\n",
      "[file 112] starts.\n",
      "[file 112] completed.\n",
      "[file 104] starts.\n",
      "[file 104] completed.\n",
      "[file 110] starts.\n",
      "[file 110] completed.\n",
      "[file 115] starts.\n",
      "[file 115] completed.\n",
      "[file 118] starts.\n",
      "[file 118] completed.\n",
      "[file 80] starts.\n",
      "[file 80] completed.\n",
      "[file 83] starts.\n",
      "[file 83] completed.\n",
      "[file 109] starts.\n",
      "[file 109] completed.\n",
      "[file 116] starts.\n",
      "[file 116] completed.\n",
      "[file 114] starts.\n",
      "[file 114] completed.\n",
      "[file 117] starts.\n",
      "[file 117] completed.\n",
      "[file 119] starts.\n",
      "[file 119] completed.\n",
      "[file 120] starts.\n",
      "[file 120] completed.\n",
      "[file 121] starts.\n",
      "[file 121] completed.\n",
      "[file 122] starts.\n",
      "[file 122] completed.\n",
      "[file 123] starts.\n",
      "[file 123] completed.\n"
     ]
    },
    {
     "name": "stderr",
     "output_type": "stream",
     "text": [
      "Due to a bug fix in https://github.com/huggingface/transformers/pull/28687 transcription using a multilingual Whisper will default to language detection followed by transcription instead of translation to English.This might be a breaking change for your use case. If you want to instead always translate your audio to English, make sure to pass `language='en'`.\n",
      "Due to a bug fix in https://github.com/huggingface/transformers/pull/28687 transcription using a multilingual Whisper will default to language detection followed by transcription instead of translation to English.This might be a breaking change for your use case. If you want to instead always translate your audio to English, make sure to pass `language='en'`.\n",
      "Processing files:  31%|███       | 125/404 [07:23<16:29,  3.55s/it]"
     ]
    },
    {
     "name": "stdout",
     "output_type": "stream",
     "text": [
      "['<|startoftranscript|><|zh|><|transcribe|><|notimestamps|>沒有因為我已經看過這個了對<|endoftext|>']\n",
      "[file 133] starts.\n",
      "[file 133] completed.\n"
     ]
    },
    {
     "name": "stderr",
     "output_type": "stream",
     "text": [
      "Processing files:  31%|███       | 126/404 [07:55<17:55,  3.87s/it]"
     ]
    },
    {
     "name": "stdout",
     "output_type": "stream",
     "text": [
      "['<|startoftranscript|><|zh|><|transcribe|><|notimestamps|>會有一些起雞皮疙瘩覺得很很急啊<|endoftext|>']\n",
      "[file 129] starts.\n",
      "[file 129] completed.\n"
     ]
    },
    {
     "name": "stderr",
     "output_type": "stream",
     "text": [
      "Processing files:  31%|███▏      | 127/404 [08:03<18:11,  3.94s/it]"
     ]
    },
    {
     "name": "stdout",
     "output_type": "stream",
     "text": [
      "['<|startoftranscript|><|zh|><|transcribe|><|notimestamps|>我也會想要成為一個更好的人和更加努力的生活<|endoftext|>']\n",
      "[file 131] starts.\n",
      "[file 131] completed.\n"
     ]
    },
    {
     "name": "stderr",
     "output_type": "stream",
     "text": [
      "Processing files:  32%|███▏      | 128/404 [09:44<27:58,  6.08s/it]"
     ]
    },
    {
     "name": "stdout",
     "output_type": "stream",
     "text": [
      "['<|startoftranscript|><|zh|><|transcribe|><|notimestamps|>看到他一次一次的打破自己的紀錄的時候會覺得有點想要流淚很為他高興<|endoftext|>']\n",
      "[file 137] starts.\n",
      "[file 137] completed.\n"
     ]
    },
    {
     "name": "stderr",
     "output_type": "stream",
     "text": [
      "Processing files:  32%|███▏      | 129/404 [09:56<28:45,  6.28s/it]"
     ]
    },
    {
     "name": "stdout",
     "output_type": "stream",
     "text": [
      "['<|startoftranscript|><|zh|><|transcribe|><|notimestamps|>最强烈的印象就是苏平天突破10秒大关进入9秒我感觉到非常的热血<|endoftext|>']\n",
      "[file 128] starts.\n",
      "[file 128] completed.\n"
     ]
    },
    {
     "name": "stderr",
     "output_type": "stream",
     "text": [
      "Processing files:  32%|███▏      | 130/404 [10:10<30:02,  6.58s/it]"
     ]
    },
    {
     "name": "stdout",
     "output_type": "stream",
     "text": [
      "['<|startoftranscript|><|zh|><|transcribe|><|notimestamps|>在影片中哪些地方给你最强烈的印象及情绪感受?哪些地方给我最强烈的印象?<|endoftext|>']\n",
      "[file 132] starts.\n",
      "[file 132] completed.\n"
     ]
    },
    {
     "name": "stderr",
     "output_type": "stream",
     "text": [
      "Processing files:  32%|███▏      | 131/404 [10:29<33:11,  7.30s/it]"
     ]
    },
    {
     "name": "stdout",
     "output_type": "stream",
     "text": [
      "['<|startoftranscript|><|zh|><|transcribe|><|notimestamps|>是的,会感觉到世界上的人们都很好,人们都很善良,很勇敢,很努力,去为自己,为大家。<|endoftext|>']\n",
      "[file 130] starts.\n",
      "[file 130] completed.\n"
     ]
    },
    {
     "name": "stderr",
     "output_type": "stream",
     "text": [
      "Processing files:  33%|███▎      | 132/404 [11:32<52:12, 11.52s/it]"
     ]
    },
    {
     "name": "stdout",
     "output_type": "stream",
     "text": [
      "['<|startoftranscript|><|zh|><|transcribe|><|notimestamps|>起鸡皮疙瘩没有起鸡皮疙瘩就是很正常也没有什么温暖之类的就是非常的正常<|endoftext|>']\n",
      "[file 125] starts.\n",
      "[file 125] completed.\n"
     ]
    },
    {
     "name": "stderr",
     "output_type": "stream",
     "text": [
      "Processing files:  33%|███▎      | 133/404 [12:15<1:05:41, 14.55s/it]"
     ]
    },
    {
     "name": "stdout",
     "output_type": "stream",
     "text": [
      "['<|startoftranscript|><|zh|><|transcribe|><|notimestamps|>蘇秉天在明知道自己已經歲數很大其他同齡人都已經退役的情況下還要堅持並且去突破自己的極限去衝擊中國的民主<|endoftext|>']\n",
      "[file 136] starts.\n",
      "[file 136] completed.\n"
     ]
    },
    {
     "name": "stderr",
     "output_type": "stream",
     "text": [
      "Processing files:  33%|███▎      | 134/404 [12:20<1:00:15, 13.39s/it]"
     ]
    },
    {
     "name": "stdout",
     "output_type": "stream",
     "text": [
      "['<|startoftranscript|><|zh|><|transcribe|><|notimestamps|>在影片中,哪个地方给我最强烈的印象及情绪感受?<|endoftext|>']\n",
      "[file 140] starts.\n",
      "[file 140] completed.\n"
     ]
    },
    {
     "name": "stderr",
     "output_type": "stream",
     "text": [
      "Processing files:  33%|███▎      | 135/404 [13:00<1:17:24, 17.27s/it]"
     ]
    },
    {
     "name": "stdout",
     "output_type": "stream",
     "text": [
      "['<|startoftranscript|><|zh|><|transcribe|><|notimestamps|>看完这部影片之后会想要成为一个更好的人比较想要做的事情就是挑战挑战自己想要突破之前已经可以做到的一些花样黄冰的动作一些跳跃<|endoftext|>']\n",
      "[file 139] starts.\n",
      "[file 139] completed.\n"
     ]
    },
    {
     "name": "stderr",
     "output_type": "stream",
     "text": [
      "Processing files:  34%|███▎      | 136/404 [13:06<1:08:18, 15.29s/it]"
     ]
    },
    {
     "name": "stdout",
     "output_type": "stream",
     "text": [
      "['<|startoftranscript|><|zh|><|transcribe|><|notimestamps|>大多数人都是很善良的虽然说现在网络上很多一些负面新闻但是我觉得现在在我身边的人以及在我接触到的一些网络上面的人都是比较友好的<|endoftext|>']\n",
      "[file 138] starts.\n",
      "[file 138] completed.\n"
     ]
    },
    {
     "name": "stderr",
     "output_type": "stream",
     "text": [
      "Processing files:  34%|███▍      | 137/404 [13:57<1:39:52, 22.44s/it]"
     ]
    },
    {
     "name": "stdout",
     "output_type": "stream",
     "text": [
      "['<|startoftranscript|><|zh|><|transcribe|><|notimestamps|>身體反應應該是有一點集中,有一點點熱<|endoftext|>']\n",
      "[file 145] starts.\n",
      "[file 145] completed.\n"
     ]
    },
    {
     "name": "stderr",
     "output_type": "stream",
     "text": [
      "Processing files:  34%|███▍      | 138/404 [14:50<2:09:40, 29.25s/it]"
     ]
    },
    {
     "name": "stdout",
     "output_type": "stream",
     "text": [
      "['<|startoftranscript|><|zh|><|transcribe|><|notimestamps|>在影片中哪些地方给我最强烈的印象及情绪感受?请片段描述一下当下的情绪感受当下的情绪没什么情绪,只是都很搞笑因为这个老师好像是在搞公开课还是什么<|endoftext|>']\n",
      "[file 124] starts.\n",
      "[file 124] completed.\n"
     ]
    },
    {
     "name": "stderr",
     "output_type": "stream",
     "text": [
      "Processing files:  34%|███▍      | 139/404 [15:18<2:07:58, 28.98s/it]"
     ]
    },
    {
     "name": "stdout",
     "output_type": "stream",
     "text": [
      "['<|startoftranscript|><|zh|><|transcribe|><|notimestamps|>世上的人们实在是很好我并不这么觉得我们看到苏正天的教练现在是一个外籍教练外籍教练他是以我觉得他可能就并不会有本土教练的那种所谓的使命感自认感<|endoftext|>']\n",
      "[file 134] starts.\n",
      "[file 134] completed.\n"
     ]
    },
    {
     "name": "stderr",
     "output_type": "stream",
     "text": [
      "Processing files:  35%|███▍      | 140/404 [15:54<2:14:31, 30.58s/it]"
     ]
    },
    {
     "name": "stdout",
     "output_type": "stream",
     "text": [
      "['<|startoftranscript|><|zh|><|transcribe|><|notimestamps|>世上的人们很好,人们很善良请描述我现在对人性的看法我觉得这个老师挺好的讲话讲得很好我觉得人性人是一张白纸他长成什么样就是什么样有的人长成了好人,有的人长成了坏人这个老师,我只能说他的教学挺好的<|endoftext|>']\n",
      "[file 126] starts.\n",
      "[file 126] completed.\n"
     ]
    },
    {
     "name": "stderr",
     "output_type": "stream",
     "text": [
      "Processing files:  35%|███▍      | 141/404 [16:13<2:01:21, 27.69s/it]"
     ]
    },
    {
     "name": "stdout",
     "output_type": "stream",
     "text": [
      "['<|startoftranscript|><|zh|><|transcribe|><|notimestamps|>給我最強烈印象的地方應該是<|endoftext|>']\n",
      "[file 152] starts.\n",
      "[file 152] completed.\n"
     ]
    },
    {
     "name": "stderr",
     "output_type": "stream",
     "text": [
      "Processing files:  35%|███▌      | 142/404 [16:36<1:54:53, 26.31s/it]"
     ]
    },
    {
     "name": "stdout",
     "output_type": "stream",
     "text": [
      "['<|startoftranscript|><|zh|><|transcribe|><|notimestamps|>是否会想成为更好的人怎么说呢看完这部短片后,我有特别想做事我觉得我需要练习一下自己的表达能力和朗诵能力就是有情感的朗诵一些东西出来像我们这个老师的公开课他就教小学的话就是非常的生动有情感<|endoftext|>']\n",
      "[file 127] starts.\n",
      "[file 127] completed.\n"
     ]
    },
    {
     "name": "stderr",
     "output_type": "stream",
     "text": [
      "Processing files:  35%|███▌      | 143/404 [16:54<1:44:15, 23.97s/it]"
     ]
    },
    {
     "name": "stdout",
     "output_type": "stream",
     "text": [
      "['<|startoftranscript|><|zh|><|transcribe|><|notimestamps|>看完短片之後沒有覺得市場的人實在是很好也不是所有人都那麼善良但是有一部分人是善良的吧就是好壞各有各有<|endoftext|>']\n",
      "[file 146] starts.\n",
      "[file 146] completed.\n"
     ]
    },
    {
     "name": "stderr",
     "output_type": "stream",
     "text": [
      "Processing files:  36%|███▌      | 144/404 [17:43<2:15:28, 31.26s/it]"
     ]
    },
    {
     "name": "stdout",
     "output_type": "stream",
     "text": [
      "['<|startoftranscript|><|zh|><|transcribe|><|notimestamps|>就会有激动胸口温暖我没有过类似的感觉有时候看感动的会喉咙哽咽看这条视频的这部短片的话就是还好但是会觉得说很感动很正能量<|endoftext|>']\n",
      "[file 141] starts.\n",
      "[file 141] completed.\n"
     ]
    },
    {
     "name": "stderr",
     "output_type": "stream",
     "text": [
      "Processing files:  36%|███▌      | 145/404 [18:23<2:24:57, 33.58s/it]"
     ]
    },
    {
     "name": "stdout",
     "output_type": "stream",
     "text": [
      "['<|startoftranscript|><|zh|><|transcribe|><|notimestamps|>并没有想要成为一个更好的人看完这部短片过后,想继续实验没有什么其他想做的事<|endoftext|>']\n",
      "[file 151] starts.\n",
      "[file 151] completed.\n"
     ]
    },
    {
     "name": "stderr",
     "output_type": "stream",
     "text": [
      "Processing files:  36%|███▌      | 146/404 [18:39<2:03:17, 28.67s/it]"
     ]
    },
    {
     "name": "stdout",
     "output_type": "stream",
     "text": [
      "['<|startoftranscript|><|zh|><|transcribe|><|notimestamps|>是否想要成为一个更好的人苏贝田我我确实会被他这种单单意志所鼓舞但我们看到的是他在进行突破的时候在自己身体的机能已经在走下坡路的时候他所采取的是一种技术上的突破是包括我们看的那个也是另一个外国人外国人在去分析那个短片他的脚的落点去<|endoftext|>']\n",
      "[file 135] starts.\n",
      "[file 135] completed.\n"
     ]
    },
    {
     "name": "stderr",
     "output_type": "stream",
     "text": [
      "Processing files:  36%|███▋      | 147/404 [18:49<1:38:22, 22.97s/it]"
     ]
    },
    {
     "name": "stdout",
     "output_type": "stream",
     "text": [
      "['<|startoftranscript|><|zh|><|transcribe|><|notimestamps|>上个课而已怎么看到人性的善良呢只是觉得这个老师特别的和蔼可亲是个好老师然后对人性的看法呀<|endoftext|>']\n",
      "[file 150] starts.\n",
      "[file 150] completed.\n"
     ]
    },
    {
     "name": "stderr",
     "output_type": "stream",
     "text": [
      "Processing files:  37%|███▋      | 148/404 [18:56<1:17:32, 18.18s/it]"
     ]
    },
    {
     "name": "stdout",
     "output_type": "stream",
     "text": [
      "['<|startoftranscript|><|zh|><|transcribe|><|notimestamps|>感受就是这个好幼稚啊然后那个老师的普通话有一点点不好就感觉像是小学生上课情绪没有什么情绪就有一点点无聊<|endoftext|>']\n",
      "[file 148] starts.\n",
      "[file 148] completed.\n"
     ]
    },
    {
     "name": "stderr",
     "output_type": "stream",
     "text": [
      "Processing files:  37%|███▋      | 149/404 [20:16<2:35:28, 36.58s/it]"
     ]
    },
    {
     "name": "stdout",
     "output_type": "stream",
     "text": [
      "['<|startoftranscript|><|zh|><|transcribe|><|notimestamps|>看完这片短片以后我是觉得这世上的人大部分的人是美好的是善良的我一直以来也是这样的想法因为人性它是很复杂的本身我们去学心理的然后做心理学研究的我觉得人性很复杂没有错但是我是认同<|endoftext|>']\n",
      "[file 142] starts.\n",
      "[file 142] completed.\n"
     ]
    },
    {
     "name": "stderr",
     "output_type": "stream",
     "text": [
      "Processing files:  37%|███▋      | 150/404 [20:17<1:50:43, 26.15s/it]"
     ]
    },
    {
     "name": "stdout",
     "output_type": "stream",
     "text": [
      "['<|startoftranscript|><|zh|><|transcribe|><|notimestamps|>看来有一点点难受,我没有一点点考虑<|endoftext|>']\n",
      "[file 157] starts.\n",
      "[file 157] completed.\n"
     ]
    },
    {
     "name": "stderr",
     "output_type": "stream",
     "text": [
      "Processing files:  37%|███▋      | 151/404 [21:15<2:30:12, 35.62s/it]"
     ]
    },
    {
     "name": "stdout",
     "output_type": "stream",
     "text": [
      "['<|startoftranscript|><|zh|><|transcribe|><|notimestamps|>看完这部短片之后没有想成为更好的人看完这部短片之后想做的事是如果有机会做老师的话也会像视频里面的那个老师一样耐心的去给予教导<|endoftext|>']\n",
      "[file 147] starts.\n",
      "[file 147] completed.\n"
     ]
    },
    {
     "name": "stderr",
     "output_type": "stream",
     "text": [
      "Processing files:  38%|███▊      | 152/404 [21:23<1:54:44, 27.32s/it]"
     ]
    },
    {
     "name": "stdout",
     "output_type": "stream",
     "text": [
      "['<|startoftranscript|><|zh|><|transcribe|><|notimestamps|>看完这部短片以后我会想要成为一个更好的人因为运动员超过黄金年龄这么多年32岁还能说在创造纪录的话所以我觉得我现在还很年轻而且未来的时间还很长具体想做的事情的话就是说<|endoftext|>']\n",
      "[file 143] starts.\n",
      "[file 143] completed.\n"
     ]
    },
    {
     "name": "stderr",
     "output_type": "stream",
     "text": [
      "Processing files:  38%|███▊      | 153/404 [21:48<1:50:59, 26.53s/it]"
     ]
    },
    {
     "name": "stdout",
     "output_type": "stream",
     "text": [
      "['<|startoftranscript|><|zh|><|transcribe|><|notimestamps|>影片中最让我有强烈印象的是感受体验的是老师的话口音有点点特色就会让我印象深刻让我觉得回忆起之前的老师我感受是有点点无奈感觉有点像回到小学听数学课的感觉<|endoftext|>']\n",
      "[file 144] starts.\n",
      "[file 144] completed.\n"
     ]
    },
    {
     "name": "stderr",
     "output_type": "stream",
     "text": [
      "Processing files:  38%|███▊      | 154/404 [22:28<2:07:14, 30.54s/it]"
     ]
    },
    {
     "name": "stdout",
     "output_type": "stream",
     "text": [
      "['<|startoftranscript|><|zh|><|transcribe|><|notimestamps|>没有任何的生理反应但是有一点点犯困就是讲的内容好无聊啊真的很无聊没有胸口温暖也没有喉咙梗咽也没有流泪也没有起鸡皮疙瘩就是有点点无聊<|endoftext|>']\n",
      "[file 149] starts.\n",
      "[file 149] completed.\n"
     ]
    },
    {
     "name": "stderr",
     "output_type": "stream",
     "text": [
      "Processing files:  38%|███▊      | 155/404 [23:34<2:51:42, 41.37s/it]"
     ]
    },
    {
     "name": "stdout",
     "output_type": "stream",
     "text": [
      "['<|startoftranscript|><|zh|><|transcribe|><|notimestamps|>有一些眼睛有一些湿润但是还没有流泪<|endoftext|>']\n",
      "[file 165] starts.\n",
      "[file 165] completed.\n"
     ]
    },
    {
     "name": "stderr",
     "output_type": "stream",
     "text": [
      "Processing files:  39%|███▊      | 156/404 [23:38<2:03:49, 29.96s/it]"
     ]
    },
    {
     "name": "stdout",
     "output_type": "stream",
     "text": [
      "['<|startoftranscript|><|zh|><|transcribe|><|notimestamps|>影片中給我最強的印象的是那個花子被抓到了那個日軍的營裡然後隔壁的人被抬了出去然後情緒感受就是很難過<|endoftext|>']\n",
      "[file 156] starts.\n",
      "[file 156] completed.\n"
     ]
    },
    {
     "name": "stderr",
     "output_type": "stream",
     "text": [
      "Processing files:  39%|███▉      | 157/404 [23:57<1:50:52, 26.93s/it]"
     ]
    },
    {
     "name": "stdout",
     "output_type": "stream",
     "text": [
      "['<|startoftranscript|><|zh|><|transcribe|><|notimestamps|>在看完这部影片之后我是有一种就是忽然放松的状态因为在一开始呈现出来影片的状况就是里面的主人公那个哥哥和那个妹妹确实生活过得不太好<|endoftext|>']\n",
      "[file 153] starts.\n",
      "[file 153] completed.\n"
     ]
    },
    {
     "name": "stderr",
     "output_type": "stream",
     "text": [
      "Processing files:  39%|███▉      | 158/404 [24:16<1:40:28, 24.51s/it]"
     ]
    },
    {
     "name": "stdout",
     "output_type": "stream",
     "text": [
      "['<|startoftranscript|><|zh|><|transcribe|><|notimestamps|>我會想要成為一個更好的人比如說看完這部短片後會想要去好好學習然後看一些關於人性的書<|endoftext|>']\n",
      "[file 159] starts.\n",
      "[file 159] completed.\n"
     ]
    },
    {
     "name": "stderr",
     "output_type": "stream",
     "text": [
      "Processing files:  39%|███▉      | 159/404 [25:32<2:42:30, 39.80s/it]"
     ]
    },
    {
     "name": "stdout",
     "output_type": "stream",
     "text": [
      "['<|startoftranscript|><|zh|><|transcribe|><|notimestamps|>嗯<|endoftext|>']\n",
      "[file 172] starts.\n",
      "[file 172] completed.\n"
     ]
    },
    {
     "name": "stderr",
     "output_type": "stream",
     "text": [
      "Processing files:  40%|███▉      | 160/404 [25:41<2:04:35, 30.64s/it]"
     ]
    },
    {
     "name": "stdout",
     "output_type": "stream",
     "text": [
      "['<|startoftranscript|><|zh|><|transcribe|><|notimestamps|>我一直都认为这个世界上的人大多数人来说应该绝大多数人来说都是很善良的可能会有一小部分人会对你有恶意或者是别的不太好的方面但是我觉得这是一个这样才是一个真实的世界<|endoftext|>']\n",
      "[file 154] starts.\n",
      "[file 154] completed.\n"
     ]
    },
    {
     "name": "stderr",
     "output_type": "stream",
     "text": [
      "Processing files:  40%|███▉      | 161/404 [26:17<2:10:54, 32.32s/it]"
     ]
    },
    {
     "name": "stdout",
     "output_type": "stream",
     "text": [
      "['<|startoftranscript|><|zh|><|transcribe|><|notimestamps|>看完这部短片,我觉得这个世上的人不是都是很好的不是所有人都是很善良的人性是很难捉摸的有的人可能表面看起来是善良但其实内心并不是特别善良<|endoftext|>']\n",
      "[file 158] starts.\n",
      "[file 158] completed.\n"
     ]
    },
    {
     "name": "stderr",
     "output_type": "stream",
     "text": [
      "Processing files:  40%|████      | 162/404 [27:10<2:34:29, 38.30s/it]"
     ]
    },
    {
     "name": "stdout",
     "output_type": "stream",
     "text": [
      "['<|startoftranscript|><|zh|><|transcribe|><|notimestamps|>在我看完这部影片之后其实具体想做的事情是我一直都有个想法就是在我以后工作之后或者是说等我有能力照顾好之后我希望能够建立一个基金会一个慈善会去帮助像影片这样的家庭去让他们起码过上<|endoftext|>']\n",
      "[file 155] starts.\n",
      "[file 155] completed.\n"
     ]
    },
    {
     "name": "stderr",
     "output_type": "stream",
     "text": [
      "Processing files:  40%|████      | 163/404 [27:38<2:21:21, 35.19s/it]"
     ]
    },
    {
     "name": "stdout",
     "output_type": "stream",
     "text": [
      "['<|startoftranscript|><|zh|><|transcribe|><|notimestamps|>苏炳坚说他已经32岁的时候当时我印象很深觉得就是觉得很不容易还有就是他看他那个比赛录像的时候就觉得很激动看他跑得那么快<|endoftext|>']\n",
      "[file 164] starts.\n",
      "[file 164] completed.\n"
     ]
    },
    {
     "name": "stderr",
     "output_type": "stream",
     "text": [
      "Processing files:  41%|████      | 164/404 [28:11<2:18:34, 34.64s/it]"
     ]
    },
    {
     "name": "stdout",
     "output_type": "stream",
     "text": [
      "['<|startoftranscript|><|nn|><|transcribe|><|notimestamps|> ლ ༎ຶ ෴ ༎ຶ ෴ ლ<|endoftext|>']\n",
      "[file 173] starts.\n",
      "[file 173] completed.\n"
     ]
    },
    {
     "name": "stderr",
     "output_type": "stream",
     "text": [
      "Processing files:  41%|████      | 165/404 [28:14<1:40:01, 25.11s/it]"
     ]
    },
    {
     "name": "stdout",
     "output_type": "stream",
     "text": [
      "['<|startoftranscript|><|zh|><|transcribe|><|notimestamps|>我好像没有什么生理反应,就感觉老师他讲话是有点,就是比较好玩这生理反应倒应该也不算吧<|endoftext|>']\n",
      "[file 169] starts.\n",
      "[file 169] completed.\n"
     ]
    },
    {
     "name": "stderr",
     "output_type": "stream",
     "text": [
      "Processing files:  41%|████      | 166/404 [28:47<1:49:44, 27.67s/it]"
     ]
    },
    {
     "name": "stdout",
     "output_type": "stream",
     "text": [
      "['<|startoftranscript|><|zh|><|transcribe|><|notimestamps|>看完这个短片我并没有感觉对世界上的人们的看法有什么改变我个人觉得人性可能真的需要看基因<|endoftext|>']\n",
      "[file 170] starts.\n",
      "[file 170] completed.\n"
     ]
    },
    {
     "name": "stderr",
     "output_type": "stream",
     "text": [
      "Processing files:  41%|████▏     | 167/404 [29:07<1:40:12, 25.37s/it]"
     ]
    },
    {
     "name": "stdout",
     "output_type": "stream",
     "text": [
      "['<|startoftranscript|><|zh|><|transcribe|><|notimestamps|>我觉得人们都是很好很善良的每个人都有自己努力的目标努力的方向都是有理想的在各个领域可能苏秉天是在运动方面<|endoftext|>']\n",
      "[file 166] starts.\n",
      "[file 166] completed.\n"
     ]
    },
    {
     "name": "stderr",
     "output_type": "stream",
     "text": [
      "Processing files:  42%|████▏     | 168/404 [30:28<2:44:50, 41.91s/it]"
     ]
    },
    {
     "name": "stdout",
     "output_type": "stream",
     "text": [
      "['<|startoftranscript|><|zh|><|transcribe|><|notimestamps|>更好的人只能说是要努力守护自己比较重要的人吧然后更好这个点其实<|endoftext|>']\n",
      "[file 175] starts.\n",
      "[file 175] completed.\n"
     ]
    },
    {
     "name": "stderr",
     "output_type": "stream",
     "text": [
      "Processing files:  42%|████▏     | 169/404 [30:57<2:28:41, 37.96s/it]"
     ]
    },
    {
     "name": "stdout",
     "output_type": "stream",
     "text": [
      "['<|startoftranscript|><|zh|><|transcribe|><|notimestamps|>在最后一场比赛的时候会有一些声音反应那个时候就是感觉比较激动倒没有说是喉咙哽咽但是在胸口上感觉是有一股能量与血液在往上喷涌就那一瞬间尤其是他破了那个记录打了991的时候<|endoftext|>']\n",
      "[file 161] starts.\n",
      "[file 161] completed.\n"
     ]
    },
    {
     "name": "stderr",
     "output_type": "stream",
     "text": [
      "Processing files:  42%|████▏     | 170/404 [30:57<1:44:04, 26.69s/it]"
     ]
    },
    {
     "name": "stdout",
     "output_type": "stream",
     "text": [
      "['<|startoftranscript|><|zh|><|transcribe|><|notimestamps|>对市长人们是否很好这其实是一个角度的问题善良这个也是有一个定义的问题但是人性本善这个东西<|endoftext|>']\n",
      "[file 174] starts.\n",
      "[file 174] completed.\n"
     ]
    },
    {
     "name": "stderr",
     "output_type": "stream",
     "text": [
      "Processing files:  42%|████▏     | 171/404 [31:16<1:34:35, 24.36s/it]"
     ]
    },
    {
     "name": "stdout",
     "output_type": "stream",
     "text": [
      "['<|startoftranscript|><|zh|><|transcribe|><|notimestamps|>我觉得这个给我最强烈的印象就是这个老师的口音然后比较南方然后还有感觉他说话很慢然后语调比较夸张就是感觉很适合教小孩子就会给小孩很深的印象吧<|endoftext|>']\n",
      "[file 168] starts.\n",
      "[file 168] completed.\n"
     ]
    },
    {
     "name": "stderr",
     "output_type": "stream",
     "text": [
      "Processing files:  43%|████▎     | 172/404 [31:54<1:50:36, 28.61s/it]"
     ]
    },
    {
     "name": "stdout",
     "output_type": "stream",
     "text": [
      "['<|startoftranscript|><|zh|><|transcribe|><|notimestamps|>我觉得在苏炳天跟郭尔特在一个跑道上然后他努力往前跑20米超过了郭尔特虽然最后被超越了可是他那种拼搏的精神我觉得他给我非常强烈的印象以及情绪的感受还有就是在和谢振业一起跑的那个中国冠军<|endoftext|>']\n",
      "[file 160] starts.\n",
      "[file 160] completed.\n"
     ]
    },
    {
     "name": "stderr",
     "output_type": "stream",
     "text": [
      "Processing files:  43%|████▎     | 173/404 [32:23<1:50:02, 28.58s/it]"
     ]
    },
    {
     "name": "stdout",
     "output_type": "stream",
     "text": [
      "['<|startoftranscript|><|zh|><|transcribe|><|notimestamps|>我是觉得大多数人还是比较善良的因为看到苏明天他为了国家的荣耀为了自己的一些纪录以及说是也不辜负教练和人民的期望他做了这么多努力虽然已经32岁了但是他还是不断的突破着自己创造的纪录<|endoftext|>']\n",
      "[file 162] starts.\n",
      "[file 162] completed.\n"
     ]
    },
    {
     "name": "stderr",
     "output_type": "stream",
     "text": [
      "Processing files:  43%|████▎     | 174/404 [33:43<2:49:13, 44.14s/it]"
     ]
    },
    {
     "name": "stdout",
     "output_type": "stream",
     "text": [
      "['<|startoftranscript|><|zh|><|transcribe|><|notimestamps|>看完这个短片我觉得可能因为我是一个示范生然后今天早上刚进行了一个一门课里面需要有一个微课展示然后我觉得我现在就是很想去锻炼一下自己的示范技能然后可以在讲台上做到更好的<|endoftext|>']\n",
      "[file 171] starts.\n",
      "[file 171] completed.\n"
     ]
    },
    {
     "name": "stderr",
     "output_type": "stream",
     "text": [
      "Processing files:  43%|████▎     | 175/404 [33:44<1:58:36, 31.07s/it]"
     ]
    },
    {
     "name": "stdout",
     "output_type": "stream",
     "text": [
      "['<|startoftranscript|><|zh|><|transcribe|><|notimestamps|>最强烈的印象及情绪感受最强烈的印象是当他说他是名家而不是花子的时候然后还有就是他被注射没毒的时候<|endoftext|>']\n",
      "[file 176] starts.\n",
      "[file 176] completed.\n"
     ]
    },
    {
     "name": "stderr",
     "output_type": "stream",
     "text": [
      "Processing files:  44%|████▎     | 176/404 [33:52<1:31:38, 24.12s/it]"
     ]
    },
    {
     "name": "stdout",
     "output_type": "stream",
     "text": [
      "['<|startoftranscript|><|zh|><|transcribe|><|notimestamps|>生理反应是感觉看到他进了那个舒适所的时候我的心会特别疼然后就是感觉到非常自面意义上的心疼<|endoftext|>']\n",
      "[file 177] starts.\n",
      "[file 177] completed.\n"
     ]
    },
    {
     "name": "stderr",
     "output_type": "stream",
     "text": [
      "Processing files:  44%|████▍     | 177/404 [35:03<2:24:34, 38.21s/it]"
     ]
    },
    {
     "name": "stdout",
     "output_type": "stream",
     "text": [
      "['<|startoftranscript|><|nn|><|transcribe|><|notimestamps|>哪些地方给我再点?<|endoftext|>']\n",
      "[file 188] starts.\n",
      "[file 188] completed.\n"
     ]
    },
    {
     "name": "stderr",
     "output_type": "stream",
     "text": [
      "Processing files:  44%|████▍     | 178/404 [35:30<2:10:51, 34.74s/it]"
     ]
    },
    {
     "name": "stdout",
     "output_type": "stream",
     "text": [
      "['<|startoftranscript|><|zh|><|transcribe|><|notimestamps|>看完这个影片我感觉到有点眼睛有点疼然后有点走神胸口没有很温暖反而很平静吧<|endoftext|>']\n",
      "[file 181] starts.\n",
      "[file 181] completed.\n"
     ]
    },
    {
     "name": "stderr",
     "output_type": "stream",
     "text": [
      "Processing files:  44%|████▍     | 179/404 [35:38<1:41:02, 26.95s/it]"
     ]
    },
    {
     "name": "stdout",
     "output_type": "stream",
     "text": [
      "['<|startoftranscript|><|zh|><|transcribe|><|notimestamps|>摄力反应?<|endoftext|>']\n",
      "[file 189] starts.\n",
      "[file 189] completed.\n"
     ]
    },
    {
     "name": "stderr",
     "output_type": "stream",
     "text": [
      "Processing files:  45%|████▍     | 180/404 [36:15<1:51:35, 29.89s/it]"
     ]
    },
    {
     "name": "stdout",
     "output_type": "stream",
     "text": [
      "['<|startoftranscript|><|zh|><|transcribe|><|notimestamps|>看完这个短片后我没有感受到对于世界上人们的好坏没有感受到好与坏只是感受到作为人最基本的一些<|endoftext|>']\n",
      "[file 182] starts.\n",
      "[file 182] completed.\n"
     ]
    },
    {
     "name": "stderr",
     "output_type": "stream",
     "text": [
      "Processing files:  45%|████▍     | 181/404 [36:20<1:23:21, 22.43s/it]"
     ]
    },
    {
     "name": "stdout",
     "output_type": "stream",
     "text": [
      "['<|startoftranscript|><|zh|><|transcribe|><|notimestamps|>这个影片给我最强烈的感受就是这个老师讲的挺好的让大家认识到四边形引领大家去找到那些四边形最强烈的印象就是<|endoftext|>']\n",
      "[file 180] starts.\n",
      "[file 180] completed.\n"
     ]
    },
    {
     "name": "stderr",
     "output_type": "stream",
     "text": [
      "Processing files:  45%|████▌     | 182/404 [36:48<1:29:17, 24.13s/it]"
     ]
    },
    {
     "name": "stdout",
     "output_type": "stream",
     "text": [
      "['<|startoftranscript|><|zh|><|transcribe|><|notimestamps|>我是要想成为一个更好的人我觉得我应该是像苏冰天一样就是有自己的目标不断地突破自己就是先设定一个这个目标然后可能这一次努力超过这个目标下一次就设定一个更高的目标然后继续接着努力不断有更高的目标这样会激励自己不断地去<|endoftext|>']\n",
      "[file 167] starts.\n",
      "[file 167] completed.\n"
     ]
    },
    {
     "name": "stderr",
     "output_type": "stream",
     "text": [
      "Processing files:  45%|████▌     | 183/404 [38:10<2:32:55, 41.52s/it]"
     ]
    },
    {
     "name": "stdout",
     "output_type": "stream",
     "text": [
      "['<|startoftranscript|><|zh|><|transcribe|><|notimestamps|>看完整部片的给我的感受就是人心本恶除了女主人公以及她当时与她隔壁房间的女士<|endoftext|>']\n",
      "[file 186] starts.\n",
      "[file 186] completed.\n"
     ]
    },
    {
     "name": "stderr",
     "output_type": "stream",
     "text": [
      "Processing files:  46%|████▌     | 184/404 [38:21<1:58:47, 32.40s/it]"
     ]
    },
    {
     "name": "stdout",
     "output_type": "stream",
     "text": [
      "['<|startoftranscript|><|nn|><|transcribe|><|notimestamps|> 1.5 tbsp of sugar<|endoftext|>']\n",
      "[file 194] starts.\n",
      "[file 194] completed.\n"
     ]
    },
    {
     "name": "stderr",
     "output_type": "stream",
     "text": [
      "Processing files:  46%|████▌     | 185/404 [38:27<1:28:19, 24.20s/it]"
     ]
    },
    {
     "name": "stdout",
     "output_type": "stream",
     "text": [
      "['<|startoftranscript|><|zh|><|transcribe|><|notimestamps|>我感受到胸口有一点闷的感觉并没有喉咙哽咽、流泪或者起鼻疙瘩的反应<|endoftext|>']\n",
      "[file 185] starts.\n",
      "[file 185] completed.\n"
     ]
    },
    {
     "name": "stderr",
     "output_type": "stream",
     "text": [
      "Processing files:  46%|████▌     | 186/404 [38:38<1:13:53, 20.34s/it]"
     ]
    },
    {
     "name": "stdout",
     "output_type": "stream",
     "text": [
      "['<|startoftranscript|><|zh|><|transcribe|><|notimestamps|>我想成为一个更好的人我其实会想成为一个很好的人就是但是不是看完这个短片之后看完这个短片之后我没有想说可能感受到它的意义<|endoftext|>']\n",
      "[file 183] starts.\n",
      "[file 183] completed.\n"
     ]
    },
    {
     "name": "stderr",
     "output_type": "stream",
     "text": [
      "Processing files:  46%|████▋     | 187/404 [38:59<1:14:36, 20.63s/it]"
     ]
    },
    {
     "name": "stdout",
     "output_type": "stream",
     "text": [
      "['<|startoftranscript|><|zh|><|transcribe|><|notimestamps|>我感觉世界上的人不能说是好实在是很好我没有感觉人是用好坏和善良和不善良去区分的也许他们并没有太多的意识但是当身份给予了他们权利的时候他们会做一些<|endoftext|>']\n",
      "[file 178] starts.\n",
      "[file 178] completed.\n"
     ]
    },
    {
     "name": "stderr",
     "output_type": "stream",
     "text": [
      "Processing files:  47%|████▋     | 188/404 [39:19<1:13:47, 20.50s/it]"
     ]
    },
    {
     "name": "stdout",
     "output_type": "stream",
     "text": [
      "['<|startoftranscript|><|zh|><|transcribe|><|notimestamps|>看完这部短片之后对我的激励非常大我会想成为一个更好的人因为我觉得他都已经那么大年龄了跟他在同一个起跑线上同一个跑道上的都已经是比他小了那么多岁的人们他都没有去放弃自己也没有说放弃自己那个顽强拼搏的心我觉得在我身上我也可以去像他一样无论到了多大的年龄都不要忘记自己一定要去努力去超越去拼搏成为一个更好的人<|endoftext|>']\n",
      "[file 163] starts.\n",
      "[file 163] completed.\n"
     ]
    },
    {
     "name": "stderr",
     "output_type": "stream",
     "text": [
      "Processing files:  47%|████▋     | 189/404 [40:25<2:01:56, 34.03s/it]"
     ]
    },
    {
     "name": "stdout",
     "output_type": "stream",
     "text": [
      "['<|startoftranscript|><|zh|><|transcribe|><|notimestamps|>生理反应当然没有什么生理反应我觉得应该没有什么生理反应<|endoftext|>']\n",
      "[file 193] starts.\n",
      "[file 193] completed.\n"
     ]
    },
    {
     "name": "stderr",
     "output_type": "stream",
     "text": [
      "Processing files:  47%|████▋     | 190/404 [41:16<2:19:05, 39.00s/it]"
     ]
    },
    {
     "name": "stdout",
     "output_type": "stream",
     "text": [
      "['<|startoftranscript|><|zh|><|transcribe|><|notimestamps|>大概就是妹妹的丈夫說要把哥哥送到那個康中心的時候<|endoftext|>']\n",
      "[file 196] starts.\n",
      "[file 196] completed.\n"
     ]
    },
    {
     "name": "stderr",
     "output_type": "stream",
     "text": [
      "Processing files:  47%|████▋     | 191/404 [41:31<1:53:14, 31.90s/it]"
     ]
    },
    {
     "name": "stdout",
     "output_type": "stream",
     "text": [
      "['<|startoftranscript|><|zh|><|transcribe|><|notimestamps|>我现在对人性的感觉和看法我确实觉得这个世上的人确实挺好的人们都是很善良的包括刚刚那个老师<|endoftext|>']\n",
      "[file 190] starts.\n",
      "[file 190] completed.\n"
     ]
    },
    {
     "name": "stderr",
     "output_type": "stream",
     "text": [
      "Processing files:  48%|████▊     | 192/404 [42:03<1:52:29, 31.84s/it]"
     ]
    },
    {
     "name": "stdout",
     "output_type": "stream",
     "text": [
      "['<|startoftranscript|><|zh|><|transcribe|><|notimestamps|>应该就是那个小女孩跟那个就是长大以后那个长大以后的小女孩跟她的应该是男朋友还是怎么说<|endoftext|>']\n",
      "[file 192] starts.\n",
      "[file 192] completed.\n"
     ]
    },
    {
     "name": "stderr",
     "output_type": "stream",
     "text": [
      "Processing files:  48%|████▊     | 193/404 [42:17<1:33:21, 26.55s/it]"
     ]
    },
    {
     "name": "stdout",
     "output_type": "stream",
     "text": [
      "['<|startoftranscript|><|zh|><|transcribe|><|notimestamps|>我是否会想要成为一个更好的人对,我觉得看完这个以后会想就是当这种环境里面当你处于这个环境里面的时候你应该做什么不应该做什么就是不能主张这种恶的行为的发生然后想要变成一个更好的人可能要从自己的<|endoftext|>']\n",
      "[file 179] starts.\n",
      "[file 179] completed.\n"
     ]
    },
    {
     "name": "stderr",
     "output_type": "stream",
     "text": [
      "Processing files:  48%|████▊     | 194/404 [43:19<2:10:11, 37.20s/it]"
     ]
    },
    {
     "name": "stdout",
     "output_type": "stream",
     "text": [
      "['<|startoftranscript|><|zh|><|transcribe|><|notimestamps|>有什么想要做的事?我确实会想要成为一个更好的人而且这个老师的教学方法我会觉得这样教小孩还挺可爱的我会想要成为一个更好的人<|endoftext|>']\n",
      "[file 191] starts.\n",
      "[file 191] completed.\n"
     ]
    },
    {
     "name": "stderr",
     "output_type": "stream",
     "text": [
      "Processing files:  48%|████▊     | 195/404 [43:28<1:40:24, 28.82s/it]"
     ]
    },
    {
     "name": "stdout",
     "output_type": "stream",
     "text": [
      "['<|startoftranscript|><|zh|><|transcribe|><|notimestamps|>有感受到这个红武比较耿绵其他的没有<|endoftext|>']\n",
      "[file 201] starts.\n",
      "[file 201] completed.\n"
     ]
    },
    {
     "name": "stderr",
     "output_type": "stream",
     "text": [
      "Processing files:  49%|████▊     | 196/404 [44:01<1:44:11, 30.05s/it]"
     ]
    },
    {
     "name": "stdout",
     "output_type": "stream",
     "text": [
      "['<|startoftranscript|><|zh|><|transcribe|><|notimestamps|>給我帶來最強烈的印象其實感受的是在女主人公徒步回到了朝鮮的那家後受到了村裡人的非議我當時看到這裡感到非常的憤怒然後也無奈憤怒的點在於明明女主人公就已經是<|endoftext|>']\n",
      "[file 184] starts.\n",
      "[file 184] completed.\n"
     ]
    },
    {
     "name": "stderr",
     "output_type": "stream",
     "text": [
      "Processing files:  49%|████▉     | 197/404 [44:35<1:47:30, 31.16s/it]"
     ]
    },
    {
     "name": "stdout",
     "output_type": "stream",
     "text": [
      "['<|startoftranscript|><|zh|><|transcribe|><|notimestamps|>我会想要成为一个更好的人能够让自己变得更加有共情力一点能够体察到其他人的一些比较消极的情绪然后能够给予帮助然后不会去像其他人一样去想影片主题<|endoftext|>']\n",
      "[file 187] starts.\n",
      "[file 187] completed.\n"
     ]
    },
    {
     "name": "stderr",
     "output_type": "stream",
     "text": [
      "Processing files:  49%|████▉     | 198/404 [45:14<1:54:57, 33.48s/it]"
     ]
    },
    {
     "name": "stdout",
     "output_type": "stream",
     "text": [
      "['<|startoftranscript|><|zh|><|transcribe|><|notimestamps|>会想要成为一个更好的人然后现在是和平年代嘛做的主要是让自己保持一个<|endoftext|>']\n",
      "[file 203] starts.\n",
      "[file 203] completed.\n"
     ]
    },
    {
     "name": "stderr",
     "output_type": "stream",
     "text": [
      "Processing files:  49%|████▉     | 199/404 [45:37<1:44:05, 30.47s/it]"
     ]
    },
    {
     "name": "stdout",
     "output_type": "stream",
     "text": [
      "['<|startoftranscript|><|zh|><|transcribe|><|notimestamps|>会想成为一个更好的人想做的是回去把期末复习搞好然后回家给父母做一顿饭<|endoftext|>']\n",
      "[file 199] starts.\n",
      "[file 199] completed.\n"
     ]
    },
    {
     "name": "stderr",
     "output_type": "stream",
     "text": [
      "Processing files:  50%|████▉     | 200/404 [46:23<1:59:10, 35.05s/it]"
     ]
    },
    {
     "name": "stdout",
     "output_type": "stream",
     "text": [
      "['<|startoftranscript|><|zh|><|transcribe|><|notimestamps|>作为更好的人会有一点吧,就有一点就是可能看完以后就会更觉得要去拼搏呀,去奋斗呀去为了自己所爱的人努力的努力<|endoftext|>']\n",
      "[file 195] starts.\n",
      "[file 195] completed.\n"
     ]
    },
    {
     "name": "stderr",
     "output_type": "stream",
     "text": [
      "Processing files:  50%|████▉     | 201/404 [46:53<1:53:13, 33.46s/it]"
     ]
    },
    {
     "name": "stdout",
     "output_type": "stream",
     "text": [
      "['<|startoftranscript|><|zh|><|transcribe|><|notimestamps|>有流泪然后鸡皮疙瘩也有胸口温暖和喉咙梗也造成的有因为影片是很感动的事情其实也是特无话的感觉<|endoftext|>']\n",
      "[file 197] starts.\n",
      "[file 197] completed.\n"
     ]
    },
    {
     "name": "stderr",
     "output_type": "stream",
     "text": [
      "Processing files:  50%|█████     | 202/404 [47:53<2:20:16, 41.67s/it]"
     ]
    },
    {
     "name": "stdout",
     "output_type": "stream",
     "text": [
      "['<|startoftranscript|><|zh|><|transcribe|><|notimestamps|>两个吧因为世界上的人本来就说话很严重有的人很好有的人很坏因为哥哥为了妹妹去打拳击这个是好人的代表但是拳击的存在不也是<|endoftext|>']\n",
      "[file 198] starts.\n",
      "[file 198] completed.\n"
     ]
    },
    {
     "name": "stderr",
     "output_type": "stream",
     "text": [
      "Processing files:  50%|█████     | 203/404 [48:13<1:57:45, 35.15s/it]"
     ]
    },
    {
     "name": "stdout",
     "output_type": "stream",
     "text": [
      "['<|startoftranscript|><|zh|><|transcribe|><|notimestamps|>最強烈的印象應該是他剛被抓走的時候吧當時已經因為之前也了解過這種VR的事情所以被抓走的時候就已經顯現到後面悲慘的情況然後感受到的事情還是比較的<|endoftext|>']\n",
      "[file 200] starts.\n",
      "[file 200] completed.\n"
     ]
    },
    {
     "name": "stderr",
     "output_type": "stream",
     "text": [
      "Processing files:  50%|█████     | 204/404 [49:02<2:10:20, 39.10s/it]"
     ]
    },
    {
     "name": "stdout",
     "output_type": "stream",
     "text": [
      "['<|startoftranscript|><|zh|><|transcribe|><|notimestamps|>你是否感受到很好?我认为人性我觉得人性还是很好的但是他这部短片的话是偏向于说不好的那部分所以说可能确实是我没有感觉到很好<|endoftext|>']\n",
      "[file 206] starts.\n",
      "[file 206] completed.\n"
     ]
    },
    {
     "name": "stderr",
     "output_type": "stream",
     "text": [
      "Processing files:  51%|█████     | 205/404 [49:06<1:35:28, 28.79s/it]"
     ]
    },
    {
     "name": "stdout",
     "output_type": "stream",
     "text": [
      "['<|startoftranscript|><|zh|><|transcribe|><|notimestamps|>最强烈的印象以及情绪感受最强烈在开始的时候比较的觉得日本侵略者比较的残暴无耻一切不好的词语都发现了<|endoftext|>']\n",
      "[file 204] starts.\n",
      "[file 204] completed.\n"
     ]
    },
    {
     "name": "stderr",
     "output_type": "stream",
     "text": [
      "Processing files:  51%|█████     | 206/404 [49:35<1:35:07, 28.83s/it]"
     ]
    },
    {
     "name": "stdout",
     "output_type": "stream",
     "text": [
      "['<|startoftranscript|><|zh|><|transcribe|><|notimestamps|>不觉得人们都是很善良的这个东西的话人性的话我感觉还是有分丑恶吧像刚刚影片中的这种日本人的行为他们这种话显然就是一个很丑恶的一个做法然后包括现代人的话也是<|endoftext|>']\n",
      "[file 202] starts.\n",
      "[file 202] completed.\n"
     ]
    },
    {
     "name": "stderr",
     "output_type": "stream",
     "text": [
      "Processing files:  51%|█████     | 207/404 [49:40<1:10:23, 21.44s/it]"
     ]
    },
    {
     "name": "stdout",
     "output_type": "stream",
     "text": [
      "['<|startoftranscript|><|zh|><|transcribe|><|notimestamps|>生理反应是流泪然后喉咙哽咽然后感觉心脏有一点点胸闷<|endoftext|>']\n",
      "[file 213] starts.\n",
      "[file 213] completed.\n"
     ]
    },
    {
     "name": "stderr",
     "output_type": "stream",
     "text": [
      "Processing files:  51%|█████▏    | 208/404 [51:12<2:19:36, 42.73s/it]"
     ]
    },
    {
     "name": "stdout",
     "output_type": "stream",
     "text": [
      "['<|startoftranscript|><|zh|><|transcribe|><|notimestamps|>我觉得不是所有人都是很善良的就像这部影片里面虽然说哥哥就是对他妹妹很好或者是怎么样的但是迫于现实<|endoftext|>']\n",
      "[file 214] starts.\n",
      "[file 214] completed.\n"
     ]
    },
    {
     "name": "stderr",
     "output_type": "stream",
     "text": [
      "Processing files:  52%|█████▏    | 209/404 [51:14<1:39:08, 30.51s/it]"
     ]
    },
    {
     "name": "stdout",
     "output_type": "stream",
     "text": [
      "['<|startoftranscript|><|zh|><|transcribe|><|notimestamps|>最强烈的印象和感受应该是当哥哥站起来就是当现实中的他跟曾经的他同时站起来的时候然后感觉到很不容易<|endoftext|>']\n",
      "[file 212] starts.\n",
      "[file 212] completed.\n"
     ]
    },
    {
     "name": "stderr",
     "output_type": "stream",
     "text": [
      "Processing files:  52%|█████▏    | 210/404 [51:43<1:37:26, 30.14s/it]"
     ]
    },
    {
     "name": "stdout",
     "output_type": "stream",
     "text": [
      "['<|startoftranscript|><|zh|><|transcribe|><|notimestamps|>没有我只有声音反应胸口温暖没有哽咽没有流泪没有起鸡皮疙瘩也没有倒是有点口色不过在看这影片之前我的我就有点口色了<|endoftext|>']\n",
      "[file 209] starts.\n",
      "[file 209] completed.\n"
     ]
    },
    {
     "name": "stderr",
     "output_type": "stream",
     "text": [
      "Processing files:  52%|█████▏    | 211/404 [51:45<1:09:49, 21.71s/it]"
     ]
    },
    {
     "name": "stdout",
     "output_type": "stream",
     "text": [
      "['<|startoftranscript|><|zh|><|transcribe|><|notimestamps|>就是有點犯困,打了個哈欠流眼淚,別的沒有<|endoftext|>']\n",
      "[file 217] starts.\n",
      "[file 217] completed.\n"
     ]
    },
    {
     "name": "stderr",
     "output_type": "stream",
     "text": [
      "Processing files:  52%|█████▏    | 212/404 [53:01<2:01:21, 37.93s/it]"
     ]
    },
    {
     "name": "stdout",
     "output_type": "stream",
     "text": [
      "['<|startoftranscript|><|zh|><|transcribe|><|notimestamps|>胸口温暖感我感觉流了一会儿起起鸡皮疙瘩了但是可能是因为背景音乐的缘故然后就起鸡皮疙瘩了喉咙更远没有 胸口温暖也没有只是起鸡皮疙瘩了<|endoftext|>']\n",
      "[file 205] starts.\n",
      "[file 205] completed.\n"
     ]
    },
    {
     "name": "stderr",
     "output_type": "stream",
     "text": [
      "Processing files:  53%|█████▎    | 213/404 [54:05<2:25:17, 45.64s/it]"
     ]
    },
    {
     "name": "stdout",
     "output_type": "stream",
     "text": [
      "['<|startoftranscript|><|zh|><|transcribe|><|notimestamps|>我觉得人们可能有善良但也有罪恶的那些罪恶的人他们在做那些事的时候明明知道自己是在犯罪是在做那些错的事但是他们仍要去做为了满足他们自己的欲望所以对人性看法就是<|endoftext|>']\n",
      "[file 210] starts.\n",
      "[file 210] completed.\n"
     ]
    },
    {
     "name": "stderr",
     "output_type": "stream",
     "text": [
      "Processing files:  53%|█████▎    | 214/404 [55:09<2:42:33, 51.33s/it]"
     ]
    },
    {
     "name": "stdout",
     "output_type": "stream",
     "text": [
      "['<|startoftranscript|><|zh|><|transcribe|><|notimestamps|>我好像没有很深的这样的感觉就是想要成为一个更好的人或是怎么样的我很感动的是我会为这些东西很感动就是为这些亲人的爱或者说觉得世界上很多人都很不容易<|endoftext|>']\n",
      "[file 215] starts.\n",
      "[file 215] completed.\n"
     ]
    },
    {
     "name": "stderr",
     "output_type": "stream",
     "text": [
      "Processing files:  53%|█████▎    | 215/404 [55:31<2:13:56, 42.52s/it]"
     ]
    },
    {
     "name": "stdout",
     "output_type": "stream",
     "text": [
      "['<|startoftranscript|><|zh|><|transcribe|><|notimestamps|>人生时代成好,人都是善良的。<|endoftext|>']\n",
      "[file 226] starts.\n",
      "[file 226] completed.\n"
     ]
    },
    {
     "name": "stderr",
     "output_type": "stream",
     "text": [
      "Processing files:  53%|█████▎    | 216/404 [55:36<1:37:24, 31.09s/it]"
     ]
    },
    {
     "name": "stdout",
     "output_type": "stream",
     "text": [
      "['<|startoftranscript|><|zh|><|transcribe|><|notimestamps|>在看完这部短片后,我会想成为一个更好的人。<|endoftext|>']\n",
      "[file 223] starts.\n",
      "[file 223] completed.\n"
     ]
    },
    {
     "name": "stderr",
     "output_type": "stream",
     "text": [
      "Processing files:  54%|█████▎    | 217/404 [55:50<1:21:37, 26.19s/it]"
     ]
    },
    {
     "name": "stdout",
     "output_type": "stream",
     "text": [
      "['<|startoftranscript|><|zh|><|transcribe|><|notimestamps|>我倒沒有這種很明顯的感受我對於人性的看法和感覺我覺得大部分人都是好都是善良的然後人們會就是想辦法教育自己<|endoftext|>']\n",
      "[file 218] starts.\n",
      "[file 218] completed.\n"
     ]
    },
    {
     "name": "stderr",
     "output_type": "stream",
     "text": [
      "Processing files:  54%|█████▍    | 218/404 [56:52<1:54:30, 36.94s/it]"
     ]
    },
    {
     "name": "stdout",
     "output_type": "stream",
     "text": [
      "['<|startoftranscript|><|nn|><|transcribe|><|notimestamps|>吃一口<|endoftext|>']\n",
      "[file 228] starts.\n",
      "[file 228] completed.\n"
     ]
    },
    {
     "name": "stderr",
     "output_type": "stream",
     "text": [
      "Processing files:  54%|█████▍    | 219/404 [57:38<2:02:07, 39.61s/it]"
     ]
    },
    {
     "name": "stdout",
     "output_type": "stream",
     "text": [
      "['<|startoftranscript|><|zh|><|transcribe|><|notimestamps|>有些人们并没有很好但人们可能是善良的但是在一些情况下他可以变得不善良不是每一个人都是好人<|endoftext|>']\n",
      "[file 222] starts.\n",
      "[file 222] completed.\n"
     ]
    },
    {
     "name": "stderr",
     "output_type": "stream",
     "text": [
      "Processing files:  54%|█████▍    | 220/404 [58:03<1:47:44, 35.13s/it]"
     ]
    },
    {
     "name": "stdout",
     "output_type": "stream",
     "text": [
      "['<|startoftranscript|><|zh|><|transcribe|><|notimestamps|>看完這部短片後我感覺喉嚨哽咽流淚沒有起雞皮疙瘩感覺心裡好像空空的<|endoftext|>']\n",
      "[file 221] starts.\n",
      "[file 221] completed.\n"
     ]
    },
    {
     "name": "stderr",
     "output_type": "stream",
     "text": [
      "Processing files:  55%|█████▍    | 221/404 [58:04<1:15:56, 24.90s/it]"
     ]
    },
    {
     "name": "stdout",
     "output_type": "stream",
     "text": [
      "['<|startoftranscript|><|zh|><|transcribe|><|notimestamps|>我也不知道为什么两次看的影片不一样因为填文件的时候需要填编号然后回来看的时候这个影片不一样然后这影片中最强烈的情绪感就是纷纷不平吧就是他们原本应该拥有属于他们自己的青春他们将在他们的家乡结婚生子但是因为战争然后他们<|endoftext|>']\n",
      "[file 208] starts.\n",
      "[file 208] completed.\n"
     ]
    },
    {
     "name": "stderr",
     "output_type": "stream",
     "text": [
      "Processing files:  55%|█████▍    | 222/404 [58:14<1:02:11, 20.50s/it]"
     ]
    },
    {
     "name": "stdout",
     "output_type": "stream",
     "text": [
      "['<|startoftranscript|><|nn|><|transcribe|><|notimestamps|> The end<|endoftext|>']\n",
      "[file 229] starts.\n",
      "[file 229] completed.\n"
     ]
    },
    {
     "name": "stderr",
     "output_type": "stream",
     "text": [
      "Processing files:  55%|█████▌    | 223/404 [59:39<1:59:54, 39.75s/it]"
     ]
    },
    {
     "name": "stdout",
     "output_type": "stream",
     "text": [
      "['<|startoftranscript|><|nn|><|transcribe|><|notimestamps|> Bélgica<|endoftext|>']\n",
      "[file 231] starts.\n",
      "[file 231] completed.\n"
     ]
    },
    {
     "name": "stderr",
     "output_type": "stream",
     "text": [
      "Processing files:  55%|█████▌    | 224/404 [1:00:24<2:04:07, 41.38s/it]"
     ]
    },
    {
     "name": "stdout",
     "output_type": "stream",
     "text": [
      "['<|startoftranscript|><|zh|><|transcribe|><|notimestamps|>我会想要成为更好的人就是看完这篇影片后我想做的事就是可能还是珍惜我身边的人然后不会对他们说一些闲碎语因为影片中的姑娘回到家乡后被那些虽然是五星的但是还是被家乡的人们说闲话然后导致她无法再和她的妈妈一起生存下去了<|endoftext|>']\n",
      "[file 211] starts.\n",
      "[file 211] completed.\n"
     ]
    },
    {
     "name": "stderr",
     "output_type": "stream",
     "text": [
      "Processing files:  56%|█████▌    | 225/404 [1:00:54<1:52:51, 37.83s/it]"
     ]
    },
    {
     "name": "stdout",
     "output_type": "stream",
     "text": [
      "['<|startoftranscript|><|zh|><|transcribe|><|notimestamps|>是否想要成为一个更好的人我看完这部短片之后没有没有没有这种的想要成为一个更好人的想法但是我本身是想要成为一个更好的人我看完这部短片之后想再查一下这部短片的详细性行因为我觉得他这个画风以及那个绘画的这个水平非常好以及那个对花的那个描写<|endoftext|>']\n",
      "[file 207] starts.\n",
      "[file 207] completed.\n"
     ]
    },
    {
     "name": "stderr",
     "output_type": "stream",
     "text": [
      "Processing files:  56%|█████▌    | 226/404 [1:01:33<1:53:40, 38.32s/it]"
     ]
    },
    {
     "name": "stdout",
     "output_type": "stream",
     "text": [
      "['<|startoftranscript|><|zh|><|transcribe|><|notimestamps|>影片中日本人變成三角形的眼睛讓我印象最強烈並且有著最強的情緒感受影片中花子被日本人抓住也讓我有強烈的印象及情緒感受<|endoftext|>']\n",
      "[file 220] starts.\n",
      "[file 220] completed.\n"
     ]
    },
    {
     "name": "stderr",
     "output_type": "stream",
     "text": [
      "Processing files:  56%|█████▌    | 227/404 [1:01:38<1:23:46, 28.40s/it]"
     ]
    },
    {
     "name": "stdout",
     "output_type": "stream",
     "text": [
      "['<|startoftranscript|><|zh|><|transcribe|><|notimestamps|>没有太明显的生理反应<|endoftext|>']\n",
      "[file 233] starts.\n",
      "[file 233] completed.\n"
     ]
    },
    {
     "name": "stderr",
     "output_type": "stream",
     "text": [
      "Processing files:  56%|█████▋    | 228/404 [1:02:26<1:40:28, 34.25s/it]"
     ]
    },
    {
     "name": "stdout",
     "output_type": "stream",
     "text": [
      "['<|startoftranscript|><|zh|><|transcribe|><|notimestamps|>游戏的主要部分是好看的但还是有些不好的情况出现<|endoftext|>']\n",
      "[file 230] starts.\n",
      "[file 230] completed.\n"
     ]
    },
    {
     "name": "stderr",
     "output_type": "stream",
     "text": [
      "Processing files:  57%|█████▋    | 229/404 [1:02:35<1:17:24, 26.54s/it]"
     ]
    },
    {
     "name": "stdout",
     "output_type": "stream",
     "text": [
      "['<|startoftranscript|><|zh|><|transcribe|><|notimestamps|>我没有想要成为更好的人的感觉<|endoftext|>']\n",
      "[file 235] starts.\n",
      "[file 235] completed.\n"
     ]
    },
    {
     "name": "stderr",
     "output_type": "stream",
     "text": [
      "Processing files:  57%|█████▋    | 230/404 [1:03:07<1:22:07, 28.32s/it]"
     ]
    },
    {
     "name": "stdout",
     "output_type": "stream",
     "text": [
      "['<|startoftranscript|><|zh|><|transcribe|><|notimestamps|>確實有想法會成為一個更好的人因為看這個影片讓我回想到我小學讀書的時候就讀學這些東西的時候那時候我是小時候的我對吧就很乖耶就感覺現在跟那時候比起來沒有那時候的那種強烈的<|endoftext|>']\n",
      "[file 219] starts.\n",
      "[file 219] completed.\n"
     ]
    },
    {
     "name": "stderr",
     "output_type": "stream",
     "text": [
      "Processing files:  57%|█████▋    | 231/404 [1:03:48<1:32:28, 32.07s/it]"
     ]
    },
    {
     "name": "stdout",
     "output_type": "stream",
     "text": [
      "['<|startoftranscript|><|zh|><|transcribe|><|notimestamps|>强烈的印象和情绪感受当下的情绪觉得这个老师讲课确实跟小孩子讲课跟给大人讲课不一样然后感觉我看着有点困有点翻滚但其实作为小孩子来说作为听课来说这个老师讲的挺有趣挺有意思的<|endoftext|>']\n",
      "[file 216] starts.\n",
      "[file 216] completed.\n"
     ]
    },
    {
     "name": "stderr",
     "output_type": "stream",
     "text": [
      "Processing files:  57%|█████▋    | 232/404 [1:04:12<1:25:18, 29.76s/it]"
     ]
    },
    {
     "name": "stdout",
     "output_type": "stream",
     "text": [
      "['<|startoftranscript|><|zh|><|transcribe|><|notimestamps|>最强烈的印象还是在于它不管怎么样还是还是突破极限了吧越来越接近那个理想模型了最后还是到了到了983是吧突破985了最强烈的印象<|endoftext|>']\n",
      "[file 224] starts.\n",
      "[file 224] completed.\n"
     ]
    },
    {
     "name": "stderr",
     "output_type": "stream",
     "text": [
      "Processing files:  58%|█████▊    | 233/404 [1:05:57<2:28:56, 52.26s/it]"
     ]
    },
    {
     "name": "stdout",
     "output_type": "stream",
     "text": [
      "['<|startoftranscript|><|zh|><|transcribe|><|notimestamps|>是否有生理反应,请留言或写击率格的。看完影片的生理反应就是打了线,因为太无聊了,最后那个止血。另外,看的过程中脑后有点发麻,还是有什么东西,我也不知道是什么原因。<|endoftext|>']\n",
      "[file 225] starts.\n",
      "[file 225] completed.\n"
     ]
    },
    {
     "name": "stderr",
     "output_type": "stream",
     "text": [
      "Processing files:  58%|█████▊    | 234/404 [1:06:12<1:55:51, 40.89s/it]"
     ]
    },
    {
     "name": "stdout",
     "output_type": "stream",
     "text": [
      "['<|startoftranscript|><|zh|><|transcribe|><|notimestamps|>我感觉这个短片让我感觉这世上的人们是很虚伪的因为那个老师是明显的在进行一个虚伪的<|endoftext|>']\n",
      "[file 234] starts.\n",
      "[file 234] completed.\n"
     ]
    },
    {
     "name": "stderr",
     "output_type": "stream",
     "text": [
      "Processing files:  58%|█████▊    | 235/404 [1:06:18<1:26:14, 30.62s/it]"
     ]
    },
    {
     "name": "stdout",
     "output_type": "stream",
     "text": [
      "['<|startoftranscript|><|zh|><|transcribe|><|notimestamps|>感觉这个老师虽然说很有激情讲课但是不知道为什么让人有一种昏昏欲睡的感觉我现在就是很想睡觉然后并且学习一些自己<|endoftext|>']\n",
      "[file 232] starts.\n",
      "[file 232] completed.\n"
     ]
    },
    {
     "name": "stderr",
     "output_type": "stream",
     "text": [
      "Processing files:  58%|█████▊    | 236/404 [1:06:34<1:12:59, 26.07s/it]"
     ]
    },
    {
     "name": "stdout",
     "output_type": "stream",
     "text": [
      "['<|startoftranscript|><|zh|><|transcribe|><|notimestamps|>小妹妹想自己去干啥就是那个小女孩的哥哥开始已经被打得站不起来了然后就看见他妹妹他妹妹在台下哭她又<|endoftext|>']\n",
      "[file 236] starts.\n",
      "[file 236] completed.\n"
     ]
    },
    {
     "name": "stderr",
     "output_type": "stream",
     "text": [
      "Processing files:  59%|█████▊    | 237/404 [1:08:23<2:22:07, 51.06s/it]"
     ]
    },
    {
     "name": "stdout",
     "output_type": "stream",
     "text": [
      "['<|startoftranscript|><|zh|><|transcribe|><|notimestamps|>有什么更好的人?成为一个更好的人有什么意义吗?自己开心就好了更好的人对别人更好还是对自己更好?这是很重要的一件事对别人更好,对谁更好?对国家?九三一行的狗样对的是哪个国?我都不知道<|endoftext|>']\n",
      "[file 227] starts.\n",
      "[file 227] completed.\n"
     ]
    },
    {
     "name": "stderr",
     "output_type": "stream",
     "text": [
      "Processing files:  59%|█████▉    | 238/404 [1:08:27<1:42:07, 36.91s/it]"
     ]
    },
    {
     "name": "stdout",
     "output_type": "stream",
     "text": [
      "['<|startoftranscript|><|zh|><|transcribe|><|notimestamps|>我看完这个影片后暂时没有太大的顺利反应,但是你会感觉到内心有一点点的震撼。<|endoftext|>']\n",
      "[file 245] starts.\n",
      "[file 245] completed.\n"
     ]
    },
    {
     "name": "stderr",
     "output_type": "stream",
     "text": [
      "Processing files:  59%|█████▉    | 239/404 [1:08:29<1:12:53, 26.51s/it]"
     ]
    },
    {
     "name": "stdout",
     "output_type": "stream",
     "text": [
      "['<|startoftranscript|><|zh|><|transcribe|><|notimestamps|>看到苏炳天一次一次的突破纪录的时候,我感觉有强烈的印象,被他激励到了,他真的好厉害。<|endoftext|>']\n",
      "[file 240] starts.\n",
      "[file 240] completed.\n"
     ]
    },
    {
     "name": "stderr",
     "output_type": "stream",
     "text": [
      "Processing files:  59%|█████▉    | 240/404 [1:08:37<56:49, 20.79s/it]  "
     ]
    },
    {
     "name": "stdout",
     "output_type": "stream",
     "text": [
      "['<|startoftranscript|><|zh|><|transcribe|><|notimestamps|>世上的人们是实在是很好那也不至于也不感觉人都是很善良的人性是一个复杂的东西你看了这个影片你感觉人性很好很温暖<|endoftext|>']\n",
      "[file 238] starts.\n",
      "[file 238] completed.\n"
     ]
    },
    {
     "name": "stderr",
     "output_type": "stream",
     "text": [
      "Processing files:  60%|█████▉    | 241/404 [1:09:22<1:16:33, 28.18s/it]"
     ]
    },
    {
     "name": "stdout",
     "output_type": "stream",
     "text": [
      "['<|startoftranscript|><|zh|><|transcribe|><|notimestamps|>更好的人想,看完这部影片后,我想要成为一个更好的人就是好好工作,挣钱,好好对自己的亲人好,对自己的家人好要知恩图报但是还要有本钱<|endoftext|>']\n",
      "[file 239] starts.\n",
      "[file 239] completed.\n"
     ]
    },
    {
     "name": "stderr",
     "output_type": "stream",
     "text": [
      "Processing files:  60%|█████▉    | 242/404 [1:10:40<1:56:19, 43.08s/it]"
     ]
    },
    {
     "name": "stdout",
     "output_type": "stream",
     "text": [
      "['<|startoftranscript|><|zh|><|transcribe|><|notimestamps|>是的确实感觉就是内心很温暖因为这个蒋叔这个亲情他哥哥小时候照顾他被打拳挣钱照顾他然后就是因为打拳的时候被打脑袋这些然后到老了可能是<|endoftext|>']\n",
      "[file 237] starts.\n",
      "[file 237] completed.\n"
     ]
    },
    {
     "name": "stderr",
     "output_type": "stream",
     "text": [
      "Processing files:  60%|██████    | 243/404 [1:11:22<1:54:43, 42.76s/it]"
     ]
    },
    {
     "name": "stdout",
     "output_type": "stream",
     "text": [
      "['<|startoftranscript|><|zh|><|transcribe|><|notimestamps|>看完这部影片后,我会感觉到世界上有很多正能量的人,他们的生活是极其向上的。但是我对人性的感觉还没有太多的感受。<|endoftext|>']\n",
      "[file 246] starts.\n",
      "[file 246] completed.\n"
     ]
    },
    {
     "name": "stderr",
     "output_type": "stream",
     "text": [
      "Processing files:  60%|██████    | 244/404 [1:11:53<1:44:20, 39.13s/it]"
     ]
    },
    {
     "name": "stdout",
     "output_type": "stream",
     "text": [
      "['<|startoftranscript|><|zh|><|transcribe|><|notimestamps|>没有,看完后,视力反应一切正常<|endoftext|>']\n",
      "[file 253] starts.\n",
      "[file 253] completed.\n"
     ]
    },
    {
     "name": "stderr",
     "output_type": "stream",
     "text": [
      "Processing files:  61%|██████    | 245/404 [1:12:13<1:29:03, 33.61s/it]"
     ]
    },
    {
     "name": "stdout",
     "output_type": "stream",
     "text": [
      "['<|startoftranscript|><|zh|><|transcribe|><|notimestamps|>看完这部短片以后,我也想做出一些改变,就是对于自己一直犹豫要做的事情,犹豫要不要去干的事情,我也想去尝试一下。<|endoftext|>']\n",
      "[file 247] starts.\n",
      "[file 247] completed.\n"
     ]
    },
    {
     "name": "stderr",
     "output_type": "stream",
     "text": [
      "Processing files:  61%|██████    | 246/404 [1:12:35<1:19:16, 30.11s/it]"
     ]
    },
    {
     "name": "stdout",
     "output_type": "stream",
     "text": [
      "['<|startoftranscript|><|zh|><|transcribe|><|notimestamps|>我觉得还是挺感动的吧我觉得他不断地突破自己不断地激励自己有一个伟大的理想并为这个奋斗我觉得这是令人挺感动的事情可能会有点感动想流泪但是没有流出来还是挺感动的<|endoftext|>']\n",
      "[file 241] starts.\n",
      "[file 241] completed.\n"
     ]
    },
    {
     "name": "stderr",
     "output_type": "stream",
     "text": [
      "Processing files:  61%|██████    | 247/404 [1:12:48<1:04:55, 24.81s/it]"
     ]
    },
    {
     "name": "stdout",
     "output_type": "stream",
     "text": [
      "['<|startoftranscript|><|zh|><|transcribe|><|notimestamps|>大部分人应该都是好人但是也不能说所有的人们都是很善良的因为这个世界上还是存在一些不是非常善良的人我觉得人性的话就是它是复杂的我们不能用简单的善良或者说不善良去评判<|endoftext|>']\n",
      "[file 242] starts.\n",
      "[file 242] completed.\n"
     ]
    },
    {
     "name": "stderr",
     "output_type": "stream",
     "text": [
      "Processing files:  61%|██████▏   | 248/404 [1:13:40<1:25:42, 32.97s/it]"
     ]
    },
    {
     "name": "stdout",
     "output_type": "stream",
     "text": [
      "['<|startoftranscript|><|zh|><|transcribe|><|notimestamps|>我觉得影片中让我留下印象最深刻的片段就是宿敏田她说她已经28岁的时候还能勇于做出改变而且是在一个跑道的节目上我觉得这是非常值得敬佩的也需要我们去学习的吧<|endoftext|>']\n",
      "[file 244] starts.\n",
      "[file 244] completed.\n"
     ]
    },
    {
     "name": "stderr",
     "output_type": "stream",
     "text": [
      "Processing files:  62%|██████▏   | 249/404 [1:13:40<1:00:02, 23.24s/it]"
     ]
    },
    {
     "name": "stdout",
     "output_type": "stream",
     "text": [
      "['<|startoftranscript|><|zh|><|transcribe|><|notimestamps|>一个是那个小女孩想要去自杀的时候最后还是被那些日本官兵给拉了回去这个感受给我比较深我觉得她当时已经是处于一个<|endoftext|>']\n",
      "[file 248] starts.\n",
      "[file 248] completed.\n"
     ]
    },
    {
     "name": "stderr",
     "output_type": "stream",
     "text": [
      "Processing files:  62%|██████▏   | 250/404 [1:14:41<1:28:31, 34.49s/it]"
     ]
    },
    {
     "name": "stdout",
     "output_type": "stream",
     "text": [
      "['<|startoftranscript|><|zh|><|transcribe|><|notimestamps|>没有胸口这些没有什么反应可能内心会看完这个短片比较对这个短片里面的那个小女孩会对她有一些感触吧<|endoftext|>']\n",
      "[file 249] starts.\n",
      "[file 249] completed.\n"
     ]
    },
    {
     "name": "stderr",
     "output_type": "stream",
     "text": [
      "Processing files:  62%|██████▏   | 251/404 [1:15:48<1:52:28, 44.11s/it]"
     ]
    },
    {
     "name": "stdout",
     "output_type": "stream",
     "text": [
      "['<|startoftranscript|><|zh|><|transcribe|><|notimestamps|>呃 我又不想成为要一个更好的人看完这部短片后我觉得要以后如果能成为老师的话也是不错的<|endoftext|>']\n",
      "[file 255] starts.\n",
      "[file 255] completed.\n"
     ]
    },
    {
     "name": "stderr",
     "output_type": "stream",
     "text": [
      "Processing files:  62%|██████▏   | 252/404 [1:16:18<1:41:19, 40.00s/it]"
     ]
    },
    {
     "name": "stdout",
     "output_type": "stream",
     "text": [
      "['<|startoftranscript|><|zh|><|transcribe|><|notimestamps|>确实吧,我觉得看完这个影片,我觉得苏明天一直在努力成为一个更好的人,我就觉得我平时可能白烂白的有点多,所以我觉得可能稍微再努力一下,我可能会成为一个更好的人吧,所以我决定看完这个影片后续会更努力的,<|endoftext|>']\n",
      "[file 243] starts.\n",
      "[file 243] completed.\n"
     ]
    },
    {
     "name": "stderr",
     "output_type": "stream",
     "text": [
      "Processing files:  63%|██████▎   | 253/404 [1:16:26<1:16:32, 30.41s/it]"
     ]
    },
    {
     "name": "stdout",
     "output_type": "stream",
     "text": [
      "['<|startoftranscript|><|zh|><|transcribe|><|notimestamps|>我看完之後有意思覺得人們都是善良的我現在對人性看法就是就老師嘛就是他傳到授課給我一種很善良的感覺<|endoftext|>']\n",
      "[file 254] starts.\n",
      "[file 254] completed.\n"
     ]
    },
    {
     "name": "stderr",
     "output_type": "stream",
     "text": [
      "Processing files:  63%|██████▎   | 254/404 [1:16:51<1:11:45, 28.70s/it]"
     ]
    },
    {
     "name": "stdout",
     "output_type": "stream",
     "text": [
      "['<|startoftranscript|><|zh|><|transcribe|><|notimestamps|>我觉得是足球场上的T型和篮球场上的长方形我当时的情绪感受是因为我喜欢篮球和足球我会产生一种过敏感吧<|endoftext|>']\n",
      "[file 252] starts.\n",
      "[file 252] completed.\n"
     ]
    },
    {
     "name": "stderr",
     "output_type": "stream",
     "text": [
      "Processing files:  63%|██████▎   | 255/404 [1:17:37<1:24:44, 34.12s/it]"
     ]
    },
    {
     "name": "stdout",
     "output_type": "stream",
     "text": [
      "['<|startoftranscript|><|zh|><|transcribe|><|notimestamps|>看完影片的生理反应好像没有很多就是变得更平静了然后可能在最后的时候有一些些的胸口温暖<|endoftext|>']\n",
      "[file 257] starts.\n",
      "[file 257] completed.\n"
     ]
    },
    {
     "name": "stderr",
     "output_type": "stream",
     "text": [
      "Processing files:  63%|██████▎   | 256/404 [1:17:49<1:07:46, 27.48s/it]"
     ]
    },
    {
     "name": "stdout",
     "output_type": "stream",
     "text": [
      "['<|startoftranscript|><|zh|><|transcribe|><|notimestamps|>最后的时候苏秉天说就算他自己跑不出9秒85也会让就是他会带出中国的运动员能跑出9秒85运动员的人<|endoftext|>']\n",
      "[file 256] starts.\n",
      "[file 256] completed.\n"
     ]
    },
    {
     "name": "stderr",
     "output_type": "stream",
     "text": [
      "Processing files:  64%|██████▎   | 257/404 [1:17:51<47:56, 19.57s/it]  "
     ]
    },
    {
     "name": "stdout",
     "output_type": "stream",
     "text": [
      "['<|startoftranscript|><|zh|><|transcribe|><|notimestamps|>我觉得人性就是你不能用单一的去评判就有好的也有不好的人就每个人都有不同的两面性吧可能在当时那个社会当时那个存在就是也是会存在这好人的我是有这种想法的包括现在在现在<|endoftext|>']\n",
      "[file 250] starts.\n",
      "[file 250] completed.\n"
     ]
    },
    {
     "name": "stderr",
     "output_type": "stream",
     "text": [
      "Processing files:  64%|██████▍   | 258/404 [1:18:44<1:12:02, 29.61s/it]"
     ]
    },
    {
     "name": "stdout",
     "output_type": "stream",
     "text": [
      "['<|startoftranscript|><|zh|><|transcribe|><|notimestamps|>会的,就是我觉得,不光是看完这个短片,我觉得我的人生都应该是要朝着这个方向去努力看完这个短片的话,我觉得就是怎么说呢,反正就是做更好的自己,然后不要被其他人所运用<|endoftext|>']\n",
      "[file 251] starts.\n",
      "[file 251] completed.\n"
     ]
    },
    {
     "name": "stderr",
     "output_type": "stream",
     "text": [
      "Processing files:  64%|██████▍   | 259/404 [1:19:13<1:11:45, 29.69s/it]"
     ]
    },
    {
     "name": "stdout",
     "output_type": "stream",
     "text": [
      "['<|startoftranscript|><|zh|><|transcribe|><|notimestamps|>我感觉这世上的人们大多数是比较好的也大多数是比较善良的很轻的看 感觉看法<|endoftext|>']\n",
      "[file 258] starts.\n",
      "[file 258] completed.\n"
     ]
    },
    {
     "name": "stderr",
     "output_type": "stream",
     "text": [
      "Processing files:  64%|██████▍   | 260/404 [1:20:57<2:04:46, 51.99s/it]"
     ]
    },
    {
     "name": "stdout",
     "output_type": "stream",
     "text": [
      "['<|startoftranscript|><|zh|><|transcribe|><|notimestamps|>在影片中,最後被擊倒的男主角從擂臺上站起來,望向他的妹妹並且做出了當初逗妹妹笑的動作的時候<|endoftext|>']\n",
      "[file 264] starts.\n",
      "[file 264] completed.\n"
     ]
    },
    {
     "name": "stderr",
     "output_type": "stream",
     "text": [
      "Processing files:  65%|██████▍   | 261/404 [1:21:13<1:37:28, 40.90s/it]"
     ]
    },
    {
     "name": "stdout",
     "output_type": "stream",
     "text": [
      "['<|startoftranscript|><|zh|><|transcribe|><|notimestamps|>有一些顺利反应就是有流泪喉咙哽咽什么的<|endoftext|>']\n",
      "[file 269] starts.\n",
      "[file 269] completed.\n"
     ]
    },
    {
     "name": "stderr",
     "output_type": "stream",
     "text": [
      "Processing files:  65%|██████▍   | 262/404 [1:21:51<1:35:13, 40.24s/it]"
     ]
    },
    {
     "name": "stdout",
     "output_type": "stream",
     "text": [
      "['<|startoftranscript|><|zh|><|transcribe|><|notimestamps|>看完这部短片后我是否会想成为一个更好的人我会想成为一个更好的人然后他不是说就是不要给自己设限吗看完这部短片我想要把我的复习计划完成<|endoftext|>']\n",
      "[file 259] starts.\n",
      "[file 259] completed.\n"
     ]
    },
    {
     "name": "stderr",
     "output_type": "stream",
     "text": [
      "Processing files:  65%|██████▌   | 263/404 [1:22:09<1:18:28, 33.40s/it]"
     ]
    },
    {
     "name": "stdout",
     "output_type": "stream",
     "text": [
      "['<|startoftranscript|><|zh|><|transcribe|><|notimestamps|>世上的人们实在是很好没有感觉吧都很善良的话但是看完影片后我会觉得<|endoftext|>']\n",
      "[file 270] starts.\n",
      "[file 270] completed.\n"
     ]
    },
    {
     "name": "stderr",
     "output_type": "stream",
     "text": [
      "Processing files:  65%|██████▌   | 264/404 [1:22:18<1:00:44, 26.04s/it]"
     ]
    },
    {
     "name": "stdout",
     "output_type": "stream",
     "text": [
      "['<|startoftranscript|><|zh|><|transcribe|><|notimestamps|>看完这部短片后,我的心理反应更多是胸口温暖然后内心感受会比较剧烈会有一种振奋的感觉<|endoftext|>']\n",
      "[file 265] starts.\n",
      "[file 265] completed.\n"
     ]
    },
    {
     "name": "stderr",
     "output_type": "stream",
     "text": [
      "Processing files:  66%|██████▌   | 266/404 [1:22:44<42:22, 18.42s/it]  "
     ]
    },
    {
     "name": "stdout",
     "output_type": "stream",
     "text": [
      "['<|startoftranscript|><|zh|><|transcribe|><|notimestamps|>我的喉咙会有些更迭因为每次感觉到难受或者是有一些不舒服的情绪这样的波动的时候都会让我的喉咙不太舒服然后可能会有一种这样的生理反应吧<|endoftext|>']\n",
      "[file 261] starts.\n",
      "[file 261] completed.\n",
      "['<|startoftranscript|><|zh|><|transcribe|><|notimestamps|>我可能会感觉有一点胸口有点不太舒服就是真的很很愤怒<|endoftext|>']\n",
      "[file 273] starts.\n",
      "[file 273] completed.\n"
     ]
    },
    {
     "name": "stderr",
     "output_type": "stream",
     "text": [
      "Processing files:  66%|██████▌   | 267/404 [1:22:55<36:21, 15.92s/it]"
     ]
    },
    {
     "name": "stdout",
     "output_type": "stream",
     "text": [
      "['<|startoftranscript|><|zh|><|transcribe|><|notimestamps|>感受就是比较感动吧因为他就是这个影片中的小女孩的哥哥然后用就是去呃成绩比赛的方式然后来赚取钱然后他养回来的妹妹就是感觉嗯然后在最后的那个<|endoftext|>']\n",
      "[file 260] starts.\n",
      "[file 260] completed.\n"
     ]
    },
    {
     "name": "stderr",
     "output_type": "stream",
     "text": [
      "Processing files:  66%|██████▋   | 268/404 [1:25:18<2:02:36, 54.09s/it]"
     ]
    },
    {
     "name": "stdout",
     "output_type": "stream",
     "text": [
      "['<|startoftranscript|><|zh|><|transcribe|><|notimestamps|>最强烈的印象就是莫过于这个女孩从花旗少女然后被日军掳去作为安抚之后她的一些<|endoftext|>']\n",
      "[file 272] starts.\n",
      "[file 272] completed.\n"
     ]
    },
    {
     "name": "stderr",
     "output_type": "stream",
     "text": [
      "Processing files:  67%|██████▋   | 269/404 [1:25:21<1:27:11, 38.76s/it]"
     ]
    },
    {
     "name": "stdout",
     "output_type": "stream",
     "text": [
      "['<|startoftranscript|><|zh|><|transcribe|><|notimestamps|>我不会感觉世界上所有的人都是善良的我不知道是人性本善还是人性本恶但没有完完全全具有<|endoftext|>']\n",
      "[file 274] starts.\n",
      "[file 274] completed.\n"
     ]
    },
    {
     "name": "stderr",
     "output_type": "stream",
     "text": [
      "Processing files:  67%|██████▋   | 270/404 [1:25:41<1:13:56, 33.11s/it]"
     ]
    },
    {
     "name": "stdout",
     "output_type": "stream",
     "text": [
      "['<|startoftranscript|><|zh|><|transcribe|><|notimestamps|>最强的印象和情绪感受应该是最后一个片段就是那个那个应该是他哥哥就是成年后的兄妹两他哥哥还最后虽然可能已经老了<|endoftext|>']\n",
      "[file 268] starts.\n",
      "[file 268] completed.\n"
     ]
    },
    {
     "name": "stderr",
     "output_type": "stream",
     "text": [
      "Processing files:  67%|██████▋   | 271/404 [1:25:58<1:02:58, 28.41s/it]"
     ]
    },
    {
     "name": "stdout",
     "output_type": "stream",
     "text": [
      "['<|startoftranscript|><|zh|><|transcribe|><|notimestamps|>講道理是有點困其他的聲音反應沒有<|endoftext|>']\n",
      "[file 277] starts.\n",
      "[file 277] completed.\n"
     ]
    },
    {
     "name": "stderr",
     "output_type": "stream",
     "text": [
      "Processing files:  67%|██████▋   | 272/404 [1:26:31<1:05:33, 29.80s/it]"
     ]
    },
    {
     "name": "stdout",
     "output_type": "stream",
     "text": [
      "['<|startoftranscript|><|zh|><|transcribe|><|notimestamps|>看完短片以後對於是否想成為更好的人沒有具體的這方面的想法想做的事情的話嗯,很久沒回家了有點有點想回去看一下我的弟弟妹妹們<|endoftext|>']\n",
      "[file 271] starts.\n",
      "[file 271] completed.\n"
     ]
    },
    {
     "name": "stderr",
     "output_type": "stream",
     "text": [
      "Processing files:  68%|██████▊   | 273/404 [1:27:29<1:23:48, 38.38s/it]"
     ]
    },
    {
     "name": "stdout",
     "output_type": "stream",
     "text": [
      "['<|startoftranscript|><|zh|><|transcribe|><|notimestamps|>看完这部短片后,我并没有过多的感觉到这世上的人们实在是很好,或者感觉人们都是很善良的。我觉得这部短片主要讲述的是与亲情之间的事,<|endoftext|>']\n",
      "[file 266] starts.\n",
      "[file 266] completed.\n"
     ]
    },
    {
     "name": "stderr",
     "output_type": "stream",
     "text": [
      "Processing files:  68%|██████▊   | 274/404 [1:27:34<1:00:50, 28.08s/it]"
     ]
    },
    {
     "name": "stdout",
     "output_type": "stream",
     "text": [
      "['<|startoftranscript|><|zh|><|transcribe|><|notimestamps|>起雞皮疙瘩吧就是覺得很恐怖很恐怖<|endoftext|>']\n",
      "[file 281] starts.\n",
      "[file 281] completed.\n"
     ]
    },
    {
     "name": "stderr",
     "output_type": "stream",
     "text": [
      "Processing files:  68%|██████▊   | 275/404 [1:29:09<1:43:50, 48.29s/it]"
     ]
    },
    {
     "name": "stdout",
     "output_type": "stream",
     "text": [
      "['<|startoftranscript|><|zh|><|transcribe|><|notimestamps|>我一直都想成为一个更好的人那看完这个短片之后呢想做的事我觉得想做的事就是可能将日军侵华呀或者是<|endoftext|>']\n",
      "[file 275] starts.\n",
      "[file 275] completed.\n"
     ]
    },
    {
     "name": "stderr",
     "output_type": "stream",
     "text": [
      "Processing files:  68%|██████▊   | 276/404 [1:29:11<1:13:12, 34.32s/it]"
     ]
    },
    {
     "name": "stdout",
     "output_type": "stream",
     "text": [
      "['<|startoftranscript|><|zh|><|transcribe|><|notimestamps|>我会想要成为一个很好的人,更好的人。这部短片对我来讲的话,如果说是让我成为一个更好的人,会有些牵强,因为在我看来,可能这个短片只是一个比较暖心的一个类似于公益宣传片,或者是说一个短片。<|endoftext|>']\n",
      "[file 263] starts.\n",
      "[file 263] completed.\n"
     ]
    },
    {
     "name": "stderr",
     "output_type": "stream",
     "text": [
      "Processing files:  69%|██████▊   | 277/404 [1:29:54<1:18:07, 36.91s/it]"
     ]
    },
    {
     "name": "stdout",
     "output_type": "stream",
     "text": [
      "['<|startoftranscript|><|zh|><|transcribe|><|notimestamps|>没有特别的一个声音进去<|endoftext|>']\n",
      "[file 289] starts.\n",
      "[file 289] completed.\n"
     ]
    },
    {
     "name": "stderr",
     "output_type": "stream",
     "text": [
      "Processing files:  69%|██████▉   | 278/404 [1:30:02<59:43, 28.44s/it]  "
     ]
    },
    {
     "name": "stdout",
     "output_type": "stream",
     "text": [
      "['<|startoftranscript|><|zh|><|transcribe|><|notimestamps|>剛剛看完這部片之後我會覺得比較難受然後可能胸口有一點點悶<|endoftext|>']\n",
      "[file 285] starts.\n",
      "[file 285] completed.\n"
     ]
    },
    {
     "name": "stderr",
     "output_type": "stream",
     "text": [
      "Processing files:  69%|██████▉   | 279/404 [1:30:06<43:41, 20.97s/it]"
     ]
    },
    {
     "name": "stdout",
     "output_type": "stream",
     "text": [
      "['<|startoftranscript|><|zh|><|transcribe|><|notimestamps|>有想要成为一个好的人比如我是学传播学的嘛就比较喜欢剪视频<|endoftext|>']\n",
      "[file 283] starts.\n",
      "[file 283] completed.\n"
     ]
    },
    {
     "name": "stderr",
     "output_type": "stream",
     "text": [
      "Processing files:  69%|██████▉   | 280/404 [1:31:13<1:11:41, 34.69s/it]"
     ]
    },
    {
     "name": "stdout",
     "output_type": "stream",
     "text": [
      "['<|startoftranscript|><|zh|><|transcribe|><|notimestamps|>看完這部短片後,我想要成為一個更好的人。對我而言的話,這部短片主要講說是哥哥為了妹妹,撫養妹妹長大而去參加擂臺,贏取一些生活費去撫養妹妹的事。對我來說的話,我就想<|endoftext|>']\n",
      "[file 267] starts.\n",
      "[file 267] completed.\n"
     ]
    },
    {
     "name": "stderr",
     "output_type": "stream",
     "text": [
      "Processing files:  70%|██████▉   | 281/404 [1:31:16<51:54, 25.32s/it]  "
     ]
    },
    {
     "name": "stdout",
     "output_type": "stream",
     "text": [
      "['<|startoftranscript|><|zh|><|transcribe|><|notimestamps|>没有感觉到世界上的人都很好也没有感觉到世界上的很善良你看那个花子他被抓去当了慰安妇可是回到村子里面<|endoftext|>']\n",
      "[file 282] starts.\n",
      "[file 282] completed.\n"
     ]
    },
    {
     "name": "stderr",
     "output_type": "stream",
     "text": [
      "Processing files:  70%|██████▉   | 282/404 [1:31:32<45:46, 22.51s/it]"
     ]
    },
    {
     "name": "stdout",
     "output_type": "stream",
     "text": [
      "['<|startoftranscript|><|zh|><|transcribe|><|notimestamps|>我感觉对人性的看法我觉得就是有好有坏吧在影片中我们可以看到这个哥哥打对的妹妹非常的好非常善良他愿意用自己的一个甚至可以说用自己的生命去换取他妹妹的一个未来的生活但是影片中也看到他妹妹的丈夫却说要把这个哥哥送到疗养院去所以说只能说每个人有不同的一个<|endoftext|>']\n",
      "[file 262] starts.\n",
      "[file 262] completed.\n"
     ]
    },
    {
     "name": "stderr",
     "output_type": "stream",
     "text": [
      "Processing files:  70%|███████   | 283/404 [1:33:27<1:41:11, 50.18s/it]"
     ]
    },
    {
     "name": "stdout",
     "output_type": "stream",
     "text": [
      "['<|startoftranscript|><|zh|><|transcribe|><|notimestamps|>最强烈的感受就是那个花子他是被逼无奈被抓到了日本那里当慰安妇可是他最后他是在战争中活下来了他在那个当慰安妇的时候<|endoftext|>']\n",
      "[file 280] starts.\n",
      "[file 280] completed.\n"
     ]
    },
    {
     "name": "stderr",
     "output_type": "stream",
     "text": [
      "Processing files:  70%|███████   | 284/404 [1:33:27<1:10:40, 35.34s/it]"
     ]
    },
    {
     "name": "stdout",
     "output_type": "stream",
     "text": [
      "['<|startoftranscript|><|zh|><|transcribe|><|notimestamps|>是否有一些生理反应?<|endoftext|>']\n",
      "[file 293] starts.\n",
      "[file 293] completed.\n"
     ]
    },
    {
     "name": "stderr",
     "output_type": "stream",
     "text": [
      "Processing files:  71%|███████   | 285/404 [1:33:49<1:01:36, 31.06s/it]"
     ]
    },
    {
     "name": "stdout",
     "output_type": "stream",
     "text": [
      "['<|startoftranscript|><|zh|><|transcribe|><|notimestamps|>嗯在他在他播放最后几个小片段的时候呃就是在不断刷新自己的截图的时候呃会感觉到呃比较激动然后有一种那种呃自豪的情绪在里面<|endoftext|>']\n",
      "[file 276] starts.\n",
      "[file 276] completed.\n"
     ]
    },
    {
     "name": "stderr",
     "output_type": "stream",
     "text": [
      "Processing files:  71%|███████   | 286/404 [1:33:55<46:50, 23.82s/it]  "
     ]
    },
    {
     "name": "stdout",
     "output_type": "stream",
     "text": [
      "['<|startoftranscript|><|zh|><|transcribe|><|notimestamps|>我看完這部片之後我會想要成為一個更好的人就是希望能通過自己努力能多多少少的幫助到別人改變一些東西<|endoftext|>']\n",
      "[file 287] starts.\n",
      "[file 287] completed.\n"
     ]
    },
    {
     "name": "stderr",
     "output_type": "stream",
     "text": [
      "Processing files:  71%|███████   | 287/404 [1:34:24<49:02, 25.15s/it]"
     ]
    },
    {
     "name": "stdout",
     "output_type": "stream",
     "text": [
      "['<|startoftranscript|><|zh|><|transcribe|><|notimestamps|>没有就是对我的影响没有很大只是说他他可能会刺激我就是会去做一些运动方面的事情因为因为比如说这个短片就是运动类型的短片了会有这种相应的感觉<|endoftext|>']\n",
      "[file 279] starts.\n",
      "[file 279] completed.\n"
     ]
    },
    {
     "name": "stderr",
     "output_type": "stream",
     "text": [
      "Processing files:  71%|███████▏  | 288/404 [1:35:34<1:14:56, 38.76s/it]"
     ]
    },
    {
     "name": "stdout",
     "output_type": "stream",
     "text": [
      "['<|startoftranscript|><|zh|><|transcribe|><|notimestamps|>我感觉这个世界上还是大部分人都是善良的但是当时受到可能一个大的一个战争环境的影响很多人会在会在那个环境下<|endoftext|>']\n",
      "[file 286] starts.\n",
      "[file 286] completed.\n"
     ]
    },
    {
     "name": "stderr",
     "output_type": "stream",
     "text": [
      "Processing files:  72%|███████▏  | 289/404 [1:35:58<1:05:31, 34.18s/it]"
     ]
    },
    {
     "name": "stdout",
     "output_type": "stream",
     "text": [
      "['<|startoftranscript|><|zh|><|transcribe|><|notimestamps|>像昆杰一样去学习吧,成为一个更加有发展潜力的一个人。<|endoftext|>']\n",
      "[file 291] starts.\n",
      "[file 291] completed.\n"
     ]
    },
    {
     "name": "stderr",
     "output_type": "stream",
     "text": [
      "Processing files:  72%|███████▏  | 290/404 [1:36:26<1:01:24, 32.32s/it]"
     ]
    },
    {
     "name": "stdout",
     "output_type": "stream",
     "text": [
      "['<|startoftranscript|><|zh|><|transcribe|><|notimestamps|>我们说人们其实是在不断的进步或者说不断的向着更好的远方去发展的一个过程<|endoftext|>']\n",
      "[file 290] starts.\n",
      "[file 290] completed.\n"
     ]
    },
    {
     "name": "stderr",
     "output_type": "stream",
     "text": [
      "Processing files:  72%|███████▏  | 291/404 [1:37:03<1:03:36, 33.78s/it]"
     ]
    },
    {
     "name": "stdout",
     "output_type": "stream",
     "text": [
      "['<|startoftranscript|><|zh|><|transcribe|><|notimestamps|>嗯 我没有什么生理反应<|endoftext|>']\n",
      "[file 301] starts.\n",
      "[file 301] completed.\n"
     ]
    },
    {
     "name": "stderr",
     "output_type": "stream",
     "text": [
      "Processing files:  72%|███████▏  | 292/404 [1:37:17<51:58, 27.84s/it]  "
     ]
    },
    {
     "name": "stdout",
     "output_type": "stream",
     "text": [
      "['<|startoftranscript|><|zh|><|transcribe|><|notimestamps|>生理反应好像没有正常生理反应没有特殊的情况还是会呼吸的<|endoftext|>']\n",
      "[file 297] starts.\n",
      "[file 297] completed.\n"
     ]
    },
    {
     "name": "stderr",
     "output_type": "stream",
     "text": [
      "Processing files:  73%|███████▎  | 293/404 [1:37:31<43:51, 23.71s/it]"
     ]
    },
    {
     "name": "stdout",
     "output_type": "stream",
     "text": [
      "['<|startoftranscript|><|zh|><|transcribe|><|notimestamps|>剛剛那個影片給我最強烈的印象就是那個女孩從一開始對婚姻的憧憬到之後被撫慰撫慰、俘虜之後的那種現實的落差感特別是她們<|endoftext|>']\n",
      "[file 284] starts.\n",
      "[file 284] completed.\n"
     ]
    },
    {
     "name": "stderr",
     "output_type": "stream",
     "text": [
      "Processing files:  73%|███████▎  | 294/404 [1:37:57<45:00, 24.55s/it]"
     ]
    },
    {
     "name": "stdout",
     "output_type": "stream",
     "text": [
      "['<|startoftranscript|><|zh|><|transcribe|><|notimestamps|>最强烈印象的应该是他突破10米那个时候吧,高宁给我今天给的就是非常的振奋,已经是一个学习的榜样,这样的过程。<|endoftext|>']\n",
      "[file 288] starts.\n",
      "[file 288] completed.\n"
     ]
    },
    {
     "name": "stderr",
     "output_type": "stream",
     "text": [
      "Processing files:  73%|███████▎  | 295/404 [1:39:33<1:23:07, 45.76s/it]"
     ]
    },
    {
     "name": "stdout",
     "output_type": "stream",
     "text": [
      "['<|startoftranscript|><|zh|><|transcribe|><|notimestamps|>最强烈的印象就是克服他自己的随着年龄的增长身体机能的下降他一直和自然的规律<|endoftext|>']\n",
      "[file 292] starts.\n",
      "[file 292] completed.\n"
     ]
    },
    {
     "name": "stderr",
     "output_type": "stream",
     "text": [
      "Processing files:  73%|███████▎  | 296/404 [1:39:58<1:11:33, 39.76s/it]"
     ]
    },
    {
     "name": "stdout",
     "output_type": "stream",
     "text": [
      "['<|startoftranscript|><|zh|><|transcribe|><|notimestamps|>人们实在是很好,你是否感觉到这世上的人们实在是善良?影片和人们是很好或者人们很善良没有什么关系我是这么觉得<|endoftext|>']\n",
      "[file 294] starts.\n",
      "[file 294] completed.\n"
     ]
    },
    {
     "name": "stderr",
     "output_type": "stream",
     "text": [
      "Processing files:  74%|███████▎  | 297/404 [1:40:01<50:47, 28.48s/it]  "
     ]
    },
    {
     "name": "stdout",
     "output_type": "stream",
     "text": [
      "[\"<|startoftranscript|><|nn|><|transcribe|><|notimestamps|> I'm going to add a little bit of color to the background.<|endoftext|>\"]\n",
      "[file 303] starts.\n",
      "[file 303] completed.\n"
     ]
    },
    {
     "name": "stderr",
     "output_type": "stream",
     "text": [
      "Processing files:  74%|███████▍  | 298/404 [1:40:34<52:55, 29.96s/it]"
     ]
    },
    {
     "name": "stdout",
     "output_type": "stream",
     "text": [
      "['<|startoftranscript|><|nn|><|transcribe|><|notimestamps|> 1.5 cm<|endoftext|>']\n",
      "[file 309] starts.\n",
      "[file 309] completed.\n"
     ]
    },
    {
     "name": "stderr",
     "output_type": "stream",
     "text": [
      "Processing files:  74%|███████▍  | 299/404 [1:41:14<57:57, 33.12s/it]"
     ]
    },
    {
     "name": "stdout",
     "output_type": "stream",
     "text": [
      "['<|startoftranscript|><|nn|><|transcribe|><|notimestamps|> 1.5 tbsp of soy sauce<|endoftext|>']\n",
      "[file 308] starts.\n",
      "[file 308] completed.\n"
     ]
    },
    {
     "name": "stderr",
     "output_type": "stream",
     "text": [
      "Processing files:  74%|███████▍  | 300/404 [1:41:29<47:32, 27.43s/it]"
     ]
    },
    {
     "name": "stdout",
     "output_type": "stream",
     "text": [
      "['<|startoftranscript|><|zh|><|transcribe|><|notimestamps|>哪和那包括這個口頭影片問卷的題目裡面那個哪也寫錯了還有一個是老師的肢體語言有點角落造作不是很喜歡主要因為我是一個<|endoftext|>']\n",
      "[file 296] starts.\n",
      "[file 296] completed.\n"
     ]
    },
    {
     "name": "stderr",
     "output_type": "stream",
     "text": [
      "Processing files:  75%|███████▍  | 301/404 [1:41:43<40:17, 23.47s/it]"
     ]
    },
    {
     "name": "stdout",
     "output_type": "stream",
     "text": [
      "['<|startoftranscript|><|zh|><|transcribe|><|notimestamps|>就是舒炳天他人羊很高龄了就是人羊还坚持在<|endoftext|>']\n",
      "[file 304] starts.\n",
      "[file 304] completed.\n"
     ]
    },
    {
     "name": "stderr",
     "output_type": "stream",
     "text": [
      "Processing files:  75%|███████▍  | 302/404 [1:42:25<49:29, 29.12s/it]"
     ]
    },
    {
     "name": "stdout",
     "output_type": "stream",
     "text": [
      "['<|startoftranscript|><|nn|><|transcribe|><|notimestamps|> 1.5.<|endoftext|>']\n",
      "[file 310] starts.\n",
      "[file 310] completed.\n"
     ]
    },
    {
     "name": "stderr",
     "output_type": "stream",
     "text": [
      "Processing files:  75%|███████▌  | 303/404 [1:43:08<55:43, 33.11s/it]"
     ]
    },
    {
     "name": "stdout",
     "output_type": "stream",
     "text": [
      "['<|startoftranscript|><|zh|><|transcribe|><|notimestamps|>没有吧因为这个短片世界上展示的是一种体育类型的竞技类短片这跟人的品质好坏没有什么关系现在对于人性的感觉及看法的话人性本善吧应该是但是后天的一些影响会对人的整体的性格和各种行为对待事物的方式会产生影响<|endoftext|>']\n",
      "[file 278] starts.\n",
      "[file 278] completed.\n"
     ]
    },
    {
     "name": "stderr",
     "output_type": "stream",
     "text": [
      "Processing files:  75%|███████▌  | 304/404 [1:43:52<1:01:00, 36.60s/it]"
     ]
    },
    {
     "name": "stdout",
     "output_type": "stream",
     "text": [
      "['<|startoftranscript|><|zh|><|transcribe|><|notimestamps|>是的,就是因为自己一直都有一个身体的困扰,就是睡眠的困扰,然后会觉得它很影响我的日常的生活和学习,影响我的正常的一些生活。<|endoftext|>']\n",
      "[file 295] starts.\n",
      "[file 295] completed.\n"
     ]
    },
    {
     "name": "stderr",
     "output_type": "stream",
     "text": [
      "Processing files:  75%|███████▌  | 305/404 [1:44:22<56:57, 34.52s/it]  "
     ]
    },
    {
     "name": "stdout",
     "output_type": "stream",
     "text": [
      "['<|startoftranscript|><|zh|><|transcribe|><|notimestamps|>看完後確實會想要成為一個更好的朋友<|endoftext|>']\n",
      "[file 311] starts.\n",
      "[file 311] completed.\n"
     ]
    },
    {
     "name": "stderr",
     "output_type": "stream",
     "text": [
      "Processing files:  76%|███████▌  | 306/404 [1:44:51<53:51, 32.98s/it]"
     ]
    },
    {
     "name": "stdout",
     "output_type": "stream",
     "text": [
      "['<|startoftranscript|><|zh|><|transcribe|><|notimestamps|>身体反应的话,可能,我就觉得自己可能有挺多失序的然后的话,流泪到还没有,但是可能有点接近要流泪<|endoftext|>']\n",
      "[file 305] starts.\n",
      "[file 305] completed.\n"
     ]
    },
    {
     "name": "stderr",
     "output_type": "stream",
     "text": [
      "Processing files:  76%|███████▌  | 307/404 [1:46:14<1:17:33, 47.97s/it]"
     ]
    },
    {
     "name": "stdout",
     "output_type": "stream",
     "text": [
      "['<|startoftranscript|><|zh|><|transcribe|><|notimestamps|>可能我觉得现在社会文明的发展我觉得绝大部分人其实可能都是心存善意的只是可能会有一定的可能陌生人之间彼此之间可能会有一些冷漠<|endoftext|>']\n",
      "[file 306] starts.\n",
      "[file 306] completed.\n"
     ]
    },
    {
     "name": "stderr",
     "output_type": "stream",
     "text": [
      "Processing files:  76%|███████▌  | 308/404 [1:46:18<55:26, 34.65s/it]  "
     ]
    },
    {
     "name": "stdout",
     "output_type": "stream",
     "text": [
      "['<|startoftranscript|><|zh|><|transcribe|><|notimestamps|>在老師給看的一部又一部的那個引導的時候我覺得給我的情緒感受非常的強烈因為每一部然後都會非常的仔細的引導我們然後我也把自己很明顯的帶入進去如果我作為一個學生的話<|endoftext|>']\n",
      "[file 300] starts.\n",
      "[file 300] completed.\n"
     ]
    },
    {
     "name": "stderr",
     "output_type": "stream",
     "text": [
      "Processing files:  76%|███████▋  | 309/404 [1:47:33<1:14:13, 46.88s/it]"
     ]
    },
    {
     "name": "stdout",
     "output_type": "stream",
     "text": [
      "['<|startoftranscript|><|zh|><|transcribe|><|notimestamps|>没有没有这只是一个将士授课的视频它就是一个赛克视频它没有要我任何的特殊感觉真的没有我还深会保持原来的状态没有特别想要变成某一种某一种人或者做某一种事的欲望<|endoftext|>']\n",
      "[file 299] starts.\n",
      "[file 299] completed.\n"
     ]
    },
    {
     "name": "stderr",
     "output_type": "stream",
     "text": [
      "Processing files:  77%|███████▋  | 310/404 [1:47:48<58:07, 37.10s/it]  "
     ]
    },
    {
     "name": "stdout",
     "output_type": "stream",
     "text": [
      "['<|startoftranscript|><|zh|><|transcribe|><|notimestamps|>因为听完之后感觉和声音有一点怪怪的感觉就是感觉听他的发音之后有点不舒服感觉有点小难受其他的反应都没有<|endoftext|>']\n",
      "[file 313] starts.\n",
      "[file 313] completed.\n"
     ]
    },
    {
     "name": "stderr",
     "output_type": "stream",
     "text": [
      "Processing files:  77%|███████▋  | 311/404 [1:48:15<53:02, 34.22s/it]"
     ]
    },
    {
     "name": "stdout",
     "output_type": "stream",
     "text": [
      "['<|startoftranscript|><|zh|><|transcribe|><|notimestamps|>这只是一个老师独自一人的教学示范片它并不与这世上的人们都很好是相关的因为我是示范专业的呀我知道有些教师在拍这种进课进赛课视频的时候会有一些刻意和学员讲一些表现性行为所以我不觉得这些<|endoftext|>']\n",
      "[file 298] starts.\n",
      "[file 298] completed.\n"
     ]
    },
    {
     "name": "stderr",
     "output_type": "stream",
     "text": [
      "Processing files:  77%|███████▋  | 312/404 [1:48:27<42:21, 27.62s/it]"
     ]
    },
    {
     "name": "stdout",
     "output_type": "stream",
     "text": [
      "['<|startoftranscript|><|zh|><|transcribe|><|notimestamps|>嗯 我觉得这也是分行业和分人的吧也不是说每一个人都可以很好也不是说每一个人都可以就是一以丐权一以丐之然后什么之类的就嗯 职业的话我觉得老师还是比较善良的然后我觉得我对人性一直都是悲观的<|endoftext|>']\n",
      "[file 302] starts.\n",
      "[file 302] completed.\n"
     ]
    },
    {
     "name": "stderr",
     "output_type": "stream",
     "text": [
      "Processing files:  77%|███████▋  | 313/404 [1:49:16<51:22, 33.87s/it]"
     ]
    },
    {
     "name": "stdout",
     "output_type": "stream",
     "text": [
      "['<|startoftranscript|><|zh|><|transcribe|><|notimestamps|>给我最强烈的印象应该就是说应该是在影片的最后吧苏丁天说中国速度没有极限中国速度不止9秒91然后就给我一个他<|endoftext|>']\n",
      "[file 316] starts.\n",
      "[file 316] completed.\n"
     ]
    },
    {
     "name": "stderr",
     "output_type": "stream",
     "text": [
      "Processing files:  78%|███████▊  | 314/404 [1:50:19<1:03:54, 42.61s/it]"
     ]
    },
    {
     "name": "stdout",
     "output_type": "stream",
     "text": [
      "['<|startoftranscript|><|zh|><|transcribe|><|notimestamps|>我觉得给我最强烈的印象和情绪感受是说他的讲话语气以及他在讲到篮球场上我们看到的一些形状比如说篮球场上看到篮球是长方形然后各种足球到操场上<|endoftext|>']\n",
      "[file 312] starts.\n",
      "[file 312] completed.\n"
     ]
    },
    {
     "name": "stderr",
     "output_type": "stream",
     "text": [
      "Processing files:  78%|███████▊  | 315/404 [1:50:21<45:05, 30.40s/it]  "
     ]
    },
    {
     "name": "stdout",
     "output_type": "stream",
     "text": [
      "['<|startoftranscript|><|zh|><|transcribe|><|notimestamps|>我看完这个影片之后其实我真的内心的感慨我觉得自己也要去追求自己要想追求的东西所以我觉得更加坚定了我觉得考研然后考取研究生然后研究自己想研究的领域学习自己想学习的领域<|endoftext|>']\n",
      "[file 307] starts.\n",
      "[file 307] completed.\n"
     ]
    },
    {
     "name": "stderr",
     "output_type": "stream",
     "text": [
      "Processing files:  78%|███████▊  | 316/404 [1:50:48<43:16, 29.51s/it]"
     ]
    },
    {
     "name": "stdout",
     "output_type": "stream",
     "text": [
      "['<|startoftranscript|><|zh|><|transcribe|><|notimestamps|>有的可能流泪的话应该没有流出来但是眼睛会微热起鸡皮疙瘩倒是也没有就是感觉到有点想流泪喉咙哽咽也有那么一点<|endoftext|>']\n",
      "[file 317] starts.\n",
      "[file 317] completed.\n"
     ]
    },
    {
     "name": "stderr",
     "output_type": "stream",
     "text": [
      "Processing files:  78%|███████▊  | 317/404 [1:51:09<38:52, 26.82s/it]"
     ]
    },
    {
     "name": "stdout",
     "output_type": "stream",
     "text": [
      "['<|startoftranscript|><|zh|><|transcribe|><|notimestamps|>有吧,我一直都有想要成为一个更好的人但是看完这部影片后想要做的事就是就是可能也会希望挑战一下自己的极限就是不要受到年龄的限制<|endoftext|>']\n",
      "[file 319] starts.\n",
      "[file 319] completed.\n"
     ]
    },
    {
     "name": "stderr",
     "output_type": "stream",
     "text": [
      "Processing files:  79%|███████▊  | 318/404 [1:52:32<1:02:47, 43.81s/it]"
     ]
    },
    {
     "name": "stdout",
     "output_type": "stream",
     "text": [
      "['<|startoftranscript|><|zh|><|transcribe|><|notimestamps|>怎么说呢感觉没有这个感觉我觉得没有感受到人性吧就除了苏秉甜她可能是比较希望为国争光这个但是我觉得跟善良搭不上而且可能也是最近因为设备上的一些事情比如<|endoftext|>']\n",
      "[file 318] starts.\n",
      "[file 318] completed.\n"
     ]
    },
    {
     "name": "stderr",
     "output_type": "stream",
     "text": [
      "Processing files:  79%|███████▉  | 319/404 [1:52:50<51:04, 36.05s/it]  "
     ]
    },
    {
     "name": "stdout",
     "output_type": "stream",
     "text": [
      "['<|startoftranscript|><|zh|><|transcribe|><|notimestamps|>在影片中给我留下最强烈的印象的是<|endoftext|>']\n",
      "[file 328] starts.\n",
      "[file 328] completed.\n"
     ]
    },
    {
     "name": "stderr",
     "output_type": "stream",
     "text": [
      "Processing files:  79%|███████▉  | 320/404 [1:53:07<42:23, 30.28s/it]"
     ]
    },
    {
     "name": "stdout",
     "output_type": "stream",
     "text": [
      "['<|startoftranscript|><|zh|><|transcribe|><|notimestamps|>看完之后觉得也没有感觉到实在是很好只能说他们尽到了自己的义务在给予他相应的报酬的时候他应该做到的程度然后给我的感觉就是人性还是也是本善的吧因为他起码是一个教育的乡长<|endoftext|>']\n",
      "[file 314] starts.\n",
      "[file 314] completed.\n"
     ]
    },
    {
     "name": "stderr",
     "output_type": "stream",
     "text": [
      "Processing files:  79%|███████▉  | 321/404 [1:53:08<29:42, 21.48s/it]"
     ]
    },
    {
     "name": "stdout",
     "output_type": "stream",
     "text": [
      "['<|startoftranscript|><|zh|><|transcribe|><|notimestamps|>看完影片好像沒什麼生理反應<|endoftext|>']\n",
      "[file 329] starts.\n",
      "[file 329] completed.\n"
     ]
    },
    {
     "name": "stderr",
     "output_type": "stream",
     "text": [
      "Processing files:  80%|███████▉  | 322/404 [1:53:23<26:34, 19.44s/it]"
     ]
    },
    {
     "name": "stdout",
     "output_type": "stream",
     "text": [
      "['<|startoftranscript|><|zh|><|transcribe|><|notimestamps|>这个影片中给我最强烈的情绪感受就是这个老师有一个很重的口音在他说哪一个图形的时候<|endoftext|>']\n",
      "[file 324] starts.\n",
      "[file 324] completed.\n"
     ]
    },
    {
     "name": "stderr",
     "output_type": "stream",
     "text": [
      "Processing files:  80%|███████▉  | 323/404 [1:53:56<31:45, 23.52s/it]"
     ]
    },
    {
     "name": "stdout",
     "output_type": "stream",
     "text": [
      "['<|startoftranscript|><|zh|><|transcribe|><|notimestamps|>最强烈的印象和情绪感受就是看到后面看懂了就是那个颤抖的那个中年人原来就是他的哥哥然后因为我自己也有一个哥哥所以就会很感动就是觉得那种兄妹俩相依为命的<|endoftext|>']\n",
      "[file 320] starts.\n",
      "[file 320] completed.\n"
     ]
    },
    {
     "name": "stderr",
     "output_type": "stream",
     "text": [
      "Processing files:  80%|████████  | 324/404 [1:54:33<37:06, 27.83s/it]"
     ]
    },
    {
     "name": "stdout",
     "output_type": "stream",
     "text": [
      "['<|startoftranscript|><|zh|><|transcribe|><|notimestamps|>没有这样的生理反应我看的都没有这样的生理反应就是我听到他讲打一个的时候会特别的留意然后<|endoftext|>']\n",
      "[file 325] starts.\n",
      "[file 325] completed.\n"
     ]
    },
    {
     "name": "stderr",
     "output_type": "stream",
     "text": [
      "Processing files:  80%|████████  | 325/404 [1:55:50<55:45, 42.35s/it]"
     ]
    },
    {
     "name": "stdout",
     "output_type": "stream",
     "text": [
      "['<|startoftranscript|><|zh|><|transcribe|><|notimestamps|>看完这篇短片之后给我的感觉就是我想一个更开朗的人吧积极就是有时候不要放开自己他放开自己之后给我的感觉就是能让你带给更多的能量带动身边的人也可以带动自己去送去一个更好的活动一个更加优秀的完成的一个状态<|endoftext|>']\n",
      "[file 315] starts.\n",
      "[file 315] completed.\n"
     ]
    },
    {
     "name": "stderr",
     "output_type": "stream",
     "text": [
      "Processing files:  81%|████████  | 326/404 [1:56:21<50:51, 39.12s/it]"
     ]
    },
    {
     "name": "stdout",
     "output_type": "stream",
     "text": [
      "['<|startoftranscript|><|zh|><|transcribe|><|notimestamps|>会,当然会啊,我本来就是想要成为一个更好的人然后,嗯,我想做的是就是好好学习吧,准备一下我的期末考试,然后考完了回去见我的家人<|endoftext|>']\n",
      "[file 323] starts.\n",
      "[file 323] completed.\n"
     ]
    },
    {
     "name": "stderr",
     "output_type": "stream",
     "text": [
      "Processing files:  81%|████████  | 327/404 [1:56:37<41:16, 32.17s/it]"
     ]
    },
    {
     "name": "stdout",
     "output_type": "stream",
     "text": [
      "['<|startoftranscript|><|zh|><|transcribe|><|notimestamps|>我感觉这个老师还是挺认真的然后学生还是挺配合的所以这个世界上的人们还是挺好的还是挺善良的因为这个老师讲课这么无聊<|endoftext|>']\n",
      "[file 326] starts.\n",
      "[file 326] completed.\n"
     ]
    },
    {
     "name": "stderr",
     "output_type": "stream",
     "text": [
      "Processing files:  81%|████████  | 328/404 [1:57:34<50:02, 39.51s/it]"
     ]
    },
    {
     "name": "stdout",
     "output_type": "stream",
     "text": [
      "['<|startoftranscript|><|zh|><|transcribe|><|notimestamps|>胸口温暖这个倒没有就是感觉有点心梗 有点心痛然后喉咙梗一夜流泪是 鸡皮疙瘩没有就是感觉忍不住流泪然后头有点痛 有点想哭喉咙很痛 胸口很胀胀胀的<|endoftext|>']\n",
      "[file 321] starts.\n",
      "[file 321] completed.\n"
     ]
    },
    {
     "name": "stderr",
     "output_type": "stream",
     "text": [
      "Processing files:  81%|████████▏ | 329/404 [1:57:38<35:57, 28.77s/it]"
     ]
    },
    {
     "name": "stdout",
     "output_type": "stream",
     "text": [
      "['<|startoftranscript|><|zh|><|transcribe|><|notimestamps|>看完这部短片以后因为我是一个师范生所以我会对她讲课的方式会更加的观察更细致的观察然后我觉得我还是有许多<|endoftext|>']\n",
      "[file 327] starts.\n",
      "[file 327] completed.\n"
     ]
    },
    {
     "name": "stderr",
     "output_type": "stream",
     "text": [
      "Processing files:  82%|████████▏ | 330/404 [1:58:48<50:59, 41.35s/it]"
     ]
    },
    {
     "name": "stdout",
     "output_type": "stream",
     "text": [
      "['<|startoftranscript|><|zh|><|transcribe|><|notimestamps|>最强烈的印象就是这是小学老师的教学方法感觉已经是很多年前的事情了觉得很刻意很做作<|endoftext|>']\n",
      "[file 332] starts.\n",
      "[file 332] completed.\n"
     ]
    },
    {
     "name": "stderr",
     "output_type": "stream",
     "text": [
      "Processing files:  82%|████████▏ | 331/404 [1:58:49<35:26, 29.13s/it]"
     ]
    },
    {
     "name": "stdout",
     "output_type": "stream",
     "text": [
      "['<|startoftranscript|><|zh|><|transcribe|><|notimestamps|>看完影片后的时候一下胜利感应反应我并没有一下胜利反应<|endoftext|>']\n",
      "[file 337] starts.\n",
      "[file 337] completed.\n"
     ]
    },
    {
     "name": "stderr",
     "output_type": "stream",
     "text": [
      "Processing files:  82%|████████▏ | 332/404 [1:59:18<34:58, 29.14s/it]"
     ]
    },
    {
     "name": "stdout",
     "output_type": "stream",
     "text": [
      "['<|startoftranscript|><|zh|><|transcribe|><|notimestamps|>我觉得很难说现在这个世上的人们肯定有好人但是我觉得有很坏的人我并不觉得人们都是很善良的就像前段时间那个唐山那大人的事情我觉得人性是一个很复杂的东西仅凭我现在的阅历我觉得很难说去看透吧<|endoftext|>']\n",
      "[file 322] starts.\n",
      "[file 322] completed.\n"
     ]
    },
    {
     "name": "stderr",
     "output_type": "stream",
     "text": [
      "Processing files:  82%|████████▏ | 333/404 [2:00:04<40:21, 34.10s/it]"
     ]
    },
    {
     "name": "stdout",
     "output_type": "stream",
     "text": [
      "['<|startoftranscript|><|zh|><|transcribe|><|notimestamps|>我没有想成为一个更好的人因为战争不是我发动的嘛我想做的事就是多帮助那些在战争中受到伤害的人<|endoftext|>']\n",
      "[file 331] starts.\n",
      "[file 331] completed.\n"
     ]
    },
    {
     "name": "stderr",
     "output_type": "stream",
     "text": [
      "Processing files:  83%|████████▎ | 334/404 [2:00:27<36:07, 30.97s/it]"
     ]
    },
    {
     "name": "stdout",
     "output_type": "stream",
     "text": [
      "['<|startoftranscript|><|zh|><|transcribe|><|notimestamps|>看完這部影片後,請具體秒數你看完,然後想做的事情就是不要再看這個影片了。<|endoftext|>']\n",
      "[file 339] starts.\n",
      "[file 339] completed.\n"
     ]
    },
    {
     "name": "stderr",
     "output_type": "stream",
     "text": [
      "Processing files:  83%|████████▎ | 335/404 [2:00:58<35:22, 30.76s/it]"
     ]
    },
    {
     "name": "stdout",
     "output_type": "stream",
     "text": [
      "[\"<|startoftranscript|><|nn|><|transcribe|><|notimestamps|> I'm not sure what to do.<|endoftext|>\"]\n",
      "[file 344] starts.\n",
      "[file 344] completed.\n"
     ]
    },
    {
     "name": "stderr",
     "output_type": "stream",
     "text": [
      "Processing files:  83%|████████▎ | 336/404 [2:01:03<26:11, 23.10s/it]"
     ]
    },
    {
     "name": "stdout",
     "output_type": "stream",
     "text": [
      "['<|startoftranscript|><|zh|><|transcribe|><|notimestamps|>我现在对人性的看法就是人性挺复杂的然后有时候人们会发动战争然后人性好的一面大家又会互相帮助所以就是挺复杂的<|endoftext|>']\n",
      "[file 330] starts.\n",
      "[file 330] completed.\n"
     ]
    },
    {
     "name": "stderr",
     "output_type": "stream",
     "text": [
      "Processing files:  83%|████████▎ | 337/404 [2:01:33<28:13, 25.28s/it]"
     ]
    },
    {
     "name": "stdout",
     "output_type": "stream",
     "text": [
      "['<|startoftranscript|><|zh|><|transcribe|><|notimestamps|>看完之后,没有什么特别的生理反应,只是觉得有点无聊,身上也没有感觉哪里很奇怪,没有特殊感觉。<|endoftext|>']\n",
      "[file 333] starts.\n",
      "[file 333] completed.\n"
     ]
    },
    {
     "name": "stderr",
     "output_type": "stream",
     "text": [
      "Processing files:  84%|████████▎ | 338/404 [2:03:22<55:24, 50.37s/it]"
     ]
    },
    {
     "name": "stdout",
     "output_type": "stream",
     "text": [
      "['<|startoftranscript|><|zh|><|transcribe|><|notimestamps|>这个影片让我看到一些不好的现象但是也没有大到让我觉得这个世界上的人都是不好的或者说都是善良的<|endoftext|>']\n",
      "[file 342] starts.\n",
      "[file 342] completed.\n"
     ]
    },
    {
     "name": "stderr",
     "output_type": "stream",
     "text": [
      "Processing files:  84%|████████▍ | 339/404 [2:03:24<38:50, 35.85s/it]"
     ]
    },
    {
     "name": "stdout",
     "output_type": "stream",
     "text": [
      "['<|startoftranscript|><|zh|><|transcribe|><|notimestamps|>看完這部短片無法就是看完這部短片之後<|endoftext|>']\n",
      "[file 346] starts.\n",
      "[file 346] completed.\n"
     ]
    },
    {
     "name": "stderr",
     "output_type": "stream",
     "text": [
      "Processing files:  84%|████████▍ | 340/404 [2:03:54<36:27, 34.18s/it]"
     ]
    },
    {
     "name": "stdout",
     "output_type": "stream",
     "text": [
      "['<|startoftranscript|><|zh|><|transcribe|><|notimestamps|>感受最深的是她当时怀孕了然后又被抓过去然后到后面她继续生活然后当时的情绪是觉得是觉得有一点点<|endoftext|>']\n",
      "[file 340] starts.\n",
      "[file 340] completed.\n"
     ]
    },
    {
     "name": "stderr",
     "output_type": "stream",
     "text": [
      "Processing files:  84%|████████▍ | 341/404 [2:04:00<26:56, 25.66s/it]"
     ]
    },
    {
     "name": "stdout",
     "output_type": "stream",
     "text": [
      "['<|startoftranscript|><|zh|><|transcribe|><|notimestamps|>我觉得这个短片和人性没有什么关系但是刚刚这个短片让我想起来小学的时候我觉得可能小学老师小学同学之间的这个关系还是比较纯粹和善良的<|endoftext|>']\n",
      "[file 334] starts.\n",
      "[file 334] completed.\n"
     ]
    },
    {
     "name": "stderr",
     "output_type": "stream",
     "text": [
      "Processing files:  85%|████████▍ | 342/404 [2:05:16<41:59, 40.64s/it]"
     ]
    },
    {
     "name": "stdout",
     "output_type": "stream",
     "text": [
      "['<|startoftranscript|><|zh|><|transcribe|><|notimestamps|>影片中哪些地方給你最強烈的印象及情緒感受?印象的話就是那個老師說大家吐氣吐氣呢說大家一起吐我的感受就是沒什麼感受我覺得他說話比較他的情緒比較激烈<|endoftext|>']\n",
      "[file 336] starts.\n",
      "[file 336] completed.\n"
     ]
    },
    {
     "name": "stderr",
     "output_type": "stream",
     "text": [
      "Processing files:  85%|████████▍ | 343/404 [2:05:36<35:03, 34.48s/it]"
     ]
    },
    {
     "name": "stdout",
     "output_type": "stream",
     "text": [
      "['<|startoftranscript|><|zh|><|transcribe|><|notimestamps|>看完这个短片之后我想到的就是要去好好地复习我的期末考它让我想起了知识的重要性我得好好地去准备我的法律知识四边形可能已经不是很适合我了<|endoftext|>']\n",
      "[file 335] starts.\n",
      "[file 335] completed.\n"
     ]
    },
    {
     "name": "stderr",
     "output_type": "stream",
     "text": [
      "Processing files:  85%|████████▌ | 344/404 [2:05:37<24:21, 24.35s/it]"
     ]
    },
    {
     "name": "stdout",
     "output_type": "stream",
     "text": [
      "['<|startoftranscript|><|zh|><|transcribe|><|notimestamps|>有一些感觉到喉咙梗翼还有一些鸡皮疙瘩主要是在看到他非常可怜或者他也很沮丧的时候会有这种感受<|endoftext|>']\n",
      "[file 341] starts.\n",
      "[file 341] completed.\n"
     ]
    },
    {
     "name": "stderr",
     "output_type": "stream",
     "text": [
      "Processing files:  85%|████████▌ | 345/404 [2:06:04<24:57, 25.39s/it]"
     ]
    },
    {
     "name": "stdout",
     "output_type": "stream",
     "text": [
      "['<|startoftranscript|><|zh|><|transcribe|><|notimestamps|>知道没有,我还是听平静稍微有一点感觉这个因为那个视频不是给大人看的有太多浮点<|endoftext|>']\n",
      "[file 345] starts.\n",
      "[file 345] completed.\n"
     ]
    },
    {
     "name": "stderr",
     "output_type": "stream",
     "text": [
      "Processing files:  86%|████████▌ | 346/404 [2:07:04<34:20, 35.53s/it]"
     ]
    },
    {
     "name": "stdout",
     "output_type": "stream",
     "text": [
      "['<|startoftranscript|><|zh|><|transcribe|><|notimestamps|>成为一个更好的人的话这么一提应该有一点吧但是这个教学视频可能还没有实施呢,除了我想做的事的话<|endoftext|>']\n",
      "[file 347] starts.\n",
      "[file 347] completed.\n"
     ]
    },
    {
     "name": "stderr",
     "output_type": "stream",
     "text": [
      "Processing files:  86%|████████▌ | 347/404 [2:07:27<30:19, 31.91s/it]"
     ]
    },
    {
     "name": "stdout",
     "output_type": "stream",
     "text": [
      "['<|startoftranscript|><|zh|><|transcribe|><|notimestamps|>是我感觉看到那个日本官方版就是VF那部分的时候我感觉起鸡皮疙瘩因为最近<|endoftext|>']\n",
      "[file 349] starts.\n",
      "[file 349] completed.\n"
     ]
    },
    {
     "name": "stderr",
     "output_type": "stream",
     "text": [
      "Processing files:  86%|████████▌ | 348/404 [2:08:07<32:03, 34.35s/it]"
     ]
    },
    {
     "name": "stdout",
     "output_type": "stream",
     "text": [
      "['<|startoftranscript|><|zh|><|transcribe|><|notimestamps|>我现在对人性的看法和感觉其实这种东西我可以说我感觉到了人性两个极端首先就是<|endoftext|>']\n",
      "[file 350] starts.\n",
      "[file 350] completed.\n"
     ]
    },
    {
     "name": "stderr",
     "output_type": "stream",
     "text": [
      "Processing files:  86%|████████▋ | 349/404 [2:08:15<24:17, 26.50s/it]"
     ]
    },
    {
     "name": "stdout",
     "output_type": "stream",
     "text": [
      "['<|startoftranscript|><|zh|><|transcribe|><|notimestamps|>我觉得是我觉得是女主角回到回到她的家乡然后别的人都说她被侮辱了然后被不干净了什么的我觉得<|endoftext|>']\n",
      "[file 348] starts.\n",
      "[file 348] completed.\n"
     ]
    },
    {
     "name": "stderr",
     "output_type": "stream",
     "text": [
      "Processing files:  87%|████████▋ | 350/404 [2:09:33<37:35, 41.78s/it]"
     ]
    },
    {
     "name": "stdout",
     "output_type": "stream",
     "text": [
      "['<|startoftranscript|><|zh|><|transcribe|><|notimestamps|>更想要做的事情想要做一个好的人然后影片中有很多是因为他的这种沮丧是因为历史战争的原因没有办法而造成的所以这是一个很无奈的很无奈的结果<|endoftext|>']\n",
      "[file 343] starts.\n",
      "[file 343] completed.\n"
     ]
    },
    {
     "name": "stderr",
     "output_type": "stream",
     "text": [
      "Processing files:  87%|████████▋ | 351/404 [2:09:58<32:32, 36.83s/it]"
     ]
    },
    {
     "name": "stdout",
     "output_type": "stream",
     "text": [
      "['<|startoftranscript|><|zh|><|transcribe|><|notimestamps|>我我感觉我会想要成为一个更好的人这种感觉不是很内疚因为我看到这个我感受到的不是因为女主角已经够善良<|endoftext|>']\n",
      "[file 351] starts.\n",
      "[file 351] completed.\n"
     ]
    },
    {
     "name": "stderr",
     "output_type": "stream",
     "text": [
      "Processing files:  87%|████████▋ | 352/404 [2:10:23<28:55, 33.37s/it]"
     ]
    },
    {
     "name": "stdout",
     "output_type": "stream",
     "text": [
      "['<|startoftranscript|><|zh|><|transcribe|><|notimestamps|>看了這麼短的片子是不是覺得社長有些人真的很好看可能描述你現在對人性的看法感覺我覺得這個影片不會給我這樣的感覺吧我對人性的感覺和看法就是這個人他是一個很好的老師對很敬業所以大家都對自己的職業很敬業吧這個談不上好壞<|endoftext|>']\n",
      "[file 338] starts.\n",
      "[file 338] completed.\n"
     ]
    },
    {
     "name": "stderr",
     "output_type": "stream",
     "text": [
      "Processing files:  87%|████████▋ | 353/404 [2:12:20<49:41, 58.47s/it]"
     ]
    },
    {
     "name": "stdout",
     "output_type": "stream",
     "text": [
      "['<|startoftranscript|><|zh|><|transcribe|><|notimestamps|>我觉得一个是他的哥哥被打倒在地上昏迷的那一段吧我觉得那个是非常的很刺激反正就是整个场面又暴力又刺激我觉得这个首先是那种精神上面神经感上面的那种直接的刺激感<|endoftext|>']\n",
      "[file 352] starts.\n",
      "[file 352] completed.\n"
     ]
    },
    {
     "name": "stderr",
     "output_type": "stream",
     "text": [
      "Processing files:  88%|████████▊ | 354/404 [2:12:28<36:03, 43.26s/it]"
     ]
    },
    {
     "name": "stdout",
     "output_type": "stream",
     "text": [
      "['<|startoftranscript|><|zh|><|transcribe|><|notimestamps|>我好像没有什么反应就这挺正常的而且这部短片就是一个教学的短片就没有感觉<|endoftext|>']\n",
      "[file 365] starts.\n",
      "[file 365] completed.\n"
     ]
    },
    {
     "name": "stderr",
     "output_type": "stream",
     "text": [
      "Processing files:  88%|████████▊ | 355/404 [2:12:33<25:48, 31.60s/it]"
     ]
    },
    {
     "name": "stdout",
     "output_type": "stream",
     "text": [
      "['<|startoftranscript|><|zh|><|transcribe|><|notimestamps|>对人性的感觉和看法那如果仅从这部短片之后我的对于这个教师的印象从这个角度出发看待人性的话<|endoftext|>']\n",
      "[file 362] starts.\n",
      "[file 362] completed.\n"
     ]
    },
    {
     "name": "stderr",
     "output_type": "stream",
     "text": [
      "Processing files:  88%|████████▊ | 356/404 [2:12:38<19:04, 23.84s/it]"
     ]
    },
    {
     "name": "stdout",
     "output_type": "stream",
     "text": [
      "['<|startoftranscript|><|zh|><|transcribe|><|notimestamps|>我觉得其实怎么说呢好人坏人都有吧但是我觉得可能还是偏向于是好人和坏人都是比较少的大部分的人都是不好也不坏就是处于这么一个中性的位置吧我觉得因为在不同的情况下<|endoftext|>']\n",
      "[file 354] starts.\n",
      "[file 354] completed.\n"
     ]
    },
    {
     "name": "stderr",
     "output_type": "stream",
     "text": [
      "Processing files:  88%|████████▊ | 357/404 [2:13:27<24:36, 31.42s/it]"
     ]
    },
    {
     "name": "stdout",
     "output_type": "stream",
     "text": [
      "['<|startoftranscript|><|zh|><|transcribe|><|notimestamps|>生理反应没有,没有特别的生理反应会有一瞬间不太想看可能是因为这个影片的清晰度问题或者是针对这个教室的教学语言上<|endoftext|>']\n",
      "[file 361] starts.\n",
      "[file 361] completed.\n"
     ]
    },
    {
     "name": "stderr",
     "output_type": "stream",
     "text": [
      "Processing files:  89%|████████▊ | 358/404 [2:13:58<23:53, 31.16s/it]"
     ]
    },
    {
     "name": "stdout",
     "output_type": "stream",
     "text": [
      "['<|startoftranscript|><|zh|><|transcribe|><|notimestamps|>在看完影片以後會感覺到喉嚨有點梗嚴以及會有點不舒服感覺已經沉浸到這個影片中在帶入影片以後我覺得故事影片中的這個女生她實在招惹了<|endoftext|>']\n",
      "[file 357] starts.\n",
      "[file 357] completed.\n"
     ]
    },
    {
     "name": "stderr",
     "output_type": "stream",
     "text": [
      "Processing files:  89%|████████▉ | 359/404 [2:14:43<26:33, 35.41s/it]"
     ]
    },
    {
     "name": "stdout",
     "output_type": "stream",
     "text": [
      "['<|startoftranscript|><|zh|><|transcribe|><|notimestamps|>在这部影片中比较强烈的印象主要就是战争在战争中日本人的残害以及无人性的侵略以及枪夺造成了许多贫困而且在这个过程中<|endoftext|>']\n",
      "[file 356] starts.\n",
      "[file 356] completed.\n"
     ]
    },
    {
     "name": "stderr",
     "output_type": "stream",
     "text": [
      "Processing files:  89%|████████▉ | 360/404 [2:14:54<20:35, 28.08s/it]"
     ]
    },
    {
     "name": "stdout",
     "output_type": "stream",
     "text": [
      "['<|startoftranscript|><|zh|><|transcribe|><|notimestamps|>没有感觉世上的人实在是很好也没有感觉人们都是善良的我大概就觉得这个女老师还是挺可爱的<|endoftext|>']\n",
      "[file 366] starts.\n",
      "[file 366] completed.\n"
     ]
    },
    {
     "name": "stderr",
     "output_type": "stream",
     "text": [
      "Processing files:  89%|████████▉ | 361/404 [2:16:00<28:17, 39.48s/it]"
     ]
    },
    {
     "name": "stdout",
     "output_type": "stream",
     "text": [
      "['<|startoftranscript|><|nn|><|transcribe|><|notimestamps|> 1 tbsp of soy sauce<|endoftext|>']\n",
      "[file 370] starts.\n",
      "[file 370] completed.\n"
     ]
    },
    {
     "name": "stderr",
     "output_type": "stream",
     "text": [
      "Processing files:  90%|████████▉ | 362/404 [2:16:56<31:01, 44.32s/it]"
     ]
    },
    {
     "name": "stdout",
     "output_type": "stream",
     "text": [
      "['<|startoftranscript|><|zh|><|transcribe|><|notimestamps|>嗯,在影片中给我最起码的印象,嗯,那是<|endoftext|>']\n",
      "[file 368] starts.\n",
      "[file 368] completed.\n"
     ]
    },
    {
     "name": "stderr",
     "output_type": "stream",
     "text": [
      "Processing files:  90%|████████▉ | 363/404 [2:17:05<23:05, 33.80s/it]"
     ]
    },
    {
     "name": "stdout",
     "output_type": "stream",
     "text": [
      "['<|startoftranscript|><|zh|><|transcribe|><|notimestamps|>我觉得印象最强烈的应该是这个老师他把那个操场然后说说成了超操场应该是这样然后还有就是他的那个操场是34边形的也可能是我听错了反正听成了什么34什么<|endoftext|>']\n",
      "[file 364] starts.\n",
      "[file 364] completed.\n"
     ]
    },
    {
     "name": "stderr",
     "output_type": "stream",
     "text": [
      "Processing files:  90%|█████████ | 364/404 [2:17:09<16:29, 24.74s/it]"
     ]
    },
    {
     "name": "stdout",
     "output_type": "stream",
     "text": [
      "['<|startoftranscript|><|zh|><|transcribe|><|notimestamps|>嗯確實吧我覺得怎麼說呢我還可能還是比較心向於會去做很多更多的公益事業吧去幫助一些就是力所能及的去幫助一些自己能幫助的人嗯包括做志願啊做支教啊什麼的因為其實只有大家都向善的話這個世界才能越來越好嘛大家都主動一點的話就是<|endoftext|>']\n",
      "[file 355] starts.\n",
      "[file 355] completed.\n"
     ]
    },
    {
     "name": "stderr",
     "output_type": "stream",
     "text": [
      "Processing files:  90%|█████████ | 365/404 [2:18:09<23:02, 35.44s/it]"
     ]
    },
    {
     "name": "stdout",
     "output_type": "stream",
     "text": [
      "['<|startoftranscript|><|zh|><|transcribe|><|notimestamps|>看完這個短片之後是想要成為更好的人吧因為這個短片給我的感覺就是<|endoftext|>']\n",
      "[file 371] starts.\n",
      "[file 371] completed.\n"
     ]
    },
    {
     "name": "stderr",
     "output_type": "stream",
     "text": [
      "Processing files:  91%|█████████ | 366/404 [2:18:47<22:58, 36.28s/it]"
     ]
    },
    {
     "name": "stdout",
     "output_type": "stream",
     "text": [
      "['<|startoftranscript|><|zh|><|transcribe|><|notimestamps|>嗯 是的嗯 就是 嗯 覺得我們會有無限的可能吧<|endoftext|>']\n",
      "[file 374] starts.\n",
      "[file 374] completed.\n"
     ]
    },
    {
     "name": "stderr",
     "output_type": "stream",
     "text": [
      "Processing files:  91%|█████████ | 367/404 [2:19:09<19:36, 31.81s/it]"
     ]
    },
    {
     "name": "stdout",
     "output_type": "stream",
     "text": [
      "['<|startoftranscript|><|nn|><|transcribe|><|notimestamps|>嗯,是有感觉的。感觉有点红的音乐吧,这种感觉这个影片看着挺感人的。<|endoftext|>']\n",
      "[file 369] starts.\n",
      "[file 369] completed.\n"
     ]
    },
    {
     "name": "stderr",
     "output_type": "stream",
     "text": [
      "Processing files:  91%|█████████ | 368/404 [2:19:12<13:52, 23.13s/it]"
     ]
    },
    {
     "name": "stdout",
     "output_type": "stream",
     "text": [
      "['<|startoftranscript|><|zh|><|transcribe|><|notimestamps|>首先我相信人性本善但是在一定的情况之下我不敢去揣测人性人性是不可以测量的我相信大部分的人是善良的是在于身边的人都是温暖的情况下而一些人性的丑恶在一些极端的情况下反而也会被人性所伤害<|endoftext|>']\n",
      "[file 358] starts.\n",
      "[file 358] completed.\n"
     ]
    },
    {
     "name": "stderr",
     "output_type": "stream",
     "text": [
      "Processing files:  91%|█████████▏| 369/404 [2:19:12<09:31, 16.32s/it]"
     ]
    },
    {
     "name": "stdout",
     "output_type": "stream",
     "text": [
      "['<|startoftranscript|><|zh|><|transcribe|><|notimestamps|>我觉得是有的比如说就是他哥哥在被一拳一拳的打就是打他一拳的时候那种时候我是比较紧张的就是感觉有一种好像是打在自己身上的感觉然后后面他哥哥重新又把那个洋娃娃拿给他妹妹的时候我觉得这种时候就是一个比较相对来说比较感人的一个场面吧<|endoftext|>']\n",
      "[file 353] starts.\n",
      "[file 353] completed.\n"
     ]
    },
    {
     "name": "stderr",
     "output_type": "stream",
     "text": [
      "Processing files:  92%|█████████▏| 370/404 [2:20:10<16:23, 28.91s/it]"
     ]
    },
    {
     "name": "stdout",
     "output_type": "stream",
     "text": [
      "['<|startoftranscript|><|zh|><|transcribe|><|notimestamps|>在看完这个影片以后,在看影片之前,我也是一直想要成为一个更好的人。人生一辈子很长,我们都应该在此基础上一步一步成为一个更好的我们。我不想在观看这部影片以后是个人启发。影片中的人想要保持自己的初心更善良,<|endoftext|>']\n",
      "[file 359] starts.\n",
      "[file 359] completed.\n"
     ]
    },
    {
     "name": "stderr",
     "output_type": "stream",
     "text": [
      "Processing files:  92%|█████████▏| 371/404 [2:20:59<19:12, 34.94s/it]"
     ]
    },
    {
     "name": "stdout",
     "output_type": "stream",
     "text": [
      "['<|startoftranscript|><|zh|><|transcribe|><|notimestamps|>我也许想到想要成为一个更好的人看完这个短片之后我可能觉得我需要练一练我的教师用语因为我是示范师然后我想一下就是需要针对学生的特点来控制自己的一些<|endoftext|>']\n",
      "[file 367] starts.\n",
      "[file 367] completed.\n"
     ]
    },
    {
     "name": "stderr",
     "output_type": "stream",
     "text": [
      "Processing files:  92%|█████████▏| 372/404 [2:21:39<19:18, 36.21s/it]"
     ]
    },
    {
     "name": "stdout",
     "output_type": "stream",
     "text": [
      "['<|startoftranscript|><|zh|><|transcribe|><|notimestamps|>最强烈的印象就是这个老师虽然教数学但是他有呢啰不分的这么一个语音表达上的问题就是哪里他是哪里可能在他的发言当中呢啰没有区分没有区分意义没有这个区分的标准吧这个是对我印象比较深刻的地方<|endoftext|>']\n",
      "[file 360] starts.\n",
      "[file 360] completed.\n"
     ]
    },
    {
     "name": "stderr",
     "output_type": "stream",
     "text": [
      "Processing files:  92%|█████████▏| 373/404 [2:21:39<13:12, 25.57s/it]"
     ]
    },
    {
     "name": "stdout",
     "output_type": "stream",
     "text": [
      "['<|startoftranscript|><|zh|><|transcribe|><|notimestamps|>最强烈的印象就是他说什么我们是没有期限的不要随便定义吧然后这种感觉挺振奋人心的<|endoftext|>']\n",
      "[file 372] starts.\n",
      "[file 372] completed.\n"
     ]
    },
    {
     "name": "stderr",
     "output_type": "stream",
     "text": [
      "Processing files:  93%|█████████▎| 374/404 [2:23:23<24:31, 49.04s/it]"
     ]
    },
    {
     "name": "stdout",
     "output_type": "stream",
     "text": [
      "['<|startoftranscript|><|zh|><|transcribe|><|notimestamps|>在影片中给我最强烈的印象是哥哥搭到了被然后爬起来我觉得很感动但是我觉得应该<|endoftext|>']\n",
      "[file 376] starts.\n",
      "[file 376] completed.\n"
     ]
    },
    {
     "name": "stderr",
     "output_type": "stream",
     "text": [
      "Processing files:  93%|█████████▎| 375/404 [2:23:27<17:09, 35.51s/it]"
     ]
    },
    {
     "name": "stdout",
     "output_type": "stream",
     "text": [
      "['<|startoftranscript|><|zh|><|transcribe|><|notimestamps|>对人性的感觉<|endoftext|>']\n",
      "[file 386] starts.\n",
      "[file 386] completed.\n"
     ]
    },
    {
     "name": "stderr",
     "output_type": "stream",
     "text": [
      "Processing files:  93%|█████████▎| 376/404 [2:23:30<11:59, 25.69s/it]"
     ]
    },
    {
     "name": "stdout",
     "output_type": "stream",
     "text": [
      "['<|startoftranscript|><|zh|><|transcribe|><|notimestamps|>我会想要成为一名更好的教师如果就仅针对这部影片来看的话我会很注重在课堂上的教学语言的使用现在在进行口头会大家可能不会特别注重自己的语音语调发音这些但是在课堂教学上那肯定要拿出一个老师应该有的样子<|endoftext|>']\n",
      "[file 363] starts.\n",
      "[file 363] completed.\n"
     ]
    },
    {
     "name": "stderr",
     "output_type": "stream",
     "text": [
      "Processing files:  93%|█████████▎| 377/404 [2:23:31<08:15, 18.35s/it]"
     ]
    },
    {
     "name": "stdout",
     "output_type": "stream",
     "text": [
      "['<|startoftranscript|><|zh|><|transcribe|><|notimestamps|>因为我之前是看过这等片的,所以情绪之前会比较强烈一点,现在的话就是感觉心跳比较快,就是挺激动的。<|endoftext|>']\n",
      "[file 373] starts.\n",
      "[file 373] completed.\n"
     ]
    },
    {
     "name": "stderr",
     "output_type": "stream",
     "text": [
      "Processing files:  94%|█████████▎| 378/404 [2:23:40<06:44, 15.56s/it]"
     ]
    },
    {
     "name": "stdout",
     "output_type": "stream",
     "text": [
      "['<|startoftranscript|><|zh|><|transcribe|><|notimestamps|>想要成为一个更好的人因为我是学集团级的然后大家都知道35岁是一个极限嘛所以我也想能不能突破这个极限<|endoftext|>']\n",
      "[file 375] starts.\n",
      "[file 375] completed.\n"
     ]
    },
    {
     "name": "stderr",
     "output_type": "stream",
     "text": [
      "Processing files:  94%|█████████▍| 379/404 [2:25:50<20:45, 49.81s/it]"
     ]
    },
    {
     "name": "stdout",
     "output_type": "stream",
     "text": [
      "['<|startoftranscript|><|zh|><|transcribe|><|notimestamps|>没有<|endoftext|>']\n",
      "[file 389] starts.\n",
      "[file 389] completed.\n"
     ]
    },
    {
     "name": "stderr",
     "output_type": "stream",
     "text": [
      "Processing files:  94%|█████████▍| 380/404 [2:27:14<24:03, 60.16s/it]"
     ]
    },
    {
     "name": "stdout",
     "output_type": "stream",
     "text": [
      "['<|startoftranscript|><|zh|><|transcribe|><|notimestamps|>看完这部短片以后,我没有觉得这世界上的人们实在很好只能说人性本善,但是在一定的数位条件之下人们的欲望,还有一些残酷的事情还是会发生<|endoftext|>']\n",
      "[file 378] starts.\n",
      "[file 378] completed.\n"
     ]
    },
    {
     "name": "stderr",
     "output_type": "stream",
     "text": [
      "Processing files:  94%|█████████▍| 381/404 [2:27:52<20:26, 53.33s/it]"
     ]
    },
    {
     "name": "stdout",
     "output_type": "stream",
     "text": [
      "['<|startoftranscript|><|zh|><|transcribe|><|notimestamps|>有试图流泪的现象还有起鸡皮疙瘩时那个刚开始的方的哥哥被打出血让我想到收上他被寄生虫误侵的一个现象其他的类似的主题片太多了<|endoftext|>']\n",
      "[file 377] starts.\n",
      "[file 377] completed.\n"
     ]
    },
    {
     "name": "stderr",
     "output_type": "stream",
     "text": [
      "Processing files:  95%|█████████▍| 382/404 [2:28:24<17:18, 47.20s/it]"
     ]
    },
    {
     "name": "stdout",
     "output_type": "stream",
     "text": [
      "['<|startoftranscript|><|zh|><|transcribe|><|notimestamps|>实在是吗?对人生的感觉如何?没有觉得世界上的人实在是很好但是觉得但是觉得小孩子还不错当个小孩子还不错还是有比较单纯<|endoftext|>']\n",
      "[file 390] starts.\n",
      "[file 390] completed.\n"
     ]
    },
    {
     "name": "stderr",
     "output_type": "stream",
     "text": [
      "Processing files:  95%|█████████▍| 383/404 [2:28:45<13:41, 39.12s/it]"
     ]
    },
    {
     "name": "stdout",
     "output_type": "stream",
     "text": [
      "['<|startoftranscript|><|zh|><|transcribe|><|notimestamps|>最强烈的印象是那个老师的普通话不太标准有一点发音上的问题让我觉得很好玩然后他讲课的内容就是很简单然后觉得很轻松很有意思然后就觉得很开心<|endoftext|>']\n",
      "[file 388] starts.\n",
      "[file 388] completed.\n"
     ]
    },
    {
     "name": "stderr",
     "output_type": "stream",
     "text": [
      "Processing files:  95%|█████████▌| 384/404 [2:29:25<13:09, 39.49s/it]"
     ]
    },
    {
     "name": "stdout",
     "output_type": "stream",
     "text": [
      "['<|startoftranscript|><|zh|><|transcribe|><|notimestamps|>我以后想要肯定是想要成为一个更好更强的人因为这样才能像哥哥一样保护妹妹或者是如果我是这样的妹妹我就可以保护更好的哥哥有什么想做的事情肯定是先好好完成自己的学业然后从事跟教师方面有关的事情在教学当中<|endoftext|>']\n",
      "[file 379] starts.\n",
      "[file 379] completed.\n"
     ]
    },
    {
     "name": "stderr",
     "output_type": "stream",
     "text": [
      "Processing files:  95%|█████████▌| 385/404 [2:29:37<09:55, 31.33s/it]"
     ]
    },
    {
     "name": "stdout",
     "output_type": "stream",
     "text": [
      "['<|startoftranscript|><|zh|><|transcribe|><|notimestamps|>哪些地方给你最强烈的印象及情绪感受?描述这些片段及当下您的情绪及感受?老师的方言哪些图形?还有就是老师的节奏就是讲课老师的节奏特别的缓慢然后给我的感觉<|endoftext|>']\n",
      "[file 380] starts.\n",
      "[file 380] completed.\n"
     ]
    },
    {
     "name": "stderr",
     "output_type": "stream",
     "text": [
      "Processing files:  96%|█████████▌| 386/404 [2:30:11<09:35, 31.99s/it]"
     ]
    },
    {
     "name": "stdout",
     "output_type": "stream",
     "text": [
      "['<|startoftranscript|><|zh|><|transcribe|><|notimestamps|>再看完这个短片之后,我想要成为一个更好的人更好的人,在剧里面要说有什么想要做的事情想要做的事情就是找一个时间然后悠悠哉哉的去晒个太阳吧感觉这个节奏很舒服<|endoftext|>']\n",
      "[file 383] starts.\n",
      "[file 383] completed.\n"
     ]
    },
    {
     "name": "stderr",
     "output_type": "stream",
     "text": [
      "Processing files:  96%|█████████▌| 387/404 [2:30:27<07:42, 27.21s/it]"
     ]
    },
    {
     "name": "stdout",
     "output_type": "stream",
     "text": [
      "['<|startoftranscript|><|zh|><|transcribe|><|notimestamps|>有吧看完这部短片之后想想上B站听一些课因为之前听说B站有一些外国大学的课一直收藏了没有听看这个老师说完之后就有点想上课了<|endoftext|>']\n",
      "[file 391] starts.\n",
      "[file 391] completed.\n"
     ]
    },
    {
     "name": "stderr",
     "output_type": "stream",
     "text": [
      "Processing files:  96%|█████████▌| 388/404 [2:30:30<05:20, 20.02s/it]"
     ]
    },
    {
     "name": "stdout",
     "output_type": "stream",
     "text": [
      "['<|startoftranscript|><|zh|><|transcribe|><|notimestamps|>给我最强烈的印象是苏炳天的外籍教练说他是一个有很强大意志的人当时我觉得特别的感动因为我现在个人的学习生活其实不太好然后我就一直不知道该怎么办然后看到苏炳天他的教练如此评价他<|endoftext|>']\n",
      "[file 384] starts.\n",
      "[file 384] completed.\n"
     ]
    },
    {
     "name": "stderr",
     "output_type": "stream",
     "text": [
      "Processing files:  96%|█████████▋| 389/404 [2:31:01<05:48, 23.20s/it]"
     ]
    },
    {
     "name": "stdout",
     "output_type": "stream",
     "text": [
      "['<|startoftranscript|><|zh|><|transcribe|><|notimestamps|>我觉得看完之后可能有一点想要流眼泪因为中间有一段非常的就是非常的令人感动非常让人温暖还有就是可能在最后的时候主人公就是战胜了自己的主人公<|endoftext|>']\n",
      "[file 393] starts.\n",
      "[file 393] completed.\n"
     ]
    },
    {
     "name": "stderr",
     "output_type": "stream",
     "text": [
      "Processing files:  97%|█████████▋| 390/404 [2:31:27<05:37, 24.12s/it]"
     ]
    },
    {
     "name": "stdout",
     "output_type": "stream",
     "text": [
      "['<|startoftranscript|><|zh|><|transcribe|><|notimestamps|>看完这段影片后,我希望人家世上的人们实在很好。人家善良的经历当中,现在对人家感受怎么样?确实会有这方面的感受吧。人家世上实在是很好。我不知道这个好是啥意思,是否都很善良。我只是觉得都很温柔。<|endoftext|>']\n",
      "[file 382] starts.\n",
      "[file 382] completed.\n"
     ]
    },
    {
     "name": "stderr",
     "output_type": "stream",
     "text": [
      "Processing files:  97%|█████████▋| 391/404 [2:32:38<08:16, 38.19s/it]"
     ]
    },
    {
     "name": "stdout",
     "output_type": "stream",
     "text": [
      "['<|startoftranscript|><|zh|><|transcribe|><|notimestamps|>有一点生理反应吧就是有一点想哭因为我觉得苏炳天他32岁嘛按照一个运动员来说这个时候的那个身体素质已经不行了但是他还是一方面他想要用自己的努力去为国家队争光另一方面就算是自己不行也要让别人才能看见<|endoftext|>']\n",
      "[file 385] starts.\n",
      "[file 385] completed.\n"
     ]
    },
    {
     "name": "stderr",
     "output_type": "stream",
     "text": [
      "Processing files:  97%|█████████▋| 392/404 [2:32:46<05:50, 29.18s/it]"
     ]
    },
    {
     "name": "stdout",
     "output_type": "stream",
     "text": [
      "['<|startoftranscript|><|zh|><|transcribe|><|notimestamps|>我觉得我有这种感觉因为影片当中体现出来的亲情爱和鼓励让我觉得世界是很美好的然后人们是非常善良的因为影片当中体现的是哥哥对妹妹的一种亲情<|endoftext|>']\n",
      "[file 394] starts.\n",
      "[file 394] completed.\n"
     ]
    },
    {
     "name": "stderr",
     "output_type": "stream",
     "text": [
      "Processing files:  97%|█████████▋| 393/404 [2:32:53<04:08, 22.60s/it]"
     ]
    },
    {
     "name": "stdout",
     "output_type": "stream",
     "text": [
      "['<|startoftranscript|><|zh|><|transcribe|><|notimestamps|>看完这段影片后医生说感觉有些生理反应因为胸口后期也留了几个鼻子没有生理反应说请说明一下表演的生理生理反应感觉到胸口温暖那也是对胸口感觉很温暖因为老师说话的节奏非常的缓慢然后就不会觉得很急躁很舒服<|endoftext|>']\n",
      "[file 381] starts.\n",
      "[file 381] completed.\n"
     ]
    },
    {
     "name": "stderr",
     "output_type": "stream",
     "text": [
      "Processing files:  98%|█████████▊| 394/404 [2:32:57<02:50, 17.01s/it]"
     ]
    },
    {
     "name": "stdout",
     "output_type": "stream",
     "text": [
      "['<|startoftranscript|><|zh|><|transcribe|><|notimestamps|>当然会想要成为一个更好的人都说都说把娘精神的嘛然后苏炳天都能在32岁的时候不断的不断的锻炼自己锻炼自己的能力锻炼自己的技巧然后努力的让自己跑得更好我一个18岁的人为什么不能更好有什么想要做的事情<|endoftext|>']\n",
      "[file 387] starts.\n",
      "[file 387] completed.\n"
     ]
    },
    {
     "name": "stderr",
     "output_type": "stream",
     "text": [
      "Processing files:  98%|█████████▊| 395/404 [2:33:02<01:58, 13.20s/it]"
     ]
    },
    {
     "name": "stdout",
     "output_type": "stream",
     "text": [
      "['<|startoftranscript|><|nn|><|transcribe|><|notimestamps|>不是所有人都是善良的。嗯,也……咋说呢?<|endoftext|>']\n",
      "[file 402] starts.\n",
      "[file 402] completed.\n"
     ]
    },
    {
     "name": "stderr",
     "output_type": "stream",
     "text": [
      "Processing files:  98%|█████████▊| 396/404 [2:33:02<01:14,  9.36s/it]"
     ]
    },
    {
     "name": "stdout",
     "output_type": "stream",
     "text": [
      "['<|startoftranscript|><|zh|><|transcribe|><|notimestamps|>生理反应的话,我的眼眶会有一点点冲淫着泪水然后剩下倒霉了<|endoftext|>']\n",
      "[file 397] starts.\n",
      "[file 397] completed.\n"
     ]
    },
    {
     "name": "stderr",
     "output_type": "stream",
     "text": [
      "Processing files:  98%|█████████▊| 397/404 [2:33:03<00:47,  6.80s/it]"
     ]
    },
    {
     "name": "stdout",
     "output_type": "stream",
     "text": [
      "['<|startoftranscript|><|zh|><|transcribe|><|notimestamps|>最强烈的印象可能是一种感动刚开始的时候第一个镜头出现是一张被打得很惨的脸然后当时有一点害怕后面大概看完这个故事之后呢带给我的是满满的感动因为故事当中的主人公为了养活妹妹<|endoftext|>']\n",
      "[file 392] starts.\n",
      "[file 392] completed.\n"
     ]
    },
    {
     "name": "stderr",
     "output_type": "stream",
     "text": [
      "Processing files:  99%|█████████▊| 398/404 [2:33:07<00:34,  5.83s/it]"
     ]
    },
    {
     "name": "stdout",
     "output_type": "stream",
     "text": [
      "['<|startoftranscript|><|zh|><|transcribe|><|notimestamps|>没有喉咙感觉有一点起鸡皮疙瘩也有可能是因为冷<|endoftext|>']\n",
      "[file 401] starts.\n",
      "[file 401] completed.\n"
     ]
    },
    {
     "name": "stderr",
     "output_type": "stream",
     "text": [
      "Processing files:  99%|█████████▉| 399/404 [2:33:11<00:26,  5.33s/it]"
     ]
    },
    {
     "name": "stdout",
     "output_type": "stream",
     "text": [
      "['<|startoftranscript|><|zh|><|transcribe|><|notimestamps|>我没有会因为这部短片想要成为一个更好的人有什么想要做的事没有<|endoftext|>']\n",
      "[file 403] starts.\n",
      "[file 403] completed.\n"
     ]
    },
    {
     "name": "stderr",
     "output_type": "stream",
     "text": [
      "Processing files:  99%|█████████▉| 400/404 [2:33:16<00:21,  5.28s/it]"
     ]
    },
    {
     "name": "stdout",
     "output_type": "stream",
     "text": [
      "['<|startoftranscript|><|zh|><|transcribe|><|notimestamps|>和幼幼回到一起强烈的印象强烈的印象他回到家以后吧走向他妈妈的时候<|endoftext|>']\n",
      "[file 400] starts.\n",
      "[file 400] completed.\n"
     ]
    },
    {
     "name": "stderr",
     "output_type": "stream",
     "text": [
      "Processing files:  99%|█████████▉| 401/404 [2:33:19<00:13,  4.63s/it]"
     ]
    },
    {
     "name": "stdout",
     "output_type": "stream",
     "text": [
      "['<|startoftranscript|><|zh|><|transcribe|><|notimestamps|>我想要成为一个更好的人想做的事就是好好陪家人吧陪家人在自己有时间有精力的时候陪他们去做一些事情和自己喜欢的人<|endoftext|>']\n",
      "[file 399] starts.\n",
      "[file 399] completed.\n"
     ]
    },
    {
     "name": "stderr",
     "output_type": "stream",
     "text": [
      "Processing files: 100%|█████████▉| 402/404 [2:33:26<00:10,  5.31s/it]"
     ]
    },
    {
     "name": "stdout",
     "output_type": "stream",
     "text": [
      "['<|startoftranscript|><|zh|><|transcribe|><|notimestamps|>有让我有一种就是我现在很想给我爸爸或者妈妈打一个电话然后就是我应该要珍惜跟自己家人在一起的时光然后跟自己周围人在一起的时光因为影片所传达的一个意义就是说你应该要跟你爱的人<|endoftext|>']\n",
      "[file 395] starts.\n",
      "[file 395] completed.\n"
     ]
    },
    {
     "name": "stderr",
     "output_type": "stream",
     "text": [
      "Processing files: 100%|█████████▉| 403/404 [2:33:27<00:03,  3.93s/it]"
     ]
    },
    {
     "name": "stdout",
     "output_type": "stream",
     "text": [
      "['<|startoftranscript|><|zh|><|transcribe|><|notimestamps|>我觉得最强烈的印象应该是影片中的最后一幕她哥哥被打倒但是她看见哭泣的妹妹还是站起来然后变结然后看见哭泣的妹妹还有以前的房坝就逗她笑<|endoftext|>']\n",
      "[file 396] starts.\n",
      "[file 396] completed.\n"
     ]
    },
    {
     "name": "stderr",
     "output_type": "stream",
     "text": [
      "Processing files: 100%|██████████| 404/404 [2:33:29<00:00, 22.80s/it]"
     ]
    },
    {
     "name": "stdout",
     "output_type": "stream",
     "text": [
      "['<|startoftranscript|><|zh|><|transcribe|><|notimestamps|>我觉得这世上的人有好有坏吧就像是人之初性本善大家可能都是好的然后就是出生下来都是一张白纸但是经过后天的环境的影响然后可能对性格的塑造方面所以就是很不相同的然后<|endoftext|>']\n",
      "[file 398] starts.\n",
      "[file 398] completed.\n"
     ]
    },
    {
     "name": "stderr",
     "output_type": "stream",
     "text": [
      "\n"
     ]
    }
   ],
   "source": [
    "import os\n",
    "import pandas as pd\n",
    "import pickle\n",
    "from concurrent.futures import ThreadPoolExecutor, as_completed\n",
    "from tqdm import tqdm\n",
    "import time\n",
    "\n",
    "# Path to cache folder\n",
    "cache_folder = r\"D:\\Programming3\\psychai\\example\\paper5_mmer_moral\\results\\speech_text\\cache\"\n",
    "os.makedirs(cache_folder, exist_ok=True)  # Ensure cache folder exists\n",
    "\n",
    "# Function to process each file with caching\n",
    "def process_file(row):\n",
    "    audio_file_path = row['files']\n",
    "    cache_file_path = os.path.join(cache_folder, f\"{os.path.basename(audio_file_path)}.pkl\")\n",
    "    \n",
    "    # Check if the cache file exists\n",
    "    if os.path.exists(cache_file_path):\n",
    "        # Load the cached result\n",
    "        with open(cache_file_path, 'rb') as cache_file:\n",
    "            text = pickle.load(cache_file)\n",
    "    else:\n",
    "        # Run the speech-to-text processing and save to cache\n",
    "        text = speech_to_text_extractor.process_audio_with_file_path(audio_file_path)\n",
    "        text = clean_text(text)\n",
    "        \n",
    "        # Save the result to a cache file\n",
    "        with open(cache_file_path, 'wb') as cache_file:\n",
    "            pickle.dump(text, cache_file)\n",
    "\n",
    "    # Return the text result for adding to DataFrame\n",
    "    return text\n",
    "\n",
    "# Apply parallel processing with progress tracking\n",
    "def process_files_in_parallel(df):\n",
    "    # Add a \"text\" column to the DataFrame to store results\n",
    "    df['text'] = None\n",
    "    \n",
    "    # Use ThreadPoolExecutor for parallel processing\n",
    "    with ThreadPoolExecutor() as executor:\n",
    "        futures = {executor.submit(process_file, row): idx for idx, row in df.iterrows()}\n",
    "        \n",
    "        # Use tqdm for a progress bar\n",
    "        for future in tqdm(as_completed(futures), total=len(futures), desc=\"Processing files\"):\n",
    "            idx = futures[future]\n",
    "            try:\n",
    "                print(f\"[file {idx}] starts.\")\n",
    "                # Update the 'text' column with the result\n",
    "                df.at[idx, 'text'] = future.result()\n",
    "                print(f\"[file {idx}] completed.\")\n",
    "            except Exception as e:\n",
    "                print(f\"Error processing file at index {idx}: {e}\")\n",
    "\n",
    "    return df\n",
    "\n",
    "# Run the processing function\n",
    "df_largest = process_files_in_parallel(df_largest)\n",
    "df_largest.to_csv(r\"D:\\Programming3\\psychai\\example\\paper5_mmer_moral\\results\\speech_text\\csv\\result_20241107.csv\")"
   ]
  },
  {
   "cell_type": "markdown",
   "metadata": {},
   "source": [
    "## Footnote\n",
    "- Copyright：Ivan Liu \n",
    "- Last Update: 2024\n",
    "- Env：psychai241104\n",
    "- References: \n",
    "    - None"
   ]
  }
 ],
 "metadata": {
  "kernelspec": {
   "display_name": "psychai241104",
   "language": "python",
   "name": "python3"
  },
  "language_info": {
   "codemirror_mode": {
    "name": "ipython",
    "version": 3
   },
   "file_extension": ".py",
   "mimetype": "text/x-python",
   "name": "python",
   "nbconvert_exporter": "python",
   "pygments_lexer": "ipython3",
   "version": "3.12.1"
  }
 },
 "nbformat": 4,
 "nbformat_minor": 2
}
